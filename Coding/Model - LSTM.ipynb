{
 "cells": [
  {
   "cell_type": "markdown",
   "metadata": {},
   "source": [
    "## Perform standard imports"
   ]
  },
  {
   "cell_type": "code",
   "execution_count": null,
   "metadata": {
    "collapsed": true
   },
   "outputs": [],
   "source": [
    "import torch\n",
    "import torch.nn as nn\n",
    "\n",
    "import numpy as np\n",
    "import pandas as pd\n",
    "import matplotlib.pyplot as plt\n",
    "%matplotlib inline\n",
    "\n",
    "from sklearn.metrics import mean_absolute_error\n",
    "from sklearn.metrics import mean_squared_error\n",
    "\n",
    "# This relates to plotting datetime values with matplotlib:\n",
    "from pandas.plotting import register_matplotlib_converters\n",
    "register_matplotlib_converters()"
   ]
  },
  {
   "cell_type": "markdown",
   "metadata": {},
   "source": [
    "## Load the dataset"
   ]
  },
  {
   "cell_type": "code",
   "execution_count": null,
   "metadata": {},
   "outputs": [],
   "source": [
    "\n",
    "df = pd.read_csv('Datasets/stack_dataset_long.csv',index_col=0,parse_dates=True)\n",
    "len(df)"
   ]
  },
  {
   "cell_type": "markdown",
   "metadata": {},
   "source": [
    "## Plotting time series data"
   ]
  },
  {
   "cell_type": "code",
   "execution_count": null,
   "metadata": {},
   "outputs": [],
   "source": [
    "from datetime import datetime, timedelta\n",
    "t = np.arange(np.datetime64('2022-06-01'), np.datetime64('2022-07-14'),step=7)\n",
    "t"
   ]
  },
  {
   "cell_type": "code",
   "execution_count": null,
   "metadata": {},
   "outputs": [],
   "source": [
    "fig, ax = plt.subplots()\n",
    "ax.plot(df['price'],c='red')\n",
    "ax.grid()\n",
    "ax.set_xticks(t)\n",
    "\n",
    "ax.tick_params(axis='x', labelsize=10)\n",
    "ax.tick_params(axis='y', labelsize=10)\n",
    "ax.spines['top'].set_visible(False)\n",
    "ax.spines['right'].set_visible(False)\n",
    "ax.spines['bottom'].set_visible(False)\n",
    "ax.spines['left'].set_visible(False)\n",
    "ax.set_xlabel('Date')\n",
    "ax.set_ylabel('Price (USD)')\n",
    "\n",
    "plt.xticks(rotation = 0)\n",
    "plt.rcParams['figure.figsize'] = [8, 4]\n",
    "#plt.show()\n",
    "#plt.savefig('../Write-Up/CHAPTER_5/bitcoin_price_python_inf.png', format='png',dpi=600)\n",
    "\n",
    "plt.show()"
   ]
  },
  {
   "cell_type": "markdown",
   "metadata": {},
   "source": [
    "## Prepare the data\n"
   ]
  },
  {
   "cell_type": "code",
   "execution_count": null,
   "metadata": {
    "collapsed": true
   },
   "outputs": [],
   "source": [
    "# Extract values from the source .csv file\n",
    "y = df['price'].values.astype(float)\n",
    "X = df[['tweet_count','tweet_gt','POS','NEG','NEU','price']].values.astype(float)\n",
    "\n",
    "# Define a test size\n",
    "test_size = 24\n",
    "\n",
    "# Create train and test sets\n",
    "train_set = X[:-test_size]\n",
    "test_set = X[-test_size:]"
   ]
  },
  {
   "cell_type": "markdown",
   "metadata": {},
   "source": [
    "### Normalize the data\n"
   ]
  },
  {
   "cell_type": "code",
   "execution_count": null,
   "metadata": {
    "collapsed": true
   },
   "outputs": [],
   "source": [
    "from sklearn.preprocessing import MinMaxScaler\n",
    "\n",
    "# Instantiate a scaler with a feature range from -1 to 1\n",
    "scaler = MinMaxScaler(feature_range=(-1, 1))"
   ]
  },
  {
   "cell_type": "code",
   "execution_count": null,
   "metadata": {
    "collapsed": true
   },
   "outputs": [],
   "source": [
    "# Normalize the training set\n",
    "train_norm = scaler.fit_transform(train_set.reshape(-1, 6))"
   ]
  },
  {
   "cell_type": "markdown",
   "metadata": {},
   "source": [
    "## Prepare data for LSTM Model"
   ]
  },
  {
   "cell_type": "code",
   "execution_count": null,
   "metadata": {},
   "outputs": [],
   "source": [
    "# Convert train_norm from an array to a tensor\n",
    "#train_norm = torch.FloatTensor(train_norm).view(-1)\n",
    "train_norm = torch.FloatTensor(train_norm)\n",
    "\n",
    "# Define a window size\n",
    "window_size = 24\n",
    "\n",
    "# Define function to create seq/label tuples\n",
    "def input_data(seq,ws):  # ws is the window size\n",
    "    out = []\n",
    "    L = len(seq)\n",
    "    for i in range(L-ws):\n",
    "        window = seq[i:i+ws]\n",
    "        label = seq[i+ws:i+ws+1][0]\n",
    "        out.append((window,label))\n",
    "    return out\n",
    "\n",
    "# Apply the input_data function to train_norm\n",
    "train_data = input_data(train_norm,window_size)\n",
    "len(train_data) "
   ]
  },
  {
   "cell_type": "markdown",
   "metadata": {},
   "source": [
    "### Define the model"
   ]
  },
  {
   "cell_type": "code",
   "execution_count": null,
   "metadata": {
    "collapsed": true
   },
   "outputs": [],
   "source": [
    "class LSTMnetwork(nn.Module):\n",
    "    def __init__(self,input_size=6,hidden_size=50,output_size=6):\n",
    "        super().__init__()\n",
    "        self.hidden_size = hidden_size\n",
    "        \n",
    "        # Add an LSTM layer:\n",
    "        self.lstm = nn.LSTM(input_size,hidden_size)\n",
    "        \n",
    "        # Add a fully-connected layer:\n",
    "        self.linear = nn.Linear(hidden_size,output_size)\n",
    "        \n",
    "        # Initialize h0 and c0:\n",
    "        self.hidden = (torch.zeros(1,1,self.hidden_size),\n",
    "                       torch.zeros(1,1,self.hidden_size))\n",
    "\n",
    "    def forward(self,seq):\n",
    "        lstm_out, self.hidden = self.lstm(\n",
    "            seq.view(len(seq),1,-1), self.hidden)\n",
    "        pred = self.linear(lstm_out.view(len(seq),-1))\n",
    "        return pred[-1]  # we only want the last value"
   ]
  },
  {
   "cell_type": "markdown",
   "metadata": {},
   "source": [
    "### Instantiate the model, define loss and optimization functions"
   ]
  },
  {
   "cell_type": "code",
   "execution_count": null,
   "metadata": {},
   "outputs": [],
   "source": [
    "torch.manual_seed(101)\n",
    "model = LSTMnetwork()\n",
    "\n",
    "criterion = nn.MSELoss()\n",
    "optimizer = torch.optim.Adam(model.parameters(), lr=0.00001)\n",
    "\n",
    "model"
   ]
  },
  {
   "cell_type": "code",
   "execution_count": null,
   "metadata": {},
   "outputs": [],
   "source": [
    "def count_parameters(model):\n",
    "    params = [p.numel() for p in model.parameters() if p.requires_grad]\n",
    "    for item in params:\n",
    "        print(f'{item:>6}')\n",
    "    print(f'______\\n{sum(params):>6}')\n",
    "    \n",
    "count_parameters(model)"
   ]
  },
  {
   "cell_type": "markdown",
   "metadata": {},
   "source": [
    "### Train the model"
   ]
  },
  {
   "cell_type": "code",
   "execution_count": null,
   "metadata": {},
   "outputs": [],
   "source": [
    "epochs = 250\n",
    "\n",
    "loss_array = []\n",
    "track_array = []\n",
    "total_track_array = []\n",
    "\n",
    "import time\n",
    "start_time = time.time()\n",
    "\n",
    "for epoch in range(epochs):\n",
    "    \n",
    "    # extract the sequence & label from the training data\n",
    "    for seq, y_train in train_data:\n",
    "        \n",
    "        # reset the parameters and hidden states\n",
    "        optimizer.zero_grad()\n",
    "        model.hidden = (torch.zeros(1,1,model.hidden_size),\n",
    "                        torch.zeros(1,1,model.hidden_size))\n",
    "        \n",
    "        y_pred = model(seq)\n",
    "        track = model(seq).detach().numpy()\n",
    "        track_array.append(track)\n",
    "\n",
    "        loss = criterion(y_pred, y_train)\n",
    "        loss.backward()\n",
    "        optimizer.step()\n",
    "        \n",
    "    # print training result\n",
    "    loss_array = np.append(loss_array,loss.item())\n",
    "    total_track_array.append(track_array)\n",
    "    track_array = []\n",
    "    print(f'Epoch: {epoch+1:2} Loss: {loss.item():10.8f}')\n",
    "    \n",
    "print(f'\\nDuration: {time.time() - start_time:.0f} seconds')\n",
    "\n",
    "loss_array.tofile('loss_{}.csv'.format(datetime.now()),sep=',')"
   ]
  },
  {
   "cell_type": "markdown",
   "metadata": {},
   "source": [
    "### Plotting the loss over the epoch"
   ]
  },
  {
   "cell_type": "code",
   "execution_count": null,
   "metadata": {},
   "outputs": [],
   "source": [
    "loss_array[-1]"
   ]
  },
  {
   "cell_type": "code",
   "execution_count": null,
   "metadata": {},
   "outputs": [],
   "source": [
    "#Plotting the loss over the epoch\n",
    "fig, ax = plt.subplots()\n",
    "ax.plot(loss_array,c='orange')\n",
    "ax.grid()\n",
    "\n",
    "ax.tick_params(axis='x', labelsize=10)\n",
    "ax.tick_params(axis='y', labelsize=10)\n",
    "ax.spines['top'].set_visible(False)\n",
    "ax.spines['right'].set_visible(False)\n",
    "ax.spines['bottom'].set_visible(True)\n",
    "ax.spines['left'].set_visible(True)\n",
    "ax.set_xlabel('Epoch')\n",
    "ax.set_ylabel('Model Training Loss - MSE')\n",
    "plt.autoscale(axis='x',tight=True)\n",
    "plt.xticks(rotation = 0)\n",
    "plt.rcParams['figure.figsize'] = [8, 4]\n",
    "#plt.show()\n",
    "plt.savefig('../Write-Up/CHAPTER_5/LOSS_MODEL_MSE_inf.png', format='png',dpi=600)\n",
    "\n",
    "plt.show()\n"
   ]
  },
  {
   "cell_type": "code",
   "execution_count": null,
   "metadata": {},
   "outputs": [],
   "source": [
    "total_track_array = np.array(total_track_array)"
   ]
  },
  {
   "cell_type": "code",
   "execution_count": null,
   "metadata": {},
   "outputs": [],
   "source": [
    "def actual_pred_loss(element):\n",
    "    element = scaler.inverse_transform(element)\n",
    "    transform_array = []\n",
    "    for i in range(len(element)):\n",
    "        transform_array = np.append(transform_array,element[i][5])\n",
    "    \n",
    "    transform_array = np.array(transform_array)\n",
    "    error = mean_squared_error(df['price']['2022-06-02':'2022-07-12'],transform_array)\n",
    "    \n",
    "    return error,transform_array\n"
   ]
  },
  {
   "cell_type": "code",
   "execution_count": null,
   "metadata": {},
   "outputs": [],
   "source": [
    "act_loss = []\n",
    "act_pred = []\n",
    "for epoch in range(len(total_track_array)):\n",
    "   a,b = actual_pred_loss(total_track_array[epoch])\n",
    "   act_loss = np.append(act_loss,a**0.5)\n",
    "   act_pred.append(b)\n",
    "\n",
    "act_loss = np.array(act_loss)\n",
    "act_pred = np.array(act_pred)"
   ]
  },
  {
   "cell_type": "code",
   "execution_count": null,
   "metadata": {},
   "outputs": [],
   "source": [
    "fig, ax = plt.subplots()\n",
    "ax.plot(act_loss,c='orange')\n",
    "ax.grid()\n",
    "\n",
    "ax.tick_params(axis='x', labelsize=10)\n",
    "ax.tick_params(axis='y', labelsize=10)\n",
    "ax.spines['top'].set_visible(False)\n",
    "ax.spines['right'].set_visible(False)\n",
    "ax.spines['bottom'].set_visible(True)\n",
    "ax.spines['left'].set_visible(True)\n",
    "ax.set_xlabel('Epoch')\n",
    "ax.set_ylabel('Actual Training Loss (USD) - RMSE')\n",
    "plt.autoscale(axis='x',tight=True)\n",
    "plt.xticks(rotation = 0)\n",
    "plt.rcParams['figure.figsize'] = [8, 4]\n",
    "#plt.show()\n",
    "#plt.savefig('../Write-Up/CHAPTER_5/bitcoin_price_python_inf.png', format='png',dpi=600)\n",
    "\n",
    "plt.show()"
   ]
  },
  {
   "cell_type": "markdown",
   "metadata": {},
   "source": [
    "## Run predictions and compare to known test set"
   ]
  },
  {
   "cell_type": "code",
   "execution_count": null,
   "metadata": {},
   "outputs": [],
   "source": [
    "future = 24\n",
    "preds = train_norm[-window_size:].tolist()\n",
    "len(preds)"
   ]
  },
  {
   "cell_type": "code",
   "execution_count": null,
   "metadata": {
    "collapsed": true
   },
   "outputs": [],
   "source": [
    "future = 24\n",
    "\n",
    "# Add the last window of training values to the list of predictions\n",
    "preds = train_norm[-window_size:].tolist()\n",
    "\n",
    "# Set the model to evaluation mode\n",
    "model.eval()\n",
    "\n",
    "for i in range(future):\n",
    "    seq = torch.FloatTensor(preds[-window_size:])\n",
    "    with torch.no_grad():\n",
    "        model.hidden = (torch.zeros(1,1,model.hidden_size),\n",
    "                        torch.zeros(1,1,model.hidden_size))\n",
    "        preds.append(model(seq).numpy())"
   ]
  },
  {
   "cell_type": "markdown",
   "metadata": {},
   "source": [
    "### Invert the normalization"
   ]
  },
  {
   "cell_type": "code",
   "execution_count": null,
   "metadata": {},
   "outputs": [],
   "source": [
    "true_predictions = scaler.inverse_transform(np.array(preds[window_size:]).reshape(-1, 6))"
   ]
  },
  {
   "cell_type": "markdown",
   "metadata": {},
   "source": [
    "## Plot the results\n"
   ]
  },
  {
   "cell_type": "code",
   "execution_count": null,
   "metadata": {},
   "outputs": [],
   "source": [
    "import datetime\n",
    "from datetime import timedelta\n",
    "# Remember that the stop date has to be later than the last predicted value.\n",
    "#x = np.arange('2018-02-01', '2019-02-01',dtype='datetime64[M]').astype('datetime64[D]')\n",
    "x = pd.date_range(start='2022-07-13', end='2022-07-14',freq='H')[:-1]\n",
    "x2 = pd.date_range(start='2022-06-02', end='2022-07-13',freq='H')[:-1]"
   ]
  },
  {
   "cell_type": "code",
   "execution_count": null,
   "metadata": {},
   "outputs": [],
   "source": [
    "predicitons_array = []\n",
    "for i in range(len(true_predictions)):\n",
    "    predicitons_array = np.append(predicitons_array,true_predictions[i][5])"
   ]
  },
  {
   "cell_type": "code",
   "execution_count": null,
   "metadata": {},
   "outputs": [],
   "source": [
    "# plt.figure(figsize=(12,4))\n",
    "# plt.ylabel('Sales (millions of dollars)')\n",
    "# plt.grid(True)\n",
    "# plt.autoscale(axis='x',tight=True)\n",
    "# plt.plot(df['price'])\n",
    "# plt.plot(x,predicitons_array)\n",
    "# plt.show()\n",
    "\n",
    "\n",
    "\n",
    "\n",
    "#Plotting the loss over the epoch\n",
    "fig, ax = plt.subplots()\n",
    "ax.plot(df['price'],c='red',alpha=0.3,label='Actual')\n",
    "ax.plot(x,predicitons_array,c='green',label = 'Prediction')\n",
    "ax.plot(x2,act_pred[25],c='blue',label = 'Training')\n",
    "ax.grid()\n",
    "\n",
    "ax.tick_params(axis='x', labelsize=10)\n",
    "ax.tick_params(axis='y', labelsize=10)\n",
    "ax.spines['top'].set_visible(False)\n",
    "ax.spines['right'].set_visible(False)\n",
    "ax.spines['bottom'].set_visible(False)\n",
    "ax.spines['left'].set_visible(False)\n",
    "ax.set_xlabel('Epoch')\n",
    "ax.set_ylabel('Training Loss')\n",
    "plt.autoscale(axis='x',tight=True)\n",
    "plt.xticks(rotation = 0)\n",
    "plt.rcParams['figure.figsize'] = [8, 4]\n",
    "#plt.show()\n",
    "#plt.savefig('../Write-Up/CHAPTER_5/bitcoin_price_python_inf.png', format='png',dpi=600)\n",
    "plt.ylabel('Price (USD)')\n",
    "plt.xlabel('Date')\n",
    "plt.autoscale(axis='x',tight=True)\n",
    "plt.legend()\n",
    "plt.show()"
   ]
  },
  {
   "cell_type": "code",
   "execution_count": null,
   "metadata": {},
   "outputs": [],
   "source": [
    "# # Plot the end of the graph\n",
    "# fig = plt.figure(figsize=(12,4))\n",
    "# plt.title('Beer, Wine, and Alcohol Sales')\n",
    "# plt.ylabel('Sales (millions of dollars)')\n",
    "# plt.grid(True)\n",
    "# plt.autoscale(axis='x',tight=True)\n",
    "# fig.autofmt_xdate()\n",
    "\n",
    "# # Select the end of the graph with slice notation:\n",
    "# plt.plot(df['price']['2022-07-11':])\n",
    "# plt.plot(x,predicitons_array)\n",
    "# plt.show()\n",
    "\n",
    "#Plotting the loss over the epoch\n",
    "fig, ax = plt.subplots()\n",
    "ax.plot(df['price']['2022-07-11':],c='red',alpha=0.3,label='Actual')\n",
    "ax.plot(x,predicitons_array,c='green',label='Prediciton')\n",
    "ax.plot(x2[-48:],act_pred[-1][-48:],c='blue',label = 'Training')\n",
    "ax.grid()\n",
    "\n",
    "ax.tick_params(axis='x', labelsize=10)\n",
    "ax.tick_params(axis='y', labelsize=10)\n",
    "ax.spines['top'].set_visible(False)\n",
    "ax.spines['right'].set_visible(False)\n",
    "ax.spines['bottom'].set_visible(False)\n",
    "ax.spines['left'].set_visible(False)\n",
    "ax.set_xlabel('Epoch')\n",
    "ax.set_ylabel('Training Loss')\n",
    "plt.autoscale(axis='x',tight=True)\n",
    "plt.xticks(rotation = 0)\n",
    "plt.rcParams['figure.figsize'] = [8, 4]\n",
    "#plt.show()\n",
    "#plt.savefig('../Write-Up/CHAPTER_5/bitcoin_price_python_inf.png', format='png',dpi=600)\n",
    "plt.ylabel('Price (USD)')\n",
    "plt.xlabel('Date')\n",
    "plt.autoscale(axis='x',tight=True)\n",
    "plt.legend()\n",
    "plt.show()"
   ]
  },
  {
   "cell_type": "code",
   "execution_count": null,
   "metadata": {},
   "outputs": [],
   "source": [
    "msq_train = mean_squared_error(df['price']['2022-06-02':'2022-07-12'],act_pred[-1])**0.5\n",
    "msq_train"
   ]
  },
  {
   "cell_type": "code",
   "execution_count": null,
   "metadata": {},
   "outputs": [],
   "source": [
    "msq_test = mean_squared_error(df['price']['2022-07-13':],predicitons_array)**0.5\n",
    "msq_test"
   ]
  },
  {
   "cell_type": "markdown",
   "metadata": {},
   "source": [
    "#### Training RMSE\n",
    "$303.96\n",
    "#### Testing RMSE\n",
    "$324.69"
   ]
  },
  {
   "cell_type": "markdown",
   "metadata": {},
   "source": [
    "### Plotting Graphs"
   ]
  },
  {
   "cell_type": "code",
   "execution_count": null,
   "metadata": {},
   "outputs": [],
   "source": [
    "#Plotting the Model TRAINING loss over the epoch\n",
    "fig, ax = plt.subplots(2,1)\n",
    "\n",
    "ax[0].plot(loss_array,c='orange')\n",
    "ax[0].grid()\n",
    "\n",
    "ax[0].set_xlim([0,249])\n",
    "ax[0].tick_params(axis='x', labelsize=14)\n",
    "ax[0].tick_params(axis='y', labelsize=14)\n",
    "ax[0].spines['top'].set_visible(False)\n",
    "ax[0].spines['right'].set_visible(False)\n",
    "ax[0].spines['bottom'].set_visible(True)\n",
    "ax[0].spines['left'].set_visible(True)\n",
    "#ax[0].set_xlabel('Epoch')\n",
    "ax[0].set_ylabel('Model Training Loss - MSE',fontsize=14)\n",
    "\n",
    "\n",
    "ax[1].plot(act_loss,c='orange')\n",
    "ax[1].grid()\n",
    "\n",
    "ax[1].set_xlim([0,249])\n",
    "ax[1].tick_params(axis='x', labelsize=14)\n",
    "ax[1].tick_params(axis='y', labelsize=14)\n",
    "ax[1].spines['top'].set_visible(False)\n",
    "ax[1].spines['right'].set_visible(False)\n",
    "ax[1].spines['bottom'].set_visible(True)\n",
    "ax[1].spines['left'].set_visible(True)\n",
    "ax[1].set_xlabel('Epoch',fontsize=14)\n",
    "ax[1].set_ylabel('Actual Training Loss (USD) - RMSE',fontsize=14)\n",
    "\n",
    "\n",
    "plt.autoscale(axis='x',tight=True)\n",
    "plt.xticks(rotation = 0)\n",
    "plt.rcParams['figure.figsize'] = [10, 10]\n",
    "#plt.savefig('../Write-Up/CHAPTER_5/LOSS_MODEL_MSE_inf.png', format='png',dpi=1000)\n",
    "\n",
    "plt.show()\n"
   ]
  },
  {
   "cell_type": "code",
   "execution_count": null,
   "metadata": {},
   "outputs": [],
   "source": [
    "for i,item in enumerate(x2):\n",
    "    if (i%327==0):\n",
    "        print(i,item)"
   ]
  },
  {
   "cell_type": "code",
   "execution_count": null,
   "metadata": {},
   "outputs": [],
   "source": [
    "#Plotting Epoch Graphs\n",
    "xticks = ['2022-06-02','2022-06-15','2022-06-29','2022-07-12']\n",
    "yticks = [18000,20000,22000,24000,26000,28000,30000,32000]\n",
    "fig, ax = plt.subplots(2,2)\n",
    "\n",
    "ax[0,0].plot(df['price'],c='red',alpha=0.3,label='Actual')\n",
    "ax[0,0].plot(x2,act_pred[0],c='blue',label = 'Epoch 1')\n",
    "ax[0,0].grid()\n",
    "ax[0,0].set_xticks(xticks,labels=[])\n",
    "ax[0,0].tick_params(axis='y', labelsize=14)\n",
    "ax[0,0].spines['top'].set_visible(False)\n",
    "ax[0,0].spines['right'].set_visible(False)\n",
    "ax[0,0].spines['bottom'].set_visible(False)\n",
    "ax[0,0].spines['left'].set_visible(False)\n",
    "ax[0,0].set_ylabel('Price (USD)',fontsize=14)\n",
    "ax[0,0].legend(fontsize =14)\n",
    "\n",
    "\n",
    "ax[0,1].plot(df['price'],c='red',alpha=0.3,label='Actual')\n",
    "ax[0,1].plot(x2,act_pred[4],c='blue',label = 'Epoch 5')\n",
    "ax[0,1].grid()\n",
    "ax[0,1].set_xticks(xticks,labels=[])\n",
    "ax[0,1].set_yticks(yticks,labels=[])\n",
    "ax[0,1].tick_params(axis='y', labelsize=14)\n",
    "ax[0,1].spines['top'].set_visible(False)\n",
    "ax[0,1].spines['right'].set_visible(False)\n",
    "ax[0,1].spines['bottom'].set_visible(False)\n",
    "ax[0,1].spines['left'].set_visible(False)\n",
    "#ax[0,0].set_xlabel('Epoch')\n",
    "#ax[0,1].set_ylabel('Price (USD)')\n",
    "ax[0,1].legend(fontsize =14)\n",
    "\n",
    "ax[1,0].plot(df['price'],c='red',alpha=0.3,label='Actual')\n",
    "ax[1,0].plot(x2,act_pred[24],c='blue',label = 'Epoch 25')\n",
    "ax[1,0].grid()\n",
    "ax[1,0].set_xticks(xticks)\n",
    "ax[1,0].tick_params(axis='x', labelsize=14)\n",
    "ax[1,0].tick_params(axis='y', labelsize=14)\n",
    "ax[1,0].spines['top'].set_visible(False)\n",
    "ax[1,0].spines['right'].set_visible(False)\n",
    "ax[1,0].spines['bottom'].set_visible(False)\n",
    "ax[1,0].spines['left'].set_visible(False)\n",
    "ax[1,0].set_ylabel('Price (USD)', fontsize =14)\n",
    "ax[1,0].set_xlabel('Date',fontsize = 14)\n",
    "ax[1,0].legend(fontsize =14)\n",
    "\n",
    "\n",
    "ax[1,1].plot(df['price'],c='red',alpha=0.3,label='Actual')\n",
    "ax[1,1].plot(x2,act_pred[249],c='blue',label = 'Epoch 250')\n",
    "ax[1,1].grid()\n",
    "ax[1,1].set_xticks(xticks)\n",
    "ax[1,1].tick_params(axis='x', labelsize=14)\n",
    "ax[1,1].tick_params(axis='y', labelsize=14)\n",
    "ax[1,1].set_yticks(yticks,labels=[])\n",
    "ax[1,1].spines['top'].set_visible(False)\n",
    "ax[1,1].spines['right'].set_visible(False)\n",
    "ax[1,1].spines['bottom'].set_visible(False)\n",
    "ax[1,1].spines['left'].set_visible(False)\n",
    "#ax[0,0].set_xlabel('Epoch')\n",
    "#ax[0,1].set_ylabel('Price (USD)')\n",
    "ax[1,1].legend(fontsize = 14)\n",
    "ax[1,1].set_xlabel('Date',fontsize=14)\n",
    "\n",
    "plt.rcParams['figure.figsize'] = [16, 10]\n",
    "\n",
    "#plt.savefig('../Write-Up/CHAPTER_5/epoch_graph_inf.png', format='png',dpi=1000,bbox_inches='tight')\n",
    "plt.show()"
   ]
  },
  {
   "cell_type": "code",
   "execution_count": null,
   "metadata": {},
   "outputs": [],
   "source": [
    "### Side by Side comparison of Training, testing and actual\n",
    "fig, ax = plt.subplots(2,1)\n",
    "\n",
    "xticks_1 = ['2022-06-02','2022-06-15','2022-06-29','2022-07-12']\n",
    "ax[0].plot(df['price'],c='red',alpha=0.3,label='Actual')\n",
    "ax[0].plot(x,predicitons_array,c='green',label = 'Prediction')\n",
    "ax[0].plot(x2,act_pred[25],c='blue',label = 'Training')\n",
    "ax[0].grid()\n",
    "\n",
    "ax[0].set_xticks(xticks_1)\n",
    "ax[0].tick_params(axis='x', labelsize=14)\n",
    "ax[0].tick_params(axis='y', labelsize=14)\n",
    "ax[0].spines['top'].set_visible(False)\n",
    "ax[0].spines['right'].set_visible(False)\n",
    "ax[0].spines['bottom'].set_visible(False)\n",
    "ax[0].spines['left'].set_visible(False)\n",
    "#ax[0].set_xlabel('Epoch')\n",
    "ax[0].set_ylabel('Price (USD)',fontsize=14)\n",
    "ax[0].legend(fontsize=14)\n",
    "\n",
    "xticks_2 = ['2022-07-11','2022-07-12','2022-07-13','2022-07-14']\n",
    "ax[1].plot(df['price']['2022-07-11':],c='red',alpha=0.3,label='Actual')\n",
    "ax[1].plot(x,predicitons_array,c='green',label='Prediciton')\n",
    "ax[1].plot(x2[-48:],act_pred[-1][-48:],c='blue',label = 'Training')\n",
    "ax[1].grid()\n",
    "\n",
    "ax[1].set_xticks(xticks_2)\n",
    "ax[1].tick_params(axis='x', labelsize=14)\n",
    "ax[1].tick_params(axis='y', labelsize=14)\n",
    "ax[1].spines['top'].set_visible(False)\n",
    "ax[1].spines['right'].set_visible(False)\n",
    "ax[1].spines['bottom'].set_visible(False)\n",
    "ax[1].spines['left'].set_visible(False)\n",
    "ax[1].set_xlabel('Date',fontsize=14)\n",
    "ax[1].set_ylabel('Price (USD)',fontsize=14)\n",
    "ax[1].legend(fontsize=14)\n",
    "\n",
    "plt.autoscale(axis='x',tight=True)\n",
    "plt.xticks(rotation = 0)\n",
    "plt.rcParams['figure.figsize'] = [10, 10]\n",
    "plt.savefig('../Write-Up/CHAPTER_5/result_pred_inf.png', format='png',dpi=1000,bbox_inches='tight')\n",
    "\n",
    "plt.show()\n"
   ]
  },
  {
   "cell_type": "code",
   "execution_count": null,
   "metadata": {},
   "outputs": [],
   "source": []
  }
 ],
 "metadata": {
  "kernelspec": {
   "display_name": "Python 3.9.15 ('torch_tf_2')",
   "language": "python",
   "name": "python3"
  },
  "language_info": {
   "codemirror_mode": {
    "name": "ipython",
    "version": 3
   },
   "file_extension": ".py",
   "mimetype": "text/x-python",
   "name": "python",
   "nbconvert_exporter": "python",
   "pygments_lexer": "ipython3",
   "version": "3.9.15"
  },
  "vscode": {
   "interpreter": {
    "hash": "3525862eb7474a29db09ce01a834f42964e4c1bfc31ad17c337acfcc423c297f"
   }
  }
 },
 "nbformat": 4,
 "nbformat_minor": 2
}
