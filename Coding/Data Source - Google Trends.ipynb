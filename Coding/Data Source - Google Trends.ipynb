{
 "cells": [
  {
   "cell_type": "code",
   "execution_count": 1,
   "id": "01058fe5",
   "metadata": {},
   "outputs": [],
   "source": [
    "from pytrends.request import TrendReq\n",
    "from datetime import datetime as dt\n",
    "import datetime\n",
    "\n",
    "pytrends_daily = TrendReq(hl='en-US', tz=360)\n",
    "pytrends_weekly = TrendReq(hl='en-US', tz=360)"
   ]
  },
  {
   "cell_type": "code",
   "execution_count": 54,
   "id": "e5b7cf70",
   "metadata": {},
   "outputs": [],
   "source": [
    "#Parameters\n",
    "#Week starts on Sunday\n",
    "#Start and end must be within 90 days for daily data\n",
    "\n",
    "start = '2022-05-15'\n",
    "end = '2022-07-31'\n",
    "kw_list = ['bitcoin','ethereum']\n",
    "\n",
    "\n",
    "end_dt = dt.strptime(end,\"%Y-%m-%d\")\n",
    "end_dt_last_yr = dt(end_dt.year - 1, end_dt.month,end_dt.day)\n",
    "end_last_yr = end_dt_last_yr.strftime(\"%Y-%m-%d\")\n",
    "\n",
    "tf_daily = start +' '+ end\n",
    "tf_weekly = end_last_yr + ' ' + end\n"
   ]
  },
  {
   "cell_type": "code",
   "execution_count": 55,
   "id": "5182575c",
   "metadata": {},
   "outputs": [],
   "source": [
    "pytrends_daily.build_payload(kw_list,cat=0,timeframe = tf_daily)\n",
    "daily_data = pytrends_daily.interest_over_time()\n",
    "daily_data = daily_data[kw_list]\n",
    "#daily_data"
   ]
  },
  {
   "cell_type": "code",
   "execution_count": 56,
   "id": "d96ff450",
   "metadata": {},
   "outputs": [],
   "source": [
    "pytrends_weekly.build_payload(kw_list,cat=0,timeframe = tf_weekly)\n",
    "weekly_data = pytrends_weekly.interest_over_time()\n",
    "weekly_data = weekly_data[kw_list]\n",
    "#weekly_data"
   ]
  },
  {
   "cell_type": "code",
   "execution_count": 57,
   "id": "0d07380b",
   "metadata": {},
   "outputs": [],
   "source": [
    "for kw in kw_list:\n",
    "    daily_data[kw + '_wk'] = 0"
   ]
  },
  {
   "cell_type": "code",
   "execution_count": 58,
   "id": "7973e192",
   "metadata": {},
   "outputs": [],
   "source": [
    "for index_daily in daily_data.index:\n",
    "    for index_weekly in weekly_data.index:\n",
    "        if (index_daily == index_weekly):\n",
    "            for i in range(7):\n",
    "                try:\n",
    "                    daily_data.loc[index_daily]['bitcoin_wk'] = weekly_data.loc[index_daily]['bitcoin']\n",
    "                    daily_data.loc[index_daily]['ethereum_wk'] = weekly_data.loc[index_daily]['ethereum']\n",
    "                except:\n",
    "                    pass\n",
    "            "
   ]
  },
  {
   "cell_type": "code",
   "execution_count": 59,
   "id": "97ca79d5",
   "metadata": {},
   "outputs": [],
   "source": [
    "daily_data['BTC SVI Adj Factor'] = daily_data['bitcoin_wk']/daily_data['bitcoin']\n",
    "daily_data['ETH SVI Adj Factor'] = daily_data['ethereum_wk']/daily_data['ethereum']"
   ]
  },
  {
   "cell_type": "code",
   "execution_count": 60,
   "id": "e68f1b89",
   "metadata": {},
   "outputs": [],
   "source": [
    "SVI_adj_factor = daily_data[['BTC SVI Adj Factor','ETH SVI Adj Factor']].copy(deep = True)"
   ]
  },
  {
   "cell_type": "code",
   "execution_count": 61,
   "id": "29b09dea",
   "metadata": {},
   "outputs": [],
   "source": [
    "for index in weekly_data.index[:-1]:\n",
    "    for i in range (7):\n",
    "        try:\n",
    "            SVI_adj_factor.loc[index + datetime.timedelta(days = i),\"BTC SVI Adj Factor\"] = SVI_adj_factor.loc[index,\"BTC SVI Adj Factor\"]  \n",
    "            SVI_adj_factor.loc[index + datetime.timedelta(days = i),\"ETH SVI Adj Factor\"] = SVI_adj_factor.loc[index,\"ETH SVI Adj Factor\"]  \n",
    "        except:\n",
    "            pass"
   ]
  },
  {
   "cell_type": "code",
   "execution_count": 62,
   "id": "166d6218",
   "metadata": {},
   "outputs": [],
   "source": [
    "daily_data[\"BTC SVI Adj Factor\"] = SVI_adj_factor[\"BTC SVI Adj Factor\"]\n",
    "daily_data[\"ETH SVI Adj Factor\"] = SVI_adj_factor[\"ETH SVI Adj Factor\"]"
   ]
  },
  {
   "cell_type": "code",
   "execution_count": 63,
   "id": "731d0a6a",
   "metadata": {},
   "outputs": [],
   "source": [
    "daily_data[\"bitcoin Adj\"] = daily_data[\"bitcoin\"]*daily_data[\"BTC SVI Adj Factor\"]\n",
    "daily_data[\"ethereum Adj\"] = daily_data[\"ethereum\"]*daily_data[\"ETH SVI Adj Factor\"]"
   ]
  },
  {
   "cell_type": "code",
   "execution_count": 64,
   "id": "0e620626",
   "metadata": {},
   "outputs": [
    {
     "data": {
      "text/html": [
       "<div>\n",
       "<style scoped>\n",
       "    .dataframe tbody tr th:only-of-type {\n",
       "        vertical-align: middle;\n",
       "    }\n",
       "\n",
       "    .dataframe tbody tr th {\n",
       "        vertical-align: top;\n",
       "    }\n",
       "\n",
       "    .dataframe thead th {\n",
       "        text-align: right;\n",
       "    }\n",
       "</style>\n",
       "<table border=\"1\" class=\"dataframe\">\n",
       "  <thead>\n",
       "    <tr style=\"text-align: right;\">\n",
       "      <th></th>\n",
       "      <th>bitcoin</th>\n",
       "      <th>ethereum</th>\n",
       "      <th>bitcoin_wk</th>\n",
       "      <th>ethereum_wk</th>\n",
       "      <th>BTC SVI Adj Factor</th>\n",
       "      <th>ETH SVI Adj Factor</th>\n",
       "      <th>bitcoin Adj</th>\n",
       "      <th>ethereum Adj</th>\n",
       "    </tr>\n",
       "  </thead>\n",
       "  <tbody>\n",
       "    <tr>\n",
       "      <th>count</th>\n",
       "      <td>78.000000</td>\n",
       "      <td>78.000000</td>\n",
       "      <td>78.000000</td>\n",
       "      <td>78.000000</td>\n",
       "      <td>78.000000</td>\n",
       "      <td>78.000000</td>\n",
       "      <td>78.000000</td>\n",
       "      <td>78.000000</td>\n",
       "    </tr>\n",
       "    <tr>\n",
       "      <th>mean</th>\n",
       "      <td>41.833333</td>\n",
       "      <td>7.666667</td>\n",
       "      <td>8.153846</td>\n",
       "      <td>1.564103</td>\n",
       "      <td>1.490421</td>\n",
       "      <td>1.414560</td>\n",
       "      <td>65.590766</td>\n",
       "      <td>11.039286</td>\n",
       "    </tr>\n",
       "    <tr>\n",
       "      <th>std</th>\n",
       "      <td>16.896489</td>\n",
       "      <td>2.484585</td>\n",
       "      <td>20.486978</td>\n",
       "      <td>3.856483</td>\n",
       "      <td>0.454890</td>\n",
       "      <td>0.217002</td>\n",
       "      <td>52.384055</td>\n",
       "      <td>5.080161</td>\n",
       "    </tr>\n",
       "    <tr>\n",
       "      <th>min</th>\n",
       "      <td>25.000000</td>\n",
       "      <td>5.000000</td>\n",
       "      <td>0.000000</td>\n",
       "      <td>0.000000</td>\n",
       "      <td>0.821053</td>\n",
       "      <td>1.000000</td>\n",
       "      <td>33.663158</td>\n",
       "      <td>6.666667</td>\n",
       "    </tr>\n",
       "    <tr>\n",
       "      <th>25%</th>\n",
       "      <td>32.000000</td>\n",
       "      <td>6.000000</td>\n",
       "      <td>0.000000</td>\n",
       "      <td>0.000000</td>\n",
       "      <td>1.250000</td>\n",
       "      <td>1.285714</td>\n",
       "      <td>46.000000</td>\n",
       "      <td>8.000000</td>\n",
       "    </tr>\n",
       "    <tr>\n",
       "      <th>50%</th>\n",
       "      <td>37.000000</td>\n",
       "      <td>7.000000</td>\n",
       "      <td>0.000000</td>\n",
       "      <td>0.000000</td>\n",
       "      <td>1.437500</td>\n",
       "      <td>1.333333</td>\n",
       "      <td>50.000000</td>\n",
       "      <td>9.333333</td>\n",
       "    </tr>\n",
       "    <tr>\n",
       "      <th>75%</th>\n",
       "      <td>43.750000</td>\n",
       "      <td>8.000000</td>\n",
       "      <td>0.000000</td>\n",
       "      <td>0.000000</td>\n",
       "      <td>1.520000</td>\n",
       "      <td>1.600000</td>\n",
       "      <td>57.890625</td>\n",
       "      <td>11.196429</td>\n",
       "    </tr>\n",
       "    <tr>\n",
       "      <th>max</th>\n",
       "      <td>100.000000</td>\n",
       "      <td>18.000000</td>\n",
       "      <td>100.000000</td>\n",
       "      <td>18.000000</td>\n",
       "      <td>2.777778</td>\n",
       "      <td>1.800000</td>\n",
       "      <td>277.777778</td>\n",
       "      <td>32.400000</td>\n",
       "    </tr>\n",
       "  </tbody>\n",
       "</table>\n",
       "</div>"
      ],
      "text/plain": [
       "          bitcoin   ethereum  bitcoin_wk  ethereum_wk  BTC SVI Adj Factor  \\\n",
       "count   78.000000  78.000000   78.000000    78.000000           78.000000   \n",
       "mean    41.833333   7.666667    8.153846     1.564103            1.490421   \n",
       "std     16.896489   2.484585   20.486978     3.856483            0.454890   \n",
       "min     25.000000   5.000000    0.000000     0.000000            0.821053   \n",
       "25%     32.000000   6.000000    0.000000     0.000000            1.250000   \n",
       "50%     37.000000   7.000000    0.000000     0.000000            1.437500   \n",
       "75%     43.750000   8.000000    0.000000     0.000000            1.520000   \n",
       "max    100.000000  18.000000  100.000000    18.000000            2.777778   \n",
       "\n",
       "       ETH SVI Adj Factor  bitcoin Adj  ethereum Adj  \n",
       "count           78.000000    78.000000     78.000000  \n",
       "mean             1.414560    65.590766     11.039286  \n",
       "std              0.217002    52.384055      5.080161  \n",
       "min              1.000000    33.663158      6.666667  \n",
       "25%              1.285714    46.000000      8.000000  \n",
       "50%              1.333333    50.000000      9.333333  \n",
       "75%              1.600000    57.890625     11.196429  \n",
       "max              1.800000   277.777778     32.400000  "
      ]
     },
     "execution_count": 64,
     "metadata": {},
     "output_type": "execute_result"
    }
   ],
   "source": [
    "daily_data.describe()"
   ]
  },
  {
   "cell_type": "code",
   "execution_count": 65,
   "id": "9a3c7710",
   "metadata": {},
   "outputs": [],
   "source": [
    "daily_data[\"bitcoin Adj\"] = daily_data[\"bitcoin Adj\"]*(100/daily_data[\"bitcoin Adj\"].max())"
   ]
  },
  {
   "cell_type": "code",
   "execution_count": 66,
   "id": "280be6b4",
   "metadata": {},
   "outputs": [],
   "source": [
    "df_btc = daily_data[['bitcoin','bitcoin Adj']].copy(deep=True)\n",
    "df_eth = daily_data[['ethereum','ethereum Adj']].copy(deep=True)"
   ]
  },
  {
   "cell_type": "code",
   "execution_count": 67,
   "id": "68e47d7f",
   "metadata": {},
   "outputs": [
    {
     "data": {
      "text/html": [
       "<div>\n",
       "<style scoped>\n",
       "    .dataframe tbody tr th:only-of-type {\n",
       "        vertical-align: middle;\n",
       "    }\n",
       "\n",
       "    .dataframe tbody tr th {\n",
       "        vertical-align: top;\n",
       "    }\n",
       "\n",
       "    .dataframe thead th {\n",
       "        text-align: right;\n",
       "    }\n",
       "</style>\n",
       "<table border=\"1\" class=\"dataframe\">\n",
       "  <thead>\n",
       "    <tr style=\"text-align: right;\">\n",
       "      <th></th>\n",
       "      <th>bitcoin</th>\n",
       "      <th>bitcoin Adj</th>\n",
       "    </tr>\n",
       "    <tr>\n",
       "      <th>date</th>\n",
       "      <th></th>\n",
       "      <th></th>\n",
       "    </tr>\n",
       "  </thead>\n",
       "  <tbody>\n",
       "    <tr>\n",
       "      <th>2022-05-15</th>\n",
       "      <td>48</td>\n",
       "      <td>20.520000</td>\n",
       "    </tr>\n",
       "    <tr>\n",
       "      <th>2022-05-16</th>\n",
       "      <td>49</td>\n",
       "      <td>20.947500</td>\n",
       "    </tr>\n",
       "    <tr>\n",
       "      <th>2022-05-17</th>\n",
       "      <td>43</td>\n",
       "      <td>18.382500</td>\n",
       "    </tr>\n",
       "    <tr>\n",
       "      <th>2022-05-18</th>\n",
       "      <td>45</td>\n",
       "      <td>19.237500</td>\n",
       "    </tr>\n",
       "    <tr>\n",
       "      <th>2022-05-19</th>\n",
       "      <td>42</td>\n",
       "      <td>17.955000</td>\n",
       "    </tr>\n",
       "    <tr>\n",
       "      <th>...</th>\n",
       "      <td>...</td>\n",
       "      <td>...</td>\n",
       "    </tr>\n",
       "    <tr>\n",
       "      <th>2022-07-27</th>\n",
       "      <td>31</td>\n",
       "      <td>16.946667</td>\n",
       "    </tr>\n",
       "    <tr>\n",
       "      <th>2022-07-28</th>\n",
       "      <td>34</td>\n",
       "      <td>18.586667</td>\n",
       "    </tr>\n",
       "    <tr>\n",
       "      <th>2022-07-29</th>\n",
       "      <td>32</td>\n",
       "      <td>17.493333</td>\n",
       "    </tr>\n",
       "    <tr>\n",
       "      <th>2022-07-30</th>\n",
       "      <td>29</td>\n",
       "      <td>15.853333</td>\n",
       "    </tr>\n",
       "    <tr>\n",
       "      <th>2022-07-31</th>\n",
       "      <td>28</td>\n",
       "      <td>13.320000</td>\n",
       "    </tr>\n",
       "  </tbody>\n",
       "</table>\n",
       "<p>78 rows × 2 columns</p>\n",
       "</div>"
      ],
      "text/plain": [
       "            bitcoin  bitcoin Adj\n",
       "date                            \n",
       "2022-05-15       48    20.520000\n",
       "2022-05-16       49    20.947500\n",
       "2022-05-17       43    18.382500\n",
       "2022-05-18       45    19.237500\n",
       "2022-05-19       42    17.955000\n",
       "...             ...          ...\n",
       "2022-07-27       31    16.946667\n",
       "2022-07-28       34    18.586667\n",
       "2022-07-29       32    17.493333\n",
       "2022-07-30       29    15.853333\n",
       "2022-07-31       28    13.320000\n",
       "\n",
       "[78 rows x 2 columns]"
      ]
     },
     "execution_count": 67,
     "metadata": {},
     "output_type": "execute_result"
    }
   ],
   "source": [
    "df_btc"
   ]
  },
  {
   "cell_type": "code",
   "execution_count": 68,
   "id": "c0b4d98b",
   "metadata": {},
   "outputs": [],
   "source": [
    "df_btc.to_excel('Datasets/btc-googletrends.xlsx')\n",
    "#df_eth.to_excel('Datasets/eth-googletrends.xlsx')"
   ]
  },
  {
   "cell_type": "code",
   "execution_count": 2,
   "id": "7ea429a6",
   "metadata": {},
   "outputs": [
    {
     "name": "stderr",
     "output_type": "stream",
     "text": [
      "/Users/varunparbhu/python_virtual_env/mur_crypto/lib/python3.9/site-packages/pytrends/request.py:589: FutureWarning: The frame.append method is deprecated and will be removed from pandas in a future version. Use pandas.concat instead.\n",
      "  df = df.append(week_df)\n",
      "/Users/varunparbhu/python_virtual_env/mur_crypto/lib/python3.9/site-packages/pytrends/request.py:589: FutureWarning: The frame.append method is deprecated and will be removed from pandas in a future version. Use pandas.concat instead.\n",
      "  df = df.append(week_df)\n",
      "/Users/varunparbhu/python_virtual_env/mur_crypto/lib/python3.9/site-packages/pytrends/request.py:589: FutureWarning: The frame.append method is deprecated and will be removed from pandas in a future version. Use pandas.concat instead.\n",
      "  df = df.append(week_df)\n",
      "/Users/varunparbhu/python_virtual_env/mur_crypto/lib/python3.9/site-packages/pytrends/request.py:589: FutureWarning: The frame.append method is deprecated and will be removed from pandas in a future version. Use pandas.concat instead.\n",
      "  df = df.append(week_df)\n",
      "/Users/varunparbhu/python_virtual_env/mur_crypto/lib/python3.9/site-packages/pytrends/request.py:589: FutureWarning: The frame.append method is deprecated and will be removed from pandas in a future version. Use pandas.concat instead.\n",
      "  df = df.append(week_df)\n",
      "/Users/varunparbhu/python_virtual_env/mur_crypto/lib/python3.9/site-packages/pytrends/request.py:589: FutureWarning: The frame.append method is deprecated and will be removed from pandas in a future version. Use pandas.concat instead.\n",
      "  df = df.append(week_df)\n",
      "/Users/varunparbhu/python_virtual_env/mur_crypto/lib/python3.9/site-packages/pytrends/request.py:611: FutureWarning: The frame.append method is deprecated and will be removed from pandas in a future version. Use pandas.concat instead.\n",
      "  df = df.append(week_df)\n"
     ]
    }
   ],
   "source": [
    "# Since pytrends is returning a DataFrame object, we need pandas:\n",
    "import pandas as pd\n",
    "# Import of pytrends (needs to be pip installed first):\n",
    "from pytrends.request import TrendReq\n",
    "\n",
    "pytrends = TrendReq(hl='en-US', tz=360)\n",
    "kw_list = ['bitcoin']\n",
    "\n",
    "search_df = pytrends.get_historical_interest(kw_list, year_start=2022,\n",
    "                                             month_start=6, day_start=1,\n",
    "                                             hour_start=0, year_end=2022,\n",
    "                                             month_end=7, day_end=16, hour_end=0,\n",
    "                                             cat=0, geo='', gprop='')"
   ]
  },
  {
   "cell_type": "code",
   "execution_count": 8,
   "id": "bf98a9d2",
   "metadata": {},
   "outputs": [],
   "source": [
    "search_df.to_excel('Datasets/btc-googletrends_long.xlsx')"
   ]
  }
 ],
 "metadata": {
  "kernelspec": {
   "display_name": "Python 3.9.15 ('torch_tf_2')",
   "language": "python",
   "name": "python3"
  },
  "language_info": {
   "codemirror_mode": {
    "name": "ipython",
    "version": 3
   },
   "file_extension": ".py",
   "mimetype": "text/x-python",
   "name": "python",
   "nbconvert_exporter": "python",
   "pygments_lexer": "ipython3",
   "version": "3.9.15 (main, Nov  4 2022, 11:11:31) \n[Clang 12.0.0 ]"
  },
  "vscode": {
   "interpreter": {
    "hash": "3525862eb7474a29db09ce01a834f42964e4c1bfc31ad17c337acfcc423c297f"
   }
  }
 },
 "nbformat": 4,
 "nbformat_minor": 5
}
