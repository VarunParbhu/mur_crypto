{
 "cells": [
  {
   "cell_type": "code",
   "execution_count": 302,
   "id": "01058fe5",
   "metadata": {},
   "outputs": [],
   "source": [
    " from pytrends.request import TrendReq\n",
    "from datetime import datetime as dt\n",
    "import datetime\n",
    "\n",
    "pytrends_daily = TrendReq(hl='en-US', tz=360)\n",
    "pytrends_weekly = TrendReq(hl='en-US', tz=360)"
   ]
  },
  {
   "cell_type": "code",
   "execution_count": 303,
   "id": "e5b7cf70",
   "metadata": {},
   "outputs": [],
   "source": [
    "#Parameters\n",
    "#Week starts on Sunday\n",
    "#Start and end must be within 90 days for daily data\n",
    "\n",
    "start = '2022-01-02'\n",
    "end = '2022-04-03'\n",
    "kw_list = ['bitcoin','ethereum']\n",
    "\n",
    "\n",
    "end_dt = dt.strptime(end,\"%Y-%m-%d\")\n",
    "end_dt_last_yr = dt(end_dt.year - 1, end_dt.month,end_dt.day)\n",
    "end_last_yr = end_dt_last_yr.strftime(\"%Y-%m-%d\")\n",
    "\n",
    "tf_daily = start +' '+ end\n",
    "tf_weekly = end_last_yr + ' ' + end\n"
   ]
  },
  {
   "cell_type": "code",
   "execution_count": 304,
   "id": "5182575c",
   "metadata": {},
   "outputs": [],
   "source": [
    "pytrends_daily.build_payload(kw_list,cat=0,timeframe = tf_daily)\n",
    "daily_data = pytrends_daily.interest_over_time()\n",
    "daily_data = daily_data[kw_list]\n",
    "#daily_data"
   ]
  },
  {
   "cell_type": "code",
   "execution_count": 305,
   "id": "d96ff450",
   "metadata": {},
   "outputs": [],
   "source": [
    "pytrends_weekly.build_payload(kw_list,cat=0,timeframe = tf_weekly)\n",
    "weekly_data = pytrends_weekly.interest_over_time()\n",
    "weekly_data = weekly_data[kw_list]\n",
    "#weekly_data"
   ]
  },
  {
   "cell_type": "code",
   "execution_count": 306,
   "id": "0d07380b",
   "metadata": {},
   "outputs": [],
   "source": [
    "for kw in kw_list:\n",
    "    daily_data[kw + '_wk'] = 0"
   ]
  },
  {
   "cell_type": "code",
   "execution_count": 307,
   "id": "7973e192",
   "metadata": {},
   "outputs": [],
   "source": [
    "for index_daily in daily_data.index:\n",
    "    for index_weekly in weekly_data.index:\n",
    "        if (index_daily == index_weekly):\n",
    "            for i in range(7):\n",
    "                try:\n",
    "                    daily_data.loc[index_daily]['bitcoin_wk'] = weekly_data.loc[index_daily]['bitcoin']\n",
    "                    daily_data.loc[index_daily]['ethereum_wk'] = weekly_data.loc[index_daily]['ethereum']\n",
    "                except:\n",
    "                    pass\n",
    "            "
   ]
  },
  {
   "cell_type": "code",
   "execution_count": 308,
   "id": "97ca79d5",
   "metadata": {},
   "outputs": [],
   "source": [
    "daily_data['BTC SVI Adj Factor'] = daily_data['bitcoin_wk']/daily_data['bitcoin']\n",
    "daily_data['ETH SVI Adj Factor'] = daily_data['ethereum_wk']/daily_data['ethereum']"
   ]
  },
  {
   "cell_type": "code",
   "execution_count": 343,
   "id": "e68f1b89",
   "metadata": {},
   "outputs": [],
   "source": [
    "SVI_adj_factor = daily_data[['BTC SVI Adj Factor','ETH SVI Adj Factor']].copy(deep = True)"
   ]
  },
  {
   "cell_type": "code",
   "execution_count": 346,
   "id": "29b09dea",
   "metadata": {},
   "outputs": [],
   "source": [
    "for index in weekly_data.index[:-1]:\n",
    "    for i in range (7):\n",
    "        try:\n",
    "            SVI_adj_factor.loc[index + datetime.timedelta(days = i),\"BTC SVI Adj Factor\"] = SVI_adj_factor.loc[index,\"BTC SVI Adj Factor\"]  \n",
    "            SVI_adj_factor.loc[index + datetime.timedelta(days = i),\"ETH SVI Adj Factor\"] = SVI_adj_factor.loc[index,\"ETH SVI Adj Factor\"]  \n",
    "        except:\n",
    "            pass"
   ]
  },
  {
   "cell_type": "code",
   "execution_count": 349,
   "id": "166d6218",
   "metadata": {},
   "outputs": [],
   "source": [
    "daily_data[\"BTC SVI Adj Factor\"] = SVI_adj_factor[\"BTC SVI Adj Factor\"]\n",
    "daily_data[\"ETH SVI Adj Factor\"] = SVI_adj_factor[\"ETH SVI Adj Factor\"]"
   ]
  },
  {
   "cell_type": "code",
   "execution_count": 351,
   "id": "731d0a6a",
   "metadata": {},
   "outputs": [],
   "source": [
    "daily_data[\"bitcoin Adj\"] = daily_data[\"bitcoin\"]*daily_data[\"BTC SVI Adj Factor\"]\n",
    "daily_data[\"ethereum Adj\"] = daily_data[\"ethereum\"]*daily_data[\"ETH SVI Adj Factor\"]"
   ]
  },
  {
   "cell_type": "code",
   "execution_count": 354,
   "id": "0e620626",
   "metadata": {},
   "outputs": [
    {
     "data": {
      "text/html": [
       "<div>\n",
       "<style scoped>\n",
       "    .dataframe tbody tr th:only-of-type {\n",
       "        vertical-align: middle;\n",
       "    }\n",
       "\n",
       "    .dataframe tbody tr th {\n",
       "        vertical-align: top;\n",
       "    }\n",
       "\n",
       "    .dataframe thead th {\n",
       "        text-align: right;\n",
       "    }\n",
       "</style>\n",
       "<table border=\"1\" class=\"dataframe\">\n",
       "  <thead>\n",
       "    <tr style=\"text-align: right;\">\n",
       "      <th></th>\n",
       "      <th>bitcoin</th>\n",
       "      <th>ethereum</th>\n",
       "      <th>bitcoin_wk</th>\n",
       "      <th>ethereum_wk</th>\n",
       "      <th>BTC SVI Adj Factor</th>\n",
       "      <th>ETH SVI Adj Factor</th>\n",
       "      <th>bitcoin Adj</th>\n",
       "      <th>ethereum Adj</th>\n",
       "    </tr>\n",
       "  </thead>\n",
       "  <tbody>\n",
       "    <tr>\n",
       "      <th>count</th>\n",
       "      <td>92.000000</td>\n",
       "      <td>92.000000</td>\n",
       "      <td>92.000000</td>\n",
       "      <td>92.000000</td>\n",
       "      <td>92.000000</td>\n",
       "      <td>92.000000</td>\n",
       "      <td>92.000000</td>\n",
       "      <td>92.000000</td>\n",
       "    </tr>\n",
       "    <tr>\n",
       "      <th>mean</th>\n",
       "      <td>47.141304</td>\n",
       "      <td>9.336957</td>\n",
       "      <td>5.184783</td>\n",
       "      <td>1.173913</td>\n",
       "      <td>0.827610</td>\n",
       "      <td>0.888859</td>\n",
       "      <td>38.989166</td>\n",
       "      <td>8.288104</td>\n",
       "    </tr>\n",
       "    <tr>\n",
       "      <th>std</th>\n",
       "      <td>12.838457</td>\n",
       "      <td>2.249675</td>\n",
       "      <td>12.546992</td>\n",
       "      <td>2.861678</td>\n",
       "      <td>0.089336</td>\n",
       "      <td>0.095024</td>\n",
       "      <td>11.953633</td>\n",
       "      <td>2.250247</td>\n",
       "    </tr>\n",
       "    <tr>\n",
       "      <th>min</th>\n",
       "      <td>32.000000</td>\n",
       "      <td>5.000000</td>\n",
       "      <td>0.000000</td>\n",
       "      <td>0.000000</td>\n",
       "      <td>0.675676</td>\n",
       "      <td>0.750000</td>\n",
       "      <td>25.000000</td>\n",
       "      <td>5.000000</td>\n",
       "    </tr>\n",
       "    <tr>\n",
       "      <th>25%</th>\n",
       "      <td>39.000000</td>\n",
       "      <td>8.000000</td>\n",
       "      <td>0.000000</td>\n",
       "      <td>0.000000</td>\n",
       "      <td>0.800000</td>\n",
       "      <td>0.857143</td>\n",
       "      <td>32.166667</td>\n",
       "      <td>7.000000</td>\n",
       "    </tr>\n",
       "    <tr>\n",
       "      <th>50%</th>\n",
       "      <td>44.000000</td>\n",
       "      <td>9.000000</td>\n",
       "      <td>0.000000</td>\n",
       "      <td>0.000000</td>\n",
       "      <td>0.818182</td>\n",
       "      <td>0.875000</td>\n",
       "      <td>37.261538</td>\n",
       "      <td>7.875000</td>\n",
       "    </tr>\n",
       "    <tr>\n",
       "      <th>75%</th>\n",
       "      <td>51.000000</td>\n",
       "      <td>10.000000</td>\n",
       "      <td>0.000000</td>\n",
       "      <td>0.000000</td>\n",
       "      <td>0.843750</td>\n",
       "      <td>0.900000</td>\n",
       "      <td>41.290069</td>\n",
       "      <td>9.000000</td>\n",
       "    </tr>\n",
       "    <tr>\n",
       "      <th>max</th>\n",
       "      <td>100.000000</td>\n",
       "      <td>18.000000</td>\n",
       "      <td>50.000000</td>\n",
       "      <td>11.000000</td>\n",
       "      <td>1.026316</td>\n",
       "      <td>1.111111</td>\n",
       "      <td>102.631579</td>\n",
       "      <td>18.888889</td>\n",
       "    </tr>\n",
       "  </tbody>\n",
       "</table>\n",
       "</div>"
      ],
      "text/plain": [
       "          bitcoin   ethereum  ...  bitcoin Adj  ethereum Adj\n",
       "count   92.000000  92.000000  ...    92.000000     92.000000\n",
       "mean    47.141304   9.336957  ...    38.989166      8.288104\n",
       "std     12.838457   2.249675  ...    11.953633      2.250247\n",
       "min     32.000000   5.000000  ...    25.000000      5.000000\n",
       "25%     39.000000   8.000000  ...    32.166667      7.000000\n",
       "50%     44.000000   9.000000  ...    37.261538      7.875000\n",
       "75%     51.000000  10.000000  ...    41.290069      9.000000\n",
       "max    100.000000  18.000000  ...   102.631579     18.888889\n",
       "\n",
       "[8 rows x 8 columns]"
      ]
     },
     "execution_count": 354,
     "metadata": {},
     "output_type": "execute_result"
    }
   ],
   "source": [
    "daily_data.describe()"
   ]
  },
  {
   "cell_type": "code",
   "execution_count": 358,
   "id": "9a3c7710",
   "metadata": {},
   "outputs": [],
   "source": [
    "daily_data[\"bitcoin Adj\"] = daily_data[\"bitcoin Adj\"]*(100/daily_data[\"bitcoin Adj\"].max())"
   ]
  },
  {
   "cell_type": "code",
   "execution_count": 369,
   "id": "280be6b4",
   "metadata": {},
   "outputs": [],
   "source": [
    "df_btc = daily_data[['bitcoin','bitcoin Adj']].copy(deep=True)\n",
    "df_eth = daily_data[['ethereum','ethereum Adj']].copy(deep=True)"
   ]
  },
  {
   "cell_type": "code",
   "execution_count": 372,
   "id": "c0b4d98b",
   "metadata": {},
   "outputs": [],
   "source": [
    "#df_btc.to_excel('Datasets/btc-googletrends.xlsx')\n",
    "#df_eth.to_excel('Datasets/eth-googletrends.xlsx')"
   ]
  }
 ],
 "metadata": {
  "kernelspec": {
   "display_name": "Python 3 (ipykernel)",
   "language": "python",
   "name": "python3"
  },
  "language_info": {
   "codemirror_mode": {
    "name": "ipython",
    "version": 3
   },
   "file_extension": ".py",
   "mimetype": "text/x-python",
   "name": "python",
   "nbconvert_exporter": "python",
   "pygments_lexer": "ipython3",
   "version": "3.9.7"
  }
 },
 "nbformat": 4,
 "nbformat_minor": 5
}
