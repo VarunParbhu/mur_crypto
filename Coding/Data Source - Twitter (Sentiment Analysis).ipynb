{
 "cells": [
  {
   "cell_type": "code",
   "execution_count": 15,
   "metadata": {},
   "outputs": [],
   "source": [
    "import os\n",
    "import pandas as pd\n",
    "from tqdm import tqdm\n",
    "tqdm.pandas()\n",
    "from transformers import pipeline\n",
    "from transformers import AutoTokenizer\n",
    "from transformers import AutoModelForSequenceClassification\n",
    "from scipy.special import softmax\n",
    "import ast\n",
    "os.environ[\"TOKENIZERS_PARALLELISM\"] = \"false\""
   ]
  },
  {
   "cell_type": "code",
   "execution_count": 2,
   "metadata": {},
   "outputs": [
    {
     "name": "stderr",
     "output_type": "stream",
     "text": [
      "No model was supplied, defaulted to distilbert-base-uncased-finetuned-sst-2-english and revision af0f99b (https://huggingface.co/distilbert-base-uncased-finetuned-sst-2-english).\n",
      "Using a pipeline without specifying a model name and revision in production is not recommended.\n",
      "No model was supplied, defaulted to distilbert-base-uncased-finetuned-sst-2-english and revision af0f99b (https://huggingface.co/distilbert-base-uncased-finetuned-sst-2-english).\n",
      "Using a pipeline without specifying a model name and revision in production is not recommended.\n"
     ]
    },
    {
     "name": "stdout",
     "output_type": "stream",
     "text": [
      "[{'label': 'POSITIVE', 'score': 0.9998704195022583}]\n",
      "[{'label': 'NEGATIVE', 'score': 0.9988259673118591}]\n"
     ]
    }
   ],
   "source": [
    "print(pipeline('sentiment-analysis')('we love you'))\n",
    "print(pipeline('sentiment-analysis')('we hate you'))"
   ]
  },
  {
   "cell_type": "code",
   "execution_count": 3,
   "metadata": {},
   "outputs": [],
   "source": [
    "MODEL = f\"cardiffnlp/twitter-roberta-base-sentiment\"\n",
    "tokenizer = AutoTokenizer.from_pretrained(MODEL)\n",
    "model = AutoModelForSequenceClassification.from_pretrained(MODEL)"
   ]
  },
  {
   "cell_type": "code",
   "execution_count": 4,
   "metadata": {},
   "outputs": [
    {
     "name": "stdout",
     "output_type": "stream",
     "text": [
      "{'roberta_neg': 0.0018993656, 'roberta_neu': 0.013890146, 'roberta_pos': 0.9842106}\n"
     ]
    }
   ],
   "source": [
    "encoded_text = tokenizer('very good movie!', return_tensors='pt')\n",
    "output = model(**encoded_text)\n",
    "scores = output[0][0].detach().numpy()\n",
    "scores = softmax(scores)\n",
    "scores_dict = {\n",
    "    'roberta_neg' : scores[0],\n",
    "    'roberta_neu' : scores[1],\n",
    "    'roberta_pos' : scores[2]\n",
    "}\n",
    "print(scores_dict)"
   ]
  },
  {
   "cell_type": "code",
   "execution_count": 5,
   "metadata": {},
   "outputs": [],
   "source": [
    "def polarity_scores_roberta(example):\n",
    "    try:\n",
    "        encoded_text = tokenizer(example, return_tensors='pt')\n",
    "        output = model(**encoded_text)\n",
    "        scores = output[0][0].detach().numpy()\n",
    "        scores = softmax(scores)\n",
    "        scores_dict = {\n",
    "            'roberta_neg' : scores[0],\n",
    "            'roberta_neu' : scores[1],\n",
    "            'roberta_pos' : scores[2]\n",
    "        }\n",
    "    except:\n",
    "        scores_dict = {\n",
    "            'roberta_neg' : 0,\n",
    "            'roberta_neu' : 0,\n",
    "            'roberta_pos' : 0\n",
    "        }\n",
    "    return scores_dict"
   ]
  },
  {
   "cell_type": "code",
   "execution_count": 13,
   "metadata": {},
   "outputs": [],
   "source": [
    "def read_return_file(folder_path):\n",
    "    files_path = os.listdir(folder_path)\n",
    "    files_path.sort()\n",
    "    data_path_daily = ['{}{}'.format(folder_path,file) for file in files_path]\n",
    "    data_path_daily = pd.DataFrame(data_path_daily,columns=['File Path'])\n",
    "    data_path_daily['File Name'] = files_path\n",
    "    return data_path_daily['File Path']"
   ]
  },
  {
   "cell_type": "code",
   "execution_count": 7,
   "metadata": {},
   "outputs": [
    {
     "name": "stderr",
     "output_type": "stream",
     "text": [
      "100%|██████████| 19966/19966 [32:58<00:00, 10.09it/s]\n",
      "100%|██████████| 20128/20128 [31:36<00:00, 10.61it/s]\n",
      "100%|██████████| 20582/20582 [32:39<00:00, 10.51it/s]\n",
      "100%|██████████| 20409/20409 [32:51<00:00, 10.35it/s]\n",
      "100%|██████████| 20406/20406 [33:52<00:00, 10.04it/s]\n",
      "5it [2:44:03, 1968.65s/it]\n"
     ]
    }
   ],
   "source": [
    "for i,file in tqdm(enumerate(read_return_file('Datasets/Processed Tweet/'))):\n",
    "    try:\n",
    "        data = pd.read_csv(file,engine='python',index_col=0)\n",
    "        data['sent_score']= data['clean_tweet'].astype('str').progress_apply(polarity_scores_roberta)\n",
    "        data.to_csv('{}'.format(file))\n",
    "    except:\n",
    "        print(i)\n",
    "        print(file)\n",
    "        continue"
   ]
  },
  {
   "cell_type": "code",
   "execution_count": 27,
   "metadata": {},
   "outputs": [
    {
     "name": "stderr",
     "output_type": "stream",
     "text": [
      "44it [00:16,  2.71it/s]\n"
     ]
    }
   ],
   "source": [
    "for i,file in tqdm(enumerate(read_return_file('Datasets/Processed Tweet/'))):\n",
    "    data = pd.read_csv(file,engine='python',index_col=0)\n",
    "    if 'POS' not in data.columns:\n",
    "        try:\n",
    "            data['sent_score'] = data['sent_score'].apply(lambda x: ast.literal_eval(x))\n",
    "            data['POS'] = data['sent_score'].apply(lambda x: x['roberta_pos'])\n",
    "            data['NEU'] = data['sent_score'].apply(lambda x: x['roberta_neu'])\n",
    "            data['NEG'] = data['sent_score'].apply(lambda x: x['roberta_neg'])\n",
    "            data.to_csv('{}'.format(file))\n",
    "        except:\n",
    "            print(i)\n",
    "            print(file)\n",
    "            continue\n",
    "    else:\n",
    "        continue"
   ]
  }
 ],
 "metadata": {
  "kernelspec": {
   "display_name": "Python 3.9.15 ('torch_tf_2')",
   "language": "python",
   "name": "python3"
  },
  "language_info": {
   "codemirror_mode": {
    "name": "ipython",
    "version": 3
   },
   "file_extension": ".py",
   "mimetype": "text/x-python",
   "name": "python",
   "nbconvert_exporter": "python",
   "pygments_lexer": "ipython3",
   "version": "3.9.15"
  },
  "orig_nbformat": 4,
  "vscode": {
   "interpreter": {
    "hash": "3525862eb7474a29db09ce01a834f42964e4c1bfc31ad17c337acfcc423c297f"
   }
  }
 },
 "nbformat": 4,
 "nbformat_minor": 2
}
