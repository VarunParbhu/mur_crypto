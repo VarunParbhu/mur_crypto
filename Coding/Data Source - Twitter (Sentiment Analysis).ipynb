{
 "cells": [
  {
   "cell_type": "code",
   "execution_count": 1,
   "metadata": {},
   "outputs": [],
   "source": [
    "import os\n",
    "import pandas as pd\n",
    "from tqdm import tqdm\n",
    "tqdm.pandas()\n",
    "from transformers import pipeline\n",
    "from transformers import AutoTokenizer\n",
    "from transformers import AutoModelForSequenceClassification\n",
    "from scipy.special import softmax\n",
    "import ast\n",
    "import numpy as np\n",
    "import datetime\n",
    "os.environ[\"TOKENIZERS_PARALLELISM\"] = \"false\""
   ]
  },
  {
   "cell_type": "code",
   "execution_count": 2,
   "metadata": {},
   "outputs": [
    {
     "name": "stderr",
     "output_type": "stream",
     "text": [
      "No model was supplied, defaulted to distilbert-base-uncased-finetuned-sst-2-english and revision af0f99b (https://huggingface.co/distilbert-base-uncased-finetuned-sst-2-english).\n",
      "Using a pipeline without specifying a model name and revision in production is not recommended.\n",
      "No model was supplied, defaulted to distilbert-base-uncased-finetuned-sst-2-english and revision af0f99b (https://huggingface.co/distilbert-base-uncased-finetuned-sst-2-english).\n",
      "Using a pipeline without specifying a model name and revision in production is not recommended.\n"
     ]
    },
    {
     "name": "stdout",
     "output_type": "stream",
     "text": [
      "[{'label': 'POSITIVE', 'score': 0.9998704195022583}]\n",
      "[{'label': 'NEGATIVE', 'score': 0.9988259673118591}]\n"
     ]
    }
   ],
   "source": [
    "print(pipeline('sentiment-analysis')('we love you'))\n",
    "print(pipeline('sentiment-analysis')('we hate you'))"
   ]
  },
  {
   "cell_type": "code",
   "execution_count": 2,
   "metadata": {},
   "outputs": [],
   "source": [
    "MODEL = f\"cardiffnlp/twitter-roberta-base-sentiment\"\n",
    "tokenizer = AutoTokenizer.from_pretrained(MODEL)\n",
    "model = AutoModelForSequenceClassification.from_pretrained(MODEL)"
   ]
  },
  {
   "cell_type": "code",
   "execution_count": 3,
   "metadata": {},
   "outputs": [],
   "source": [
    "preprocessed_tweet = 'mushroom the psychonaut ape division mushroom too weird to live and too rare to die framed picture a bold collection of psychonaut apes by internationally recognised artist woahjonny nft nfts ethereum eth eth crypto solana bnb avax tezos tron bitcoin btc'"
   ]
  },
  {
   "cell_type": "code",
   "execution_count": 4,
   "metadata": {},
   "outputs": [
    {
     "name": "stdout",
     "output_type": "stream",
     "text": [
      "{'roberta_neg': 0.298603, 'roberta_neu': 0.5974009, 'roberta_pos': 0.10399604}\n"
     ]
    }
   ],
   "source": [
    "encoded_text = tokenizer(preprocessed_tweet, return_tensors='pt')\n",
    "output = model(**encoded_text)\n",
    "scores = output[0][0].detach().numpy()\n",
    "scores = softmax(scores)\n",
    "scores_dict = { 'roberta_neg' : scores[0], 'roberta_neu' : scores[1],'roberta_pos' : scores[2]}\n",
    "print(scores_dict)"
   ]
  },
  {
   "cell_type": "code",
   "execution_count": 5,
   "metadata": {},
   "outputs": [],
   "source": [
    "def polarity_scores_roberta(example):\n",
    "    try:\n",
    "        encoded_text = tokenizer(example, return_tensors='pt')\n",
    "        output = model(**encoded_text)\n",
    "        scores = output[0][0].detach().numpy()\n",
    "        scores = softmax(scores)\n",
    "        scores_dict = {\n",
    "            'roberta_neg' : scores[0],\n",
    "            'roberta_neu' : scores[1],\n",
    "            'roberta_pos' : scores[2]\n",
    "        }\n",
    "    except:\n",
    "        scores_dict = {\n",
    "            'roberta_neg' : 0,\n",
    "            'roberta_neu' : 0,\n",
    "            'roberta_pos' : 0\n",
    "        }\n",
    "    return scores_dict"
   ]
  },
  {
   "cell_type": "code",
   "execution_count": 2,
   "metadata": {},
   "outputs": [],
   "source": [
    "def read_return_file(folder_path):\n",
    "    files_path = os.listdir(folder_path)\n",
    "    files_path.sort()\n",
    "    data_path_daily = ['{}{}'.format(folder_path,file) for file in files_path]\n",
    "    data_path_daily = pd.DataFrame(data_path_daily,columns=['File Path'])\n",
    "    data_path_daily['File Name'] = files_path\n",
    "    return data_path_daily"
   ]
  },
  {
   "cell_type": "code",
   "execution_count": 7,
   "metadata": {},
   "outputs": [
    {
     "name": "stderr",
     "output_type": "stream",
     "text": [
      "100%|██████████| 19966/19966 [32:58<00:00, 10.09it/s]\n",
      "100%|██████████| 20128/20128 [31:36<00:00, 10.61it/s]\n",
      "100%|██████████| 20582/20582 [32:39<00:00, 10.51it/s]\n",
      "100%|██████████| 20409/20409 [32:51<00:00, 10.35it/s]\n",
      "100%|██████████| 20406/20406 [33:52<00:00, 10.04it/s]\n",
      "5it [2:44:03, 1968.65s/it]\n"
     ]
    }
   ],
   "source": [
    "for i,file in tqdm(enumerate(read_return_file('Datasets/Processed Tweet/'))):\n",
    "    try:\n",
    "        data = pd.read_csv(file,engine='python',index_col=0)\n",
    "        data['sent_score']= data['clean_tweet'].astype('str').progress_apply(polarity_scores_roberta)\n",
    "        data.to_csv('{}'.format(file))\n",
    "    except:\n",
    "        print(i)\n",
    "        print(file)\n",
    "        continue"
   ]
  },
  {
   "cell_type": "code",
   "execution_count": 27,
   "metadata": {},
   "outputs": [
    {
     "name": "stderr",
     "output_type": "stream",
     "text": [
      "44it [00:16,  2.71it/s]\n"
     ]
    }
   ],
   "source": [
    "for i,file in tqdm(enumerate(read_return_file('Datasets/Processed Tweet/'))):\n",
    "    data = pd.read_csv(file,engine='python',index_col=0)\n",
    "    if 'POS' not in data.columns:\n",
    "        try:\n",
    "            data['sent_score'] = data['sent_score'].apply(lambda x: ast.literal_eval(x))\n",
    "            data['POS'] = data['sent_score'].apply(lambda x: x['roberta_pos'])\n",
    "            data['NEU'] = data['sent_score'].apply(lambda x: x['roberta_neu'])\n",
    "            data['NEG'] = data['sent_score'].apply(lambda x: x['roberta_neg'])\n",
    "            data.to_csv('{}'.format(file))\n",
    "        except:\n",
    "            print(i)\n",
    "            print(file)\n",
    "            continue\n",
    "    else:\n",
    "        continue"
   ]
  },
  {
   "cell_type": "code",
   "execution_count": 49,
   "metadata": {},
   "outputs": [],
   "source": [
    "col_names = ['following','followers','totaltweets','retweetcount','created_at', 'clean_tweet','POS','NEU','NEG']\n",
    "for i,file in read_return_file('Datasets/Processed Tweet/').iterrows():\n",
    "    data = pd.read_csv(file['File Path'],engine='python',index_col=0)\n",
    "    data = data[col_names]\n",
    "    data['created_at'] = pd.to_datetime(data['created_at'])\n",
    "    data.to_csv('Datasets/Reduced Tweet Data/{}'.format(file['File Name']))\n"
   ]
  },
  {
   "cell_type": "code",
   "execution_count": null,
   "metadata": {},
   "outputs": [],
   "source": [
    "#Global Dataset\n",
    "datapath = read_return_file('Datasets/Reduced Tweet Data/')\n",
    "global_data = pd.DataFrame()\n",
    "for i,file in datapath.iterrows():\n",
    "    data = pd.read_csv(file['File Path'],engine='python',index_col=0)\n",
    "    global_data = pd.concat([global_data,data],ignore_index=True)\n",
    "\n",
    "global_data.to_csv('Datasets/sentiment_scores.csv')"
   ]
  },
  {
   "cell_type": "code",
   "execution_count": 36,
   "metadata": {},
   "outputs": [
    {
     "name": "stderr",
     "output_type": "stream",
     "text": [
      "43it [00:32,  1.31it/s]\n"
     ]
    }
   ],
   "source": [
    "#Average Sentiment Score Hourly\n",
    "start_date = pd.to_datetime('2022-06-01')\n",
    "end_date = pd.to_datetime('2022-07-14')\n",
    "sentiment_scores = pd.DataFrame(columns=['POS','NEU','NEG'])\n",
    "for i, file in tqdm(read_return_file('Datasets/Reduced Tweet Data/').iterrows()):\n",
    "    data = pd.read_csv(file['File Path'],engine='python',index_col=0)\n",
    "    data['created_at'] = pd.to_datetime(data['created_at'])\n",
    "    daily_score = pd.DataFrame(data.groupby([data['created_at'].dt.hour])[['POS','NEU','NEG']].mean())\n",
    "    #daily_score = pd.DataFrame(data[['POS','NEU','NEG']].mean())\n",
    "    #daily_score = daily_score.transpose()\n",
    "    sentiment_scores = pd.concat([sentiment_scores,daily_score],axis=0,ignore_index=True)\n",
    "\n",
    "sentiment_scores.index = pd.date_range(start=start_date, end=end_date,freq='H')[:-1]\n",
    "sentiment_scores.to_csv('Datasets/sentiment_scores_average_long.csv')"
   ]
  },
  {
   "cell_type": "code",
   "execution_count": 3,
   "metadata": {},
   "outputs": [
    {
     "name": "stderr",
     "output_type": "stream",
     "text": [
      "43it [00:07,  5.42it/s]\n"
     ]
    }
   ],
   "source": [
    "#Average Sentiment Score Daily\n",
    "sentiment_scores = pd.DataFrame(columns=['POS','NEU','NEG'])\n",
    "for i, file in tqdm(read_return_file('Datasets/Reduced Tweet Data/').iterrows()):\n",
    "    data = pd.read_csv(file['File Path'],engine='python',index_col=0)\n",
    "    data['created_at'] = pd.to_datetime(data['created_at'])\n",
    "    #daily_score = pd.DataFrame(data.groupby([data['created_at'].dt.hour])[['POS','NEU','NEG']].mean().mean())\n",
    "    daily_score = pd.DataFrame(data[['POS','NEU','NEG']].mean())\n",
    "    daily_score = daily_score.transpose()\n",
    "    sentiment_scores = pd.concat([sentiment_scores,daily_score],axis=0,ignore_index=True)\n",
    "\n",
    "sentiment_scores.to_csv('Datasets/sentiment_scores_average.csv')"
   ]
  },
  {
   "cell_type": "code",
   "execution_count": 29,
   "metadata": {},
   "outputs": [],
   "source": [
    "import sklearn\n",
    "from sklearn.cluster import KMeans\n",
    "from sklearn.preprocessing import scale\n",
    "import matplotlib.pyplot as plt"
   ]
  },
  {
   "cell_type": "code",
   "execution_count": 30,
   "metadata": {},
   "outputs": [],
   "source": [
    "followers = data['followers']\n",
    "followers = pd.DataFrame(followers)\n",
    "followers['scale'] = scale(followers['followers'])\n",
    "scale_data = followers['scale']\n",
    "scale_data = np.array(scale_data)\n",
    "scale_data = scale_data.reshape(-1,1)\n",
    "clustering = KMeans(n_clusters=4,random_state=5)\n",
    "clustering.fit(scale_data)\n",
    "followers['labels'] = clustering.labels_"
   ]
  },
  {
   "cell_type": "code",
   "execution_count": 31,
   "metadata": {},
   "outputs": [],
   "source": [
    "# f = plt.figure()\n",
    "# f.set_figwidth(10)\n",
    "# f.set_figheight(5)\n",
    "# cdict = {0:'yellow',1: 'red', 2: 'blue', 3: 'green'}\n",
    "\n",
    "# scatter_x = np.array(followers.index)\n",
    "# scatter_y = np.array(followers['followers'])\n",
    "# group = np.array(followers['labels'])\n",
    "\n",
    "\n",
    "# fig, ax = plt.subplots(figsize =(10,20))\n",
    "# fig.set_figwidth = 200\n",
    "# for g in np.unique(group):\n",
    "#     ix =np.where(group==g)\n",
    "#     ax.scatter(scatter_x[ix],scatter_y[ix],c=cdict[g],label=g,s = 100)\n",
    "#     fig.set_figwidth = 200\n",
    "# plt.legend()\n",
    "# plt.show()"
   ]
  },
  {
   "cell_type": "code",
   "execution_count": 38,
   "metadata": {},
   "outputs": [
    {
     "name": "stderr",
     "output_type": "stream",
     "text": [
      "43it [00:53,  1.24s/it]\n"
     ]
    }
   ],
   "source": [
    "for i, file in tqdm(read_return_file('Datasets/Reduced Tweet Data/').iterrows()):\n",
    "    try:\n",
    "        data = pd.read_csv(file['File Path'],engine='python',index_col=0)\n",
    "        data['created_at'] = pd.to_datetime(data['created_at'])\n",
    "        followers = data['followers']\n",
    "        followers = pd.DataFrame(followers)\n",
    "        followers['scale'] = scale(followers['followers'])\n",
    "        scale_data = followers['scale']\n",
    "        scale_data = np.array(scale_data)\n",
    "        scale_data = scale_data.reshape(-1,1)\n",
    "        clustering = KMeans(n_clusters=50,random_state=5)\n",
    "        clustering.fit(scale_data)\n",
    "        data['influence_labels'] = clustering.labels_\n",
    "        data.to_csv('Datasets/Reduced Tweet Data/{}'.format(file['File Name']))\n",
    "    except:\n",
    "        print(file['File Name'])\n"
   ]
  },
  {
   "cell_type": "code",
   "execution_count": 39,
   "metadata": {},
   "outputs": [],
   "source": [
    "#Average Sentiment Score Daily of \"Influences\" - Excluding the higgest group obtained from KMeans clustering\n",
    "\n",
    "sentiment_scores_influencer = pd.DataFrame(columns=['POS','NEU','NEG'])\n",
    "for i, file in read_return_file('Datasets/Reduced Tweet Data/').iterrows():\n",
    "    data = pd.read_csv(file['File Path'],engine='python',index_col=0)\n",
    "    #print(data['created_at'][0],file['File Name'])\n",
    "    influence_count = data['influence_labels'].value_counts()\n",
    "    data = data[data['influence_labels']!=influence_count.idxmax()]\n",
    "    daily_score = pd.DataFrame(data[['POS','NEU','NEG']].mean())\n",
    "    daily_score = daily_score.transpose()\n",
    "    sentiment_scores_influencer = pd.concat([sentiment_scores_influencer,daily_score],axis=0,ignore_index=True)\n",
    "\n",
    "sentiment_scores_influencer.to_csv('Datasets/sentiment_scores_influencer_average.csv')"
   ]
  },
  {
   "cell_type": "code",
   "execution_count": 44,
   "metadata": {},
   "outputs": [],
   "source": [
    "#Average Sentiment Score Hourly of \"Influences\" - Excluding the higgest group obtained from KMeans clustering\n",
    "start_date = pd.to_datetime('2022-06-01')\n",
    "end_date = pd.to_datetime('2022-07-14')\n",
    "sentiment_scores_influencer = pd.DataFrame(columns=['POS','NEU','NEG'])\n",
    "for i, file in read_return_file('Datasets/Reduced Tweet Data/').iterrows():\n",
    "    data = pd.read_csv(file['File Path'],engine='python',index_col=0)\n",
    "    #print(data['created_at'][0],file['File Name'])\n",
    "    influence_count = data['influence_labels'].value_counts()\n",
    "    data = data[data['influence_labels']!=influence_count.idxmax()]\n",
    "    data['created_at'] = pd.to_datetime(data['created_at'])\n",
    "    daily_score = pd.DataFrame(data.groupby([data['created_at'].dt.hour])[['POS','NEU','NEG']].mean())\n",
    "    #daily_score = pd.DataFrame(data[['POS','NEU','NEG']].mean())\n",
    "    #daily_score = daily_score.transpose()\n",
    "    sentiment_scores_influencer = pd.concat([sentiment_scores_influencer,daily_score],axis=0,ignore_index=True)\n",
    "\n",
    "sentiment_scores.index = pd.date_range(start=start_date, end=end_date,freq='H')[:-1]\n",
    "sentiment_scores_influencer.to_csv('Datasets/sentiment_scores_influencer_average_long.csv')"
   ]
  },
  {
   "cell_type": "code",
   "execution_count": null,
   "metadata": {},
   "outputs": [],
   "source": [
    "#Plot sent score total\n",
    "#Plot average sent score\n",
    "#Plot influencer sent score"
   ]
  },
  {
   "cell_type": "code",
   "execution_count": 10,
   "metadata": {},
   "outputs": [
    {
     "name": "stderr",
     "output_type": "stream",
     "text": [
      "/var/folders/zm/bf3yd8d526x62v9mglx0hpqw0000gn/T/ipykernel_46192/596843259.py:1: DtypeWarning: Columns (4) have mixed types. Specify dtype option on import or set low_memory=False.\n",
      "  sentiment_scores__all_data = pd.read_csv('Datasets/Reduced Tweet Data/sentiment_scores.csv',index_col=0)\n"
     ]
    }
   ],
   "source": [
    "sentiment_scores__all_data = pd.read_csv('Datasets/Reduced Tweet Data/sentiment_scores.csv',index_col=0)"
   ]
  },
  {
   "cell_type": "code",
   "execution_count": 26,
   "metadata": {},
   "outputs": [
    {
     "data": {
      "image/png": "[encoded data removed]",
      "text/plain": [
       "<Figure size 576x288 with 1 Axes>"
      ]
     },
     "metadata": {
      "needs_background": "light"
     },
     "output_type": "display_data"
    }
   ],
   "source": [
    "import numpy as np\n",
    "import scipy.stats as stats\n",
    "import matplotlib.pyplot as plt\n",
    "\n",
    "\n",
    "fig, ax = plt.subplots()\n",
    "\n",
    "h = list(sentiment_scores__all_data['POS'])\n",
    "h.sort()\n",
    "hmean = np.mean(h)\n",
    "hstd = np.std(h)\n",
    "pdf = stats.norm.pdf(h, hmean, hstd)\n",
    "plt.grid()\n",
    "\n",
    "\n",
    "g = list(sentiment_scores__all_data['NEG'])\n",
    "g.sort()\n",
    "gmean = np.mean(g)\n",
    "gstd = np.std(g)\n",
    "gpdf = stats.norm.pdf(g, gmean, gstd)\n",
    "plt.grid()\n",
    "\n",
    "i = list(sentiment_scores__all_data['NEU'])\n",
    "i.sort()\n",
    "imean = np.mean(i)\n",
    "istd = np.std(i)\n",
    "ipdf = stats.norm.pdf(i, imean, istd)\n",
    "ax.spines['top'].set_visible(False)\n",
    "ax.spines['right'].set_visible(False)\n",
    "ax.spines['bottom'].set_visible(False)\n",
    "ax.spines['left'].set_visible(False)\n",
    "ax.set_xlim(xmin = 0)\n",
    "ax.set_xlim(xmax = 1)\n",
    "\n",
    "ax.set_xlabel('Percentage')\n",
    "ax.set_ylabel('Probability Density Function')\n",
    "\n",
    "ax.fill_between(g, gpdf, 0, color='red', alpha=.1)\n",
    "ax.fill_between(i, ipdf, 0, color='grey', alpha=.1)\n",
    "ax.fill_between(h, pdf, 0, color='green', alpha=.1)\n",
    "\n",
    "plt.tick_params(left = False,labelleft=False)\n",
    "\n",
    "\n",
    "plt.grid()\n",
    "plt.plot(h, pdf,c='green',label='POS') # including h here is crucial\n",
    "plt.plot(g, gpdf,c='red',label='NEG') # including h here is crucial\n",
    "plt.plot(i, ipdf,c='grey',label = 'NEU') # including h here is crucial\n",
    "plt.legend()\n",
    "plt.rcParams['figure.figsize'] = [8, 4]\n",
    "plt.savefig('../Write-Up/CHAPTER_5/sentiment_score_distribution_python.png', format='png',dpi=600)\n",
    "\n",
    "plt.show()"
   ]
  },
  {
   "cell_type": "code",
   "execution_count": 22,
   "metadata": {},
   "outputs": [],
   "source": [
    "influence_label = sentiment_scores__all_data['influence_labels'].value_counts()\n",
    "sentiment_scores__all_data_inf = sentiment_scores__all_data[sentiment_scores__all_data['influence_labels']!= influence_label.idxmax()]"
   ]
  },
  {
   "cell_type": "code",
   "execution_count": 27,
   "metadata": {},
   "outputs": [
    {
     "data": {
      "image/png": "[encoded data removed]",
      "text/plain": [
       "<Figure size 576x288 with 1 Axes>"
      ]
     },
     "metadata": {
      "needs_background": "light"
     },
     "output_type": "display_data"
    }
   ],
   "source": [
    "import numpy as np\n",
    "import scipy.stats as stats\n",
    "import matplotlib.pyplot as plt\n",
    "\n",
    "\n",
    "fig, ax = plt.subplots()\n",
    "\n",
    "h = list(sentiment_scores__all_data_inf['POS'])\n",
    "h.sort()\n",
    "hmean = np.mean(h)\n",
    "hstd = np.std(h)\n",
    "pdf = stats.norm.pdf(h, hmean, hstd)\n",
    "plt.grid()\n",
    "\n",
    "\n",
    "g = list(sentiment_scores__all_data_inf['NEG'])\n",
    "g.sort()\n",
    "gmean = np.mean(g)\n",
    "gstd = np.std(g)\n",
    "gpdf = stats.norm.pdf(g, gmean, gstd)\n",
    "plt.grid()\n",
    "\n",
    "i = list(sentiment_scores__all_data_inf['NEU'])\n",
    "i.sort()\n",
    "imean = np.mean(i)\n",
    "istd = np.std(i)\n",
    "ipdf = stats.norm.pdf(i, imean, istd)\n",
    "ax.spines['top'].set_visible(False)\n",
    "ax.spines['right'].set_visible(False)\n",
    "ax.spines['bottom'].set_visible(False)\n",
    "ax.spines['left'].set_visible(False)\n",
    "ax.set_xlim(xmin = 0)\n",
    "ax.set_xlim(xmax = 1)\n",
    "\n",
    "ax.set_xlabel('Percentage')\n",
    "ax.set_ylabel('Probability Density Function')\n",
    "\n",
    "ax.fill_between(g, gpdf, 0, color='red', alpha=.1)\n",
    "ax.fill_between(i, ipdf, 0, color='grey', alpha=.1)\n",
    "ax.fill_between(h, pdf, 0, color='green', alpha=.1)\n",
    "\n",
    "plt.tick_params(left = False,labelleft=False)\n",
    "\n",
    "\n",
    "plt.grid()\n",
    "plt.plot(h, pdf,c='green',label='POS') # including h here is crucial\n",
    "plt.plot(g, gpdf,c='red',label='NEG') # including h here is crucial\n",
    "plt.plot(i, ipdf,c='grey',label = 'NEU') # including h here is crucial\n",
    "plt.legend()\n",
    "plt.rcParams['figure.figsize'] = [8, 4]\n",
    "plt.savefig('../Write-Up/CHAPTER_5/sentiment_score_distribution_python_inf.png', format='png',dpi=600)\n",
    "\n",
    "plt.show()"
   ]
  },
  {
   "cell_type": "code",
   "execution_count": 43,
   "metadata": {},
   "outputs": [
    {
     "data": {
      "text/plain": [
       "Index(['POS', 'NEU', 'NEG'], dtype='object')"
      ]
     },
     "execution_count": 43,
     "metadata": {},
     "output_type": "execute_result"
    }
   ],
   "source": [
    "sentiment_scores_data = pd.read_csv('Datasets/sentiment_scores_average_long.csv',index_col=0)\n",
    "sentiment_scores_data.columns"
   ]
  },
  {
   "cell_type": "code",
   "execution_count": 42,
   "metadata": {},
   "outputs": [
    {
     "data": {
      "text/plain": [
       "[<matplotlib.lines.Line2D at 0x7f8032ee76d0>]"
      ]
     },
     "execution_count": 42,
     "metadata": {},
     "output_type": "execute_result"
    },
    {
     "data": {
      "image/png": "[encoded data removed]",
      "text/plain": [
       "<Figure size 640x480 with 1 Axes>"
      ]
     },
     "metadata": {},
     "output_type": "display_data"
    }
   ],
   "source": [
    "import numpy as np\n",
    "import scipy.stats as stats\n",
    "import matplotlib.pyplot as plt\n",
    "\n",
    "\n",
    "fig, ax = plt.subplots()\n",
    "\n",
    "h = list(sentiment_scores_data['POS'])\n",
    "h.sort()\n",
    "hmean = np.mean(h)\n",
    "hstd = np.std(h)\n",
    "pdf = stats.norm.pdf(h, hmean, hstd)\n",
    "plt.grid()\n",
    "\n",
    "\n",
    "g = list(sentiment_scores_data['NEG'])\n",
    "g.sort()\n",
    "gmean = np.mean(g)\n",
    "gstd = np.std(g)\n",
    "gpdf = stats.norm.pdf(g, gmean, gstd)\n",
    "plt.grid()\n",
    "\n",
    "i = list(sentiment_scores_data['NEU'])\n",
    "i.sort()\n",
    "imean = np.mean(i)\n",
    "istd = np.std(i)\n",
    "ipdf = stats.norm.pdf(i, imean, istd)\n",
    "ax.spines['top'].set_visible(False)\n",
    "ax.spines['right'].set_visible(False)\n",
    "ax.spines['bottom'].set_visible(False)\n",
    "ax.spines['left'].set_visible(False)\n",
    "ax.set_xlim(xmin = 0)\n",
    "ax.set_xlim(xmax = 1)\n",
    "\n",
    "ax.set_xlabel('Percentage')\n",
    "ax.fill_between(g, gpdf, 0, color='red', alpha=.1)\n",
    "ax.fill_between(i, ipdf, 0, color='grey', alpha=.1)\n",
    "ax.fill_between(h, pdf, 0, color='green', alpha=.1)\n",
    "\n",
    "plt.tick_params(left = False,labelleft=False)\n",
    "\n",
    "\n",
    "plt.grid()\n",
    "plt.plot(h, pdf,c='green') # including h here is crucial\n",
    "plt.plot(g, gpdf,c='red') # including h here is crucial\n",
    "plt.plot(i, ipdf,c='grey') # including h here is crucial"
   ]
  },
  {
   "cell_type": "code",
   "execution_count": 63,
   "metadata": {},
   "outputs": [
    {
     "data": {
      "text/plain": [
       "Index(['POS', 'NEU', 'NEG'], dtype='object')"
      ]
     },
     "execution_count": 63,
     "metadata": {},
     "output_type": "execute_result"
    }
   ],
   "source": [
    "sentiment_scores_data = pd.read_csv('Datasets/sentiment_scores_average_long.csv',index_col=0)\n",
    "sentiment_scores_data.columns"
   ]
  },
  {
   "cell_type": "code",
   "execution_count": 5,
   "metadata": {},
   "outputs": [],
   "source": [
    "import pandas as pd\n",
    "sentiment_scores_data_inf = pd.read_csv('Datasets/sentiment_scores_influencer_average_long.csv',index_col=0)\n"
   ]
  },
  {
   "cell_type": "code",
   "execution_count": 9,
   "metadata": {},
   "outputs": [
    {
     "data": {
      "text/plain": [
       "[<matplotlib.lines.Line2D at 0x7fa5b1012910>]"
      ]
     },
     "execution_count": 9,
     "metadata": {},
     "output_type": "execute_result"
    },
    {
     "data": {
      "image/png": "[encoded data removed]",
      "text/plain": [
       "<Figure size 432x288 with 1 Axes>"
      ]
     },
     "metadata": {
      "needs_background": "light"
     },
     "output_type": "display_data"
    }
   ],
   "source": [
    "import numpy as np\n",
    "import scipy.stats as stats\n",
    "import matplotlib.pyplot as plt\n",
    "\n",
    "\n",
    "fig, ax = plt.subplots()\n",
    "\n",
    "h = list(sentiment_scores_data_inf['POS'])\n",
    "h.sort()\n",
    "hmean = np.mean(h)\n",
    "hstd = np.std(h)\n",
    "pdf = stats.norm.pdf(h, hmean, hstd)\n",
    "plt.grid()\n",
    "\n",
    "\n",
    "g = list(sentiment_scores_data_inf['NEG'])\n",
    "g.sort()\n",
    "gmean = np.mean(g)\n",
    "gstd = np.std(g)\n",
    "gpdf = stats.norm.pdf(g, gmean, gstd)\n",
    "plt.grid()\n",
    "\n",
    "i = list(sentiment_scores_data_inf['NEU'])\n",
    "i.sort()\n",
    "imean = np.mean(i)\n",
    "istd = np.std(i)\n",
    "ipdf = stats.norm.pdf(i, imean, istd)\n",
    "ax.spines['top'].set_visible(False)\n",
    "ax.spines['right'].set_visible(False)\n",
    "ax.spines['bottom'].set_visible(False)\n",
    "ax.spines['left'].set_visible(False)\n",
    "#ax.set_xlim(xmin = 0)\n",
    "#ax.set_xlim(xmax = 1)\n",
    "\n",
    "ax.set_xlabel('Percentage')\n",
    "ax.fill_between(g, gpdf, 0, color='red', alpha=.1)\n",
    "ax.fill_between(i, ipdf, 0, color='grey', alpha=.1)\n",
    "ax.fill_between(h, pdf, 0, color='green', alpha=.1)\n",
    "\n",
    "plt.tick_params(left = False,labelleft=False)\n",
    "\n",
    "\n",
    "plt.grid()\n",
    "plt.plot(h, pdf,c='green') # including h here is crucial\n",
    "plt.plot(g, gpdf,c='red') # including h here is crucial\n",
    "plt.plot(i, ipdf,c='grey') # including h here is crucial"
   ]
  }
 ],
 "metadata": {
  "kernelspec": {
   "display_name": "mur_crypto",
   "language": "python",
   "name": "mur_crypto"
  },
  "language_info": {
   "codemirror_mode": {
    "name": "ipython",
    "version": 3
   },
   "file_extension": ".py",
   "mimetype": "text/x-python",
   "name": "python",
   "nbconvert_exporter": "python",
   "pygments_lexer": "ipython3",
   "version": "3.9.7"
  },
  "orig_nbformat": 4,
  "vscode": {
   "interpreter": {
    "hash": "3525862eb7474a29db09ce01a834f42964e4c1bfc31ad17c337acfcc423c297f"
   }
  }
 },
 "nbformat": 4,
 "nbformat_minor": 2
}
