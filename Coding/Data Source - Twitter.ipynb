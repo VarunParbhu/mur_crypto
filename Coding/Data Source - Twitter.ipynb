{
 "cells": [
  {
   "cell_type": "markdown",
   "id": "0dde511c",
   "metadata": {},
   "source": [
    "- need to make a time function to query data"
   ]
  },
  {
   "cell_type": "code",
   "execution_count": 127,
   "id": "ec86508f",
   "metadata": {},
   "outputs": [],
   "source": [
    "import tweepy\n",
    "import configparser\n",
    "import time\n",
    "import json\n",
    "import pandas as pd\n",
    "import datetime"
   ]
  },
  {
   "cell_type": "markdown",
   "id": "2334a7b1",
   "metadata": {},
   "source": [
    "# Retrieving Twitter Data using Tweepy with Academic Access"
   ]
  },
  {
   "cell_type": "code",
   "execution_count": 21,
   "id": "8e534c15",
   "metadata": {},
   "outputs": [
    {
     "data": {
      "text/plain": [
       "['config.ini']"
      ]
     },
     "execution_count": 21,
     "metadata": {},
     "output_type": "execute_result"
    }
   ],
   "source": [
    "#Reading API token and secret\n",
    "config = configparser.RawConfigParser()\n",
    "config.read('config.ini')"
   ]
  },
  {
   "cell_type": "code",
   "execution_count": 22,
   "id": "df525cd2",
   "metadata": {},
   "outputs": [],
   "source": [
    "#Getting variable from config.ini file\n",
    "api_key = config['twitter']['api_key']\n",
    "api_key_secret = config['twitter']['api_key_secret']\n",
    "access_token = config['twitter']['access_token']\n",
    "access_token_secret = config['twitter']['access_token_secret']\n",
    "bearer_token = config['twitter']['bearer_secret']"
   ]
  },
  {
   "cell_type": "code",
   "execution_count": 119,
   "id": "ae0041c1",
   "metadata": {},
   "outputs": [],
   "source": [
    "#Getting authetication\n",
    "#OAuth is an open-standard Authorization protocol or framework that provides applications the ability for \"secure designated access\"\n",
    "#OAuth doesn't share password data but instead uses authorizations tokens to prove an identitybetween consumers and providers\n",
    "#OAuth is an authorizations protocal that allows you to approve one application interacting with another on behalf without giving away your password\n",
    "auth = tweepy.OAuthHandler(api_key, api_key_secret)\n",
    "auth.set_access_token(access_token, access_token_secret)\n",
    "\n",
    "#Generating an instance of Client with access full archieve from Academic Access\n",
    "client = tweepy.Client(bearer_token=bearer_token)"
   ]
  },
  {
   "cell_type": "code",
   "execution_count": 73,
   "id": "6fe3b0c7",
   "metadata": {},
   "outputs": [],
   "source": [
    "#Input for full archieve query\n",
    "query = 'bitcoin -is:retweet'\n",
    "start_time = '2022-01-01T00:00:00Z'\n",
    "stop_time = '2022-01-29T00:00:00Z'"
   ]
  },
  {
   "cell_type": "code",
   "execution_count": 74,
   "id": "66f90d13",
   "metadata": {},
   "outputs": [],
   "source": [
    "#Searching Twitter Archieve for the parameters defined above\n",
    "\n",
    "response = client.search_all_tweets(query=query,max_results=1,start_time=start_time, end_time=stop_time)\n",
    "client.search_all_tweets()"
   ]
  },
  {
   "cell_type": "code",
   "execution_count": 136,
   "id": "611117d3",
   "metadata": {},
   "outputs": [
    {
     "data": {
      "text/plain": [
       "tweepy.client.Response"
      ]
     },
     "execution_count": 136,
     "metadata": {},
     "output_type": "execute_result"
    }
   ],
   "source": [
    "type(response)"
   ]
  },
  {
   "cell_type": "code",
   "execution_count": 138,
   "id": "b79ae674",
   "metadata": {},
   "outputs": [],
   "source": [
    "#Function to retrieve the Tweet data using the \n",
    "\n",
    "def get_data_from_tweet(response):\n",
    "    '''\n",
    "    get_data_from_tweet(response)\n",
    "        response: Responce data from Get Request containing tweet_id and text\n",
    "        Function get status of tweet_id to retrieve username,description,location, #following, #followers and  #totaltweets of user and full_text, retweetcount, hashtags and time created of the tweet_id.\n",
    "    :return:\n",
    "        Dataframe containing: username, description, location, following, followers, totaltweets, retweetcount, text, hashtags and created_at\n",
    "    '''\n",
    "\n",
    "    #DataFrame generated to store User and Tweet information\n",
    "    db = pd.DataFrame(columns=[\n",
    "        'tweed_id',\n",
    "        'username',\n",
    "        'description',\n",
    "        'location',\n",
    "        'following',\n",
    "        'followers',\n",
    "        'totaltweets',\n",
    "        'retweetcount',\n",
    "        'text',\n",
    "        'hashtags',\n",
    "        'created_at'])\n",
    "\n",
    "    #Getting information from response variable input\n",
    "    for tweet in response.data:\n",
    "        tweet_data = api.get_status(tweet.id,tweet_mode='extended')\n",
    "        username = tweet_data.user.screen_name\n",
    "        description = tweet_data.user.description\n",
    "        location = tweet_data.user.location\n",
    "        following = tweet_data.user.friends_count\n",
    "        followers = tweet_data.user.followers_count\n",
    "        totaltweets = tweet_data.user.statuses_count\n",
    "        retweetcount = tweet_data.retweet_count\n",
    "        text = tweet_data.full_text\n",
    "        hashtags = tweet_data.entities['hashtags']\n",
    "        created_at = tweet_data.created_at\n",
    "\n",
    "        hashtext = list()\n",
    "        for j in range(0, len(hashtags)):\n",
    "            hashtext.append(hashtags[j]['text'])\n",
    "\n",
    "        tweet_summary = [tweet.id_str, username,description,location,following,followers,totaltweets,retweetcount,text,hashtext,created_at]\n",
    "        db.loc[len(db)] = tweet_summary\n",
    "\n",
    "    return db\n",
    "#initializing tokens\n",
    "if __name__ == '__main__':\n",
    "        consumer_key = api_key\n",
    "        consumer_secret = api_key_secret\n",
    "        access_key = access_token\n",
    "        access_secret = access_token_secret\n",
    " \n",
    "        auth = tweepy.OAuthHandler(consumer_key, consumer_secret)\n",
    "        auth.set_access_token(access_key, access_secret)\n",
    "        client = tweepy.Client(bearer_token=bearer_token) #will be used later when function is generalised to take query input\n",
    "        api = tweepy.API(auth)\n",
    "    "
   ]
  },
  {
   "cell_type": "code",
   "execution_count": 140,
   "id": "13e2e2b3",
   "metadata": {},
   "outputs": [],
   "source": [
    "#Saving results\n",
    "\n",
    "result = get_data_from_tweet(response=response)\n",
    "result.to_csv('Datasets/Tweet Data/academic_{}.csv'.format(str(datetime.datetime.now())))\n"
   ]
  },
  {
   "cell_type": "markdown",
   "id": "78a32d8e",
   "metadata": {},
   "source": [
    "## Testing API connection"
   ]
  },
  {
   "cell_type": "code",
   "execution_count": 145,
   "id": "b15cf371",
   "metadata": {},
   "outputs": [],
   "source": [
    "#Search keyword\n",
    "keyword = 'bitcoin'\n",
    "\n",
    "#Data since search yyyy-mm-dd\n",
    "date_since = '2022-01-31'\n",
    "\n",
    "#Number of Tweets, integer\n",
    "numtweets = 15"
   ]
  },
  {
   "cell_type": "code",
   "execution_count": 148,
   "id": "a75f5a18",
   "metadata": {},
   "outputs": [],
   "source": [
    "tweets = tweepy.Cursor(api.search_tweets,label='FullArchive' , q = keyword, since_id=date_since, lang=\"en\", tweet_mode=\"extended\").items(numtweets)"
   ]
  },
  {
   "cell_type": "code",
   "execution_count": 149,
   "id": "4a06a2b2",
   "metadata": {},
   "outputs": [
    {
     "name": "stderr",
     "output_type": "stream",
     "text": [
      "Unexpected parameter: label\n",
      "Unexpected parameter: label\n"
     ]
    }
   ],
   "source": [
    "tweets_list = [tweet for tweet in tweets]"
   ]
  },
  {
   "cell_type": "code",
   "execution_count": 156,
   "id": "001b1c42",
   "metadata": {
    "collapsed": true
   },
   "outputs": [
    {
     "name": "stdout",
     "output_type": "stream",
     "text": [
      "User(_api=<tweepy.api.API object at 0x7f8c929a88e0>, _json={'id': 1430505266315993091, 'id_str': '1430505266315993091', 'name': 'Quentin', 'screen_name': 'QTNSKI', 'location': '', 'description': '', 'url': None, 'entities': {'description': {'urls': []}}, 'protected': False, 'followers_count': 29, 'friends_count': 203, 'listed_count': 4, 'created_at': 'Wed Aug 25 12:20:42 +0000 2021', 'favourites_count': 414, 'utc_offset': None, 'time_zone': None, 'geo_enabled': False, 'verified': False, 'statuses_count': 283, 'lang': None, 'contributors_enabled': False, 'is_translator': False, 'is_translation_enabled': False, 'profile_background_color': 'F5F8FA', 'profile_background_image_url': None, 'profile_background_image_url_https': None, 'profile_background_tile': False, 'profile_image_url': 'http://pbs.twimg.com/profile_images/1444087539065892864/XKYqZn8T_normal.jpg', 'profile_image_url_https': 'https://pbs.twimg.com/profile_images/1444087539065892864/XKYqZn8T_normal.jpg', 'profile_link_color': '1DA1F2', 'profile_sidebar_border_color': 'C0DEED', 'profile_sidebar_fill_color': 'DDEEF6', 'profile_text_color': '333333', 'profile_use_background_image': True, 'has_extended_profile': True, 'default_profile': True, 'default_profile_image': False, 'following': False, 'follow_request_sent': False, 'notifications': False, 'translator_type': 'none', 'withheld_in_countries': []}, id=1430505266315993091, id_str='1430505266315993091', name='Quentin', screen_name='QTNSKI', location='', description='', url=None, entities={'description': {'urls': []}}, protected=False, followers_count=29, friends_count=203, listed_count=4, created_at=datetime.datetime(2021, 8, 25, 12, 20, 42, tzinfo=datetime.timezone.utc), favourites_count=414, utc_offset=None, time_zone=None, geo_enabled=False, verified=False, statuses_count=283, lang=None, contributors_enabled=False, is_translator=False, is_translation_enabled=False, profile_background_color='F5F8FA', profile_background_image_url=None, profile_background_image_url_https=None, profile_background_tile=False, profile_image_url='http://pbs.twimg.com/profile_images/1444087539065892864/XKYqZn8T_normal.jpg', profile_image_url_https='https://pbs.twimg.com/profile_images/1444087539065892864/XKYqZn8T_normal.jpg', profile_link_color='1DA1F2', profile_sidebar_border_color='C0DEED', profile_sidebar_fill_color='DDEEF6', profile_text_color='333333', profile_use_background_image=True, has_extended_profile=True, default_profile=True, default_profile_image=False, following=False, follow_request_sent=False, notifications=False, translator_type='none', withheld_in_countries=[])\n"
     ]
    }
   ],
   "source": [
    "print(tweets_list[2].user)"
   ]
  },
  {
   "cell_type": "code",
   "execution_count": 114,
   "id": "cd66f10d",
   "metadata": {
    "collapsed": true
   },
   "outputs": [
    {
     "name": "stdout",
     "output_type": "stream",
     "text": [
      "RT @MartiniGuyYT: I’m going to cheer one of you up\n",
      "\n",
      "$400 Weekend #Bitcoin Giveaway \n",
      "\n",
      "WINNER ANNOUNCED SUNDAY AT MIDNIGHT\n",
      "\n",
      "To enter follow @…\n",
      "2022-05-08 14:13:24+00:00\n",
      "2017-08-01 22:19:42+00:00\n",
      "{'iso_language_code': 'en', 'result_type': 'recent'}\n"
     ]
    },
    {
     "data": {
      "text/plain": [
       "<function print>"
      ]
     },
     "execution_count": 114,
     "metadata": {},
     "output_type": "execute_result"
    }
   ],
   "source": [
    "index = 7\n",
    "print(tweets_list[index].full_text)\n",
    "print(tweets_list[index].created_at)\n",
    "print(tweets_list[index].user.created_at)\n",
    "print(tweets_list[index].metadata)\n",
    "print(tweets_list[index].s)"
   ]
  },
  {
   "cell_type": "code",
   "execution_count": 122,
   "id": "2a0e7669",
   "metadata": {},
   "outputs": [
    {
     "data": {
      "text/plain": [
       "datetime.datetime(2022, 5, 8, 14, 13, 26, tzinfo=datetime.timezone.utc)"
      ]
     },
     "execution_count": 122,
     "metadata": {},
     "output_type": "execute_result"
    }
   ],
   "source": [
    "api.get_status(1523305075463970818,tweet_mode=\"extended\").created_at"
   ]
  },
  {
   "cell_type": "code",
   "execution_count": 123,
   "id": "43c6bfed",
   "metadata": {},
   "outputs": [],
   "source": [
    "created_at = api.get_status(1523305075463970818,tweet_mode=\"extended\").created_at"
   ]
  },
  {
   "cell_type": "code",
   "execution_count": 125,
   "id": "4abe3887",
   "metadata": {},
   "outputs": [
    {
     "name": "stdout",
     "output_type": "stream",
     "text": [
      "2022-05-08 14:13:26+00:00\n"
     ]
    }
   ],
   "source": [
    "print(created_at)\n"
   ]
  },
  {
   "cell_type": "markdown",
   "id": "ac51ca9d",
   "metadata": {},
   "source": [
    "# Sample Code from GeeksforGeeks to retrieve Twitter Data"
   ]
  },
  {
   "cell_type": "code",
   "execution_count": 117,
   "id": "361f5e23",
   "metadata": {
    "collapsed": true
   },
   "outputs": [],
   "source": [
    "### https://www.geeksforgeeks.org/extracting-tweets-containing-a-particular-hashtag-using-python/\n",
    "# Python Script to Extract tweets of a\n",
    "# particular Hashtag using Tweepy and Pandas\n",
    "\n",
    "# import modules\n",
    "import pandas as pd\n",
    "import tweepy\n",
    "\n",
    "# function to display data of each tweet\n",
    "def printtweetdata(n, ith_tweet):\n",
    "        print()\n",
    "        print(f\"Tweet {n}:\")\n",
    "        print(f\"Username:{ith_tweet[0]}\")\n",
    "        print(f\"Description:{ith_tweet[1]}\")\n",
    "        print(f\"Location:{ith_tweet[2]}\")\n",
    "        print(f\"Following Count:{ith_tweet[3]}\")\n",
    "        print(f\"Follower Count:{ith_tweet[4]}\")\n",
    "        print(f\"Total Tweets:{ith_tweet[5]}\")\n",
    "        print(f\"Retweet Count:{ith_tweet[6]}\")\n",
    "        print(f\"Tweet Text:{ith_tweet[7]}\")\n",
    "        print(f\"Hashtags Used:{ith_tweet[8]}\")\n",
    "\n",
    "\n",
    "# function to perform data extraction\n",
    "def scrape(words, date_since, numtweet):\n",
    "\n",
    "        # Creating DataFrame using pandas\n",
    "        db = pd.DataFrame(columns=['username',\n",
    "                                'description',\n",
    "                                'location',\n",
    "                                'following',\n",
    "                                'followers',\n",
    "                                'totaltweets',\n",
    "                                'retweetcount',\n",
    "                                'text',\n",
    "                                'hashtags',\n",
    "                                'created_at'])\n",
    "\n",
    "        # We are using .Cursor() to search\n",
    "        # through twitter for the required tweets.\n",
    "        # The number of tweets can be\n",
    "        # restricted using .items(number of tweets)\n",
    "        tweets = tweepy.Cursor(api.search_tweets,\n",
    "                            words, lang=\"en\",\n",
    "                            since_id=date_since,\n",
    "                            tweet_mode='extended').items(numtweet)\n",
    "        print(tweets.num_tweets)\n",
    "\n",
    "        # .Cursor() returns an iterable object. Each item in\n",
    "        # the iterator has various attributes\n",
    "        # that you can access to\n",
    "        # get information about each tweet\n",
    "        list_tweets = [tweet for tweet in tweets]\n",
    "        print(list_tweets)\n",
    "\n",
    "        # Counter to maintain Tweet Count\n",
    "        i = 1\n",
    "\n",
    "        # we will iterate over each tweet in the\n",
    "        # list for extracting information about each tweet\n",
    "        for tweet in list_tweets:\n",
    "                username = tweet.user.screen_name\n",
    "                description = tweet.user.description\n",
    "                location = tweet.user.location\n",
    "                following = tweet.user.friends_count\n",
    "                followers = tweet.user.followers_count\n",
    "                totaltweets = tweet.user.statuses_count\n",
    "                retweetcount = tweet.retweet_count\n",
    "                hashtags = tweet.entities['hashtags']\n",
    "                created_at = tweet.created_at\n",
    "\n",
    "                # Retweets can be distinguished by\n",
    "                # a retweeted_status attribute,\n",
    "                # in case it is an invalid reference,\n",
    "                # except block will be executed\n",
    "                try:\n",
    "                        text = tweet.retweeted_status.full_text\n",
    "                except AttributeError:\n",
    "                        text = tweet.full_text\n",
    "                hashtext = list()\n",
    "                for j in range(0, len(hashtags)):\n",
    "                        hashtext.append(hashtags[j]['text'])\n",
    "\n",
    "                # Here we are appending all the\n",
    "                # extracted information in the DataFrame\n",
    "                ith_tweet = [username, description,\n",
    "                            location, following,\n",
    "                            followers, totaltweets,\n",
    "                            retweetcount, text, hashtext, created_at]\n",
    "                db.loc[len(db)] = ith_tweet\n",
    "\n",
    "                # Function call to print tweet data on screen\n",
    "                printtweetdata(i, ith_tweet)\n",
    "                i = i+1\n",
    "                filename = 'test_scraped_tweets.csv'\n",
    "\n",
    "        # we will save our database as a CSV file.\n",
    "        #db.to_csv(f\"Datasets/{filename}\")\n",
    "\n",
    "if __name__ == '__main__':\n",
    "\n",
    "        # Enter your own credentials obtained\n",
    "        # from your developer account\n",
    "        consumer_key = api_key\n",
    "        consumer_secret = api_key_secret\n",
    "        access_key = access_token\n",
    "        access_secret = access_token_secret\n",
    "\n",
    " \n",
    "        auth = tweepy.OAuthHandler(consumer_key, consumer_secret)\n",
    "        auth.set_access_token(access_key, access_secret)\n",
    "        api = tweepy.API(auth)\n",
    "\n",
    "        # Enter Hashtag and initial date\n",
    "        print(\"Enter Twitter HashTag to search for\")\n",
    "        words = input()\n",
    "        print(\"Enter Date since The Tweets are required in yyyy-mm--dd\")\n",
    "        date_since = input()\n",
    "\n",
    "        # number of tweets you want to extract in one run\n",
    "        numtweet = 10\n",
    "        scrape(words, date_since, numtweet)\n",
    "        print('Scraping has completed!')\n",
    "        "
   ]
  }
 ],
 "metadata": {
  "interpreter": {
   "hash": "dc9f29d5f2d7b27ff6a84ea5fe88a58c09ecfb01691ae484020498e4c6bdd330"
  },
  "kernelspec": {
   "display_name": "Python 3.9.7 ('mur_crypto')",
   "language": "python",
   "name": "python3"
  },
  "language_info": {
   "codemirror_mode": {
    "name": "ipython",
    "version": 3
   },
   "file_extension": ".py",
   "mimetype": "text/x-python",
   "name": "python",
   "nbconvert_exporter": "python",
   "pygments_lexer": "ipython3",
   "version": "3.9.7"
  }
 },
 "nbformat": 4,
 "nbformat_minor": 5
}
