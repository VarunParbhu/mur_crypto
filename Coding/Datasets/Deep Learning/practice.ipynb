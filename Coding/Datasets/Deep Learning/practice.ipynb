{
 "cells": [
  {
   "cell_type": "code",
   "execution_count": 55,
   "metadata": {},
   "outputs": [],
   "source": [
    "import numpy as np\n",
    "import pandas as pd"
   ]
  },
  {
   "cell_type": "markdown",
   "metadata": {},
   "source": [
    "### Hot and Cold Learning"
   ]
  },
  {
   "cell_type": "code",
   "execution_count": 20,
   "metadata": {},
   "outputs": [],
   "source": [
    "input = 0.5\n",
    "goal_pred = 0.8\n",
    "weight = 0.5"
   ]
  },
  {
   "cell_type": "code",
   "execution_count": 21,
   "metadata": {},
   "outputs": [],
   "source": [
    "def pred_h_c(input,weight):\n",
    "    return input*weight\n",
    "\n",
    "def error_se(pred,goal_pred):\n",
    "    return (pred - goal_pred)**2"
   ]
  },
  {
   "cell_type": "code",
   "execution_count": 23,
   "metadata": {},
   "outputs": [],
   "source": [
    "pred = pred_h_c(input,weight)\n",
    "error = error_se(pred,goal_pred)\n",
    "\n",
    "for i in range(1101):\n",
    "    weight_delta = 0.001\n",
    "    weight_more = weight + weight_delta\n",
    "    weight_less = weight - weight_delta\n",
    "    \n",
    "    error_h = error_se(pred_h_c(input,weight_more),goal_pred)\n",
    "    error_c = error_se(pred_h_c(input,weight_less),goal_pred)\n",
    "\n",
    "    if (error_h <= error_c):\n",
    "        weight = weight_more\n",
    "    else:\n",
    "        weight = weight_less\n",
    "    \n",
    "    #print('Error: {}  Predicition: {}'.format(error_se(pred_h_c(input,weight),goal_pred),pred_h_c(input,weight)))"
   ]
  },
  {
   "cell_type": "markdown",
   "metadata": {},
   "source": [
    "### Gradient Descent"
   ]
  },
  {
   "cell_type": "code",
   "execution_count": 48,
   "metadata": {},
   "outputs": [],
   "source": [
    "input = 2\n",
    "goal_pred = 0.8\n",
    "weight = 0.5\n",
    "alpha = 0.1"
   ]
  },
  {
   "cell_type": "code",
   "execution_count": 70,
   "metadata": {},
   "outputs": [],
   "source": [
    "pred = pred_h_c(input,weight)\n",
    "error = error_se(pred,input)\n",
    "\n",
    "for i in range (50):\n",
    "    raw_error = pred - goal_pred\n",
    "    delta = (raw_error)*input ## accounts for Direction and Amount, Pure Error, Scaling Negative Reversal and Stopping\n",
    "    weight -= delta*alpha\n",
    "    pred = pred_h_c(input,weight)\n",
    "    error = error_se(pred,goal_pred)\n",
    "    #print('Error: {}  Predicition: {}'.format(error_se(pred_h_c(input,weight),goal_pred),pred_h_c(input,weight)))\n",
    "    \n",
    "\n"
   ]
  },
  {
   "cell_type": "markdown",
   "metadata": {},
   "source": [
    "## Generalized Gradient Descent"
   ]
  },
  {
   "cell_type": "code",
   "execution_count": 91,
   "metadata": {},
   "outputs": [],
   "source": [
    "#Input\n",
    "toes = [8.5, 9.5, 9.9, 9.0] \n",
    "wlrec = [0.65, 0.8, 0.8, 0.9] \n",
    "nfans = [1.2, 1.3, 0.5, 1.0]\n",
    "\n",
    "#Target\n",
    "win_or_lose_binary = [1, 1, 0, 1]\n"
   ]
  },
  {
   "cell_type": "code",
   "execution_count": 88,
   "metadata": {},
   "outputs": [],
   "source": [
    "def pred_grad_desc (input, weight):\n",
    "    return np.dot(input,weight)"
   ]
  },
  {
   "cell_type": "code",
   "execution_count": 67,
   "metadata": {},
   "outputs": [
    {
     "data": {
      "text/plain": [
       "array([10.5 ,  2.65,  3.2 ])"
      ]
     },
     "execution_count": 67,
     "metadata": {},
     "output_type": "execute_result"
    }
   ],
   "source": [
    "np.array(input) + 2"
   ]
  },
  {
   "cell_type": "markdown",
   "metadata": {},
   "source": [
    "### Learning with Multiple Input"
   ]
  },
  {
   "cell_type": "code",
   "execution_count": 139,
   "metadata": {},
   "outputs": [],
   "source": [
    "\n",
    "input = np.array([toes[0],wlrec[0],nfans[0]])\n",
    "weight = np.array([0.1, 0.2, -.1])\n",
    "alpha = 0.01\n",
    "\n",
    "output = win_or_lose_binary[1]\n",
    "\n",
    "\n",
    "for i in range(100):\n",
    "    pred = pred_grad_desc(input,weight)\n",
    "    delta = pred - output\n",
    "    error = delta**2\n",
    "\n",
    "    weight_delta = delta\n",
    "    weight = weight - weight_delta*alpha\n",
    "\n",
    "    #print('Error: {}  Predicition: {}'.format(error,pred))\n",
    "\n",
    "\n"
   ]
  },
  {
   "cell_type": "markdown",
   "metadata": {},
   "source": [
    "### Learning with Multiple Output"
   ]
  },
  {
   "cell_type": "code",
   "execution_count": 143,
   "metadata": {},
   "outputs": [],
   "source": [
    "wlrec = [0.65, 1.0, 1.0, 0.9] #win percentage for games\n",
    "\n",
    "hurt = [0.1, 0.0, 0.0, 0.1]\n",
    "win = [1,1,0,1]\n",
    "sad = [0.1, 0.0, 0.1, 0.2]\n",
    "\n",
    "weight = np.array([0.3, 0.2, 0.9])\n",
    "alpha = 0.1\n"
   ]
  },
  {
   "cell_type": "code",
   "execution_count": 144,
   "metadata": {},
   "outputs": [],
   "source": [
    "def scalar_ele_mult(number,vector):\n",
    "    output = [0,0,0]\n",
    "    assert(len(number)==len(vector))\n",
    "    for i in range(len(number)):\n",
    "        output[i] = number[i]*vector[i]\n",
    "    return output\n"
   ]
  },
  {
   "cell_type": "code",
   "execution_count": 145,
   "metadata": {},
   "outputs": [],
   "source": [
    "def scalar_ele_mult_num(number,vector):\n",
    "    output = [0,0,0]\n",
    "    assert(len(output)==len(vector))\n",
    "    for i in range(len(vector)):\n",
    "        output[i] = number*vector[i]\n",
    "    return output"
   ]
  },
  {
   "cell_type": "code",
   "execution_count": 147,
   "metadata": {},
   "outputs": [],
   "source": [
    "input = wlrec[0]\n",
    "true = [hurt[0], win[0], sad[0]]\n",
    "\n",
    "for epoch in range(100):\n",
    "    pred = weight*input\n",
    "\n",
    "    delta = [0,0,0]\n",
    "    error = [0,0,0]\n",
    "\n",
    "    for i in range(len(true)):\n",
    "        delta[i] = pred[i] - true[i]\n",
    "        error[i] = (delta[i])**2\n",
    "        \n",
    "    weight_delta = scalar_ele_mult_num(input,delta)\n",
    "    \n",
    "    weight -= scalar_ele_mult_num(alpha,weight_delta)\n",
    "    #print(\"Weights:\" + str(weight))\n",
    "    #print(\"Error:\" + str(error))\n",
    "\n"
   ]
  },
  {
   "cell_type": "markdown",
   "metadata": {},
   "source": [
    "### Learning with Multiple Inputs and Outputs"
   ]
  },
  {
   "cell_type": "code",
   "execution_count": 191,
   "metadata": {},
   "outputs": [],
   "source": [
    "weights = [\n",
    "    [0.1, 0.1, -0.3],\n",
    "    [0.1, 0.2, 0.0],\n",
    "    [0.0, 1.3, 0.1]\n",
    " ]\n",
    "\n",
    "## Inputs\n",
    "\n",
    "toes = [8.5, 9.5, 9.9, 9.0] \n",
    "lrec = [0.65,0.8, 0.8, 0.9] \n",
    "nfans = [1.2, 1.3, 0.5, 1.0]\n",
    "\n",
    "## Outputs\n",
    "\n",
    "hurt = [0.1, 0.0, 0.0, 0.1] \n",
    "win =[1,1,0,1] \n",
    "sad = [0.1, 0.0, 0.1, 0.2]\n",
    "\n",
    "\n"
   ]
  },
  {
   "cell_type": "code",
   "execution_count": 192,
   "metadata": {},
   "outputs": [],
   "source": [
    "def vec_mat_mult(vector, matrix):\n",
    "    output = [0,0,0]\n",
    "    assert(len(vector)==len(matrix))\n",
    "    for i in range(len(vector)):\n",
    "        output[i] = np.dot(vector,matrix[i])\n",
    "    return output\n",
    "\n",
    "def outer_prod(vec_a,vec_b):\n",
    "    assert(len(vec_a)==len(vec_b))\n",
    "    output = np.zeros([3,3])\n",
    "    for i in range(len(vec_a)):\n",
    "        for j in range(len(vec_b)):\n",
    "            output[i,j] = vec_a[i]*vec_b[j]\n",
    "    return output"
   ]
  },
  {
   "cell_type": "code",
   "execution_count": 193,
   "metadata": {},
   "outputs": [],
   "source": [
    "input = [toes[0], lrec[0],nfans[0]]\n",
    "true = [hurt[0],win[0],sad[0]]\n",
    "alpha = 0.01\n"
   ]
  },
  {
   "cell_type": "code",
   "execution_count": 196,
   "metadata": {},
   "outputs": [],
   "source": [
    "for i in range(100):\n",
    "    pred = vec_mat_mult(input,weights)\n",
    "    delta = [0,0,0]\n",
    "    error = [0,0,0]\n",
    "    for i in range(output):\n",
    "        delta[i] = pred[i] - true[i]\n",
    "        error[i] =delta[i]**2\n",
    "    \n",
    "    weight_delta = outer_prod(input,delta)\n",
    "    \n",
    "    for i in range(len(weights)):\n",
    "        for j in range(len(weights)):\n",
    "            weights[i][j] -= alpha*weight_delta[i][j]\n",
    "\n",
    "    #print(\"Weights:\" + str(weight))\n",
    "    #print(\"Error:\" + str(error))"
   ]
  },
  {
   "cell_type": "markdown",
   "metadata": {},
   "source": [
    "### Learning the whole dataset"
   ]
  },
  {
   "cell_type": "code",
   "execution_count": 199,
   "metadata": {},
   "outputs": [],
   "source": [
    "weights = np.array([0.5,0.48,-0.7]) \n",
    "alpha = 0.1\n",
    "\n",
    "streetlights = np.array([\n",
    "    [ 1, 0, 1 ], \n",
    "    [ 0, 1, 1 ],\n",
    "    [ 0, 0, 1 ], \n",
    "    [ 1, 1, 1 ], \n",
    "    [ 0, 1, 1 ],\n",
    "    [ 1, 0, 1 ]\n",
    "])\n",
    "\n",
    "walk_vs_stop = np.array([ 0, 1, 0, 1, 1, 0])"
   ]
  },
  {
   "cell_type": "code",
   "execution_count": 217,
   "metadata": {},
   "outputs": [],
   "source": [
    "input = streetlights\n",
    "output = walk_vs_stop\n",
    "\n",
    "weight = weights\n",
    "alpha = 0.1"
   ]
  },
  {
   "cell_type": "code",
   "execution_count": 219,
   "metadata": {},
   "outputs": [],
   "source": [
    "for i in range(100):\n",
    "    total_error = 0\n",
    "    for row in range(len(input)):\n",
    "        pred = np.dot(input[row],weight)\n",
    "        delta = pred - output[row]\n",
    "        error = delta**2\n",
    "        total_error += error\n",
    "\n",
    "        weight_delta = input[row]*delta\n",
    "        weight -= alpha*weight_delta\n",
    "    \n",
    "    #print('Weight: {} Error: {}'.format(weight,total_error))"
   ]
  },
  {
   "cell_type": "markdown",
   "metadata": {},
   "source": [
    "### Deep Neural Network\n",
    "\n",
    "### Problem 1\n",
    "\n",
    "layer 0 → input \n",
    "\n",
    "layer 1 → hidden\n",
    "\n",
    "layer 2 → output"
   ]
  },
  {
   "cell_type": "code",
   "execution_count": 334,
   "metadata": {},
   "outputs": [],
   "source": [
    "alpha = 0.05\n",
    "hidden_size = 4\n",
    "\n",
    "streetlights = np.array([\n",
    "    [ 1, 0, 1 ], \n",
    "    [ 0, 1, 1 ],\n",
    "    [ 0, 0, 1 ], \n",
    "    [ 1, 1, 1 ]\n",
    "])\n",
    "\n",
    "walk_vs_stop = np.array([ 0, 1, 0, 1])"
   ]
  },
  {
   "cell_type": "code",
   "execution_count": 335,
   "metadata": {},
   "outputs": [],
   "source": [
    "def relu (x):\n",
    "    return(x>0)*x\n",
    "\n",
    "def relu_deriv(x):\n",
    "    return (x>0)"
   ]
  },
  {
   "cell_type": "code",
   "execution_count": 336,
   "metadata": {},
   "outputs": [],
   "source": [
    "weights_0_1 = 2*np.random.random([3,hidden_size]) - 1\n",
    "weights_1_2 = 2*np.random.random([hidden_size,1]) - 1"
   ]
  },
  {
   "cell_type": "code",
   "execution_count": 351,
   "metadata": {},
   "outputs": [],
   "source": [
    "## Annotate what every part is doing \n",
    "\n",
    "from ast import Pass\n",
    "\n",
    "\n",
    "for i in range(1000):\n",
    "    layer_2_error = 0\n",
    "    for row in range(len(streetlights)):\n",
    "\n",
    "        layer_0 = streetlights[row]\n",
    "        layer_1 = relu(np.dot(layer_0,weights_0_1))\n",
    "        layer_2 = np.dot(layer_1,weights_1_2)\n",
    "\n",
    "        layer_2_error += (layer_2 - walk_vs_stop[row])**2\n",
    "        \n",
    "        layer_2_delta = layer_2 - walk_vs_stop[row]\n",
    "        layer_1_delta = layer_2_delta.dot(weights_1_2.T)*relu_deriv(layer_1)\n",
    "\n",
    "        weights_1_2 -= alpha*np.outer(layer_2_delta,layer_1).T\n",
    "        weights_0_1 -= alpha*np.outer(layer_0,layer_1_delta)\n",
    "\n",
    "    if (i%10==9):\n",
    "        continue\n",
    "        #print('Error: {}'.format(layer_2_error))"
   ]
  },
  {
   "cell_type": "markdown",
   "metadata": {},
   "source": [
    "### Problem 2"
   ]
  },
  {
   "cell_type": "code",
   "execution_count": 32,
   "metadata": {},
   "outputs": [],
   "source": [
    "alpha = 0.05\n",
    "hidden_size = 4\n",
    "\n",
    "streetlights = np.array([\n",
    "    [ 1, 0, 1 ], \n",
    "    [ 0, 1, 1 ],\n",
    "    [ 0, 0, 1 ], \n",
    "    [ 1, 1, 1 ]\n",
    "])\n",
    "\n",
    "walk_vs_stop = np.array([ 0, 1, 0, 1])"
   ]
  },
  {
   "cell_type": "code",
   "execution_count": 38,
   "metadata": {},
   "outputs": [],
   "source": [
    "def relu (x):\n",
    "    return(x>0)*x\n",
    "\n",
    "def relu_derive(x):\n",
    "    return(x>0)"
   ]
  },
  {
   "cell_type": "code",
   "execution_count": 55,
   "metadata": {},
   "outputs": [],
   "source": [
    "#np.random.random() -> returns random number between interval [0.0,1.0)\n",
    "#2*[0.0,1.0) - 1 -> (-1,1)\n",
    "\n",
    "weights_0_1 = 2*np.random.random([3,4]) - 1\n",
    "weights_1_2 = 2*np.random.random([4,1]) - 1"
   ]
  },
  {
   "cell_type": "code",
   "execution_count": 66,
   "metadata": {},
   "outputs": [
    {
     "name": "stdout",
     "output_type": "stream",
     "text": [
      "Error: [0.13011488]\n",
      "Error: [0.06564233]\n",
      "Error: [0.02870899]\n",
      "Error: [0.01128343]\n",
      "Error: [0.00423994]\n",
      "Error: [0.00157884]\n",
      "Error: [0.00060533]\n",
      "Error: [0.00025925]\n",
      "Error: [0.00013465]\n",
      "Error: [8.6450313e-05]\n"
     ]
    }
   ],
   "source": [
    "for epoch in range(100):\n",
    "    error = 0\n",
    "    for i in range(len(streetlights)):\n",
    "        #Feed-Foward part of Deep Neural Network\n",
    "        layer_0 = streetlights[i] #Dim (3,1)\n",
    "        layer_1 = relu(np.dot(layer_0.T,weights_0_1)) #Dim (_,3) x (3,4) -> (_,4)\n",
    "        layer_2 = np.dot(layer_1,weights_1_2) #Dim (_,4) x (4,1) -> (_,1)\n",
    "\n",
    "        error += (layer_2 - walk_vs_stop[i])**2 #Total Error \n",
    "        \n",
    "        layer_2_delta = (layer_2 - walk_vs_stop[i]) #Dim (_,1)\n",
    "        layer_1_delta = layer_2_delta.dot(weights_1_2.T)*relu_derive(layer_1) #Dim (_,1).(1,4)x(_,4) -> (_,4)\n",
    "        \n",
    "        weights_1_2 -= alpha*np.outer(layer_1,layer_2_delta) #Dim (_,4) o (_,1) -> (4,1)\n",
    "        weights_0_1 -= alpha*np.outer(layer_0,layer_1_delta) #Dim (3,1) o (_,4) -> (3,4)\n",
    "\n",
    "    if (epoch%10==9):\n",
    "        #continue\n",
    "        print('Error: {}'.format(error))\n",
    "\n",
    "\n",
    "\n"
   ]
  }
 ],
 "metadata": {
  "kernelspec": {
   "display_name": "mur_crypto",
   "language": "python",
   "name": "mur_crypto"
  },
  "language_info": {
   "codemirror_mode": {
    "name": "ipython",
    "version": 3
   },
   "file_extension": ".py",
   "mimetype": "text/x-python",
   "name": "python",
   "nbconvert_exporter": "python",
   "pygments_lexer": "ipython3",
   "version": "3.9.7"
  },
  "orig_nbformat": 4
 },
 "nbformat": 4,
 "nbformat_minor": 2
}
