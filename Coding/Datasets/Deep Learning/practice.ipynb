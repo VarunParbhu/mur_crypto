{
 "cells": [
  {
   "cell_type": "code",
   "execution_count": 55,
   "metadata": {},
   "outputs": [],
   "source": [
    "import numpy as np\n",
    "import pandas as pd"
   ]
  },
  {
   "cell_type": "markdown",
   "metadata": {},
   "source": [
    "### Hot and Cold Learning"
   ]
  },
  {
   "cell_type": "code",
   "execution_count": 20,
   "metadata": {},
   "outputs": [],
   "source": [
    "input = 0.5\n",
    "goal_pred = 0.8\n",
    "weight = 0.5"
   ]
  },
  {
   "cell_type": "code",
   "execution_count": 21,
   "metadata": {},
   "outputs": [],
   "source": [
    "def pred_h_c(input,weight):\n",
    "    return input*weight\n",
    "\n",
    "def error_se(pred,goal_pred):\n",
    "    return (pred - goal_pred)**2"
   ]
  },
  {
   "cell_type": "code",
   "execution_count": 23,
   "metadata": {},
   "outputs": [],
   "source": [
    "pred = pred_h_c(input,weight)\n",
    "error = error_se(pred,goal_pred)\n",
    "\n",
    "for i in range(1101):\n",
    "    weight_delta = 0.001\n",
    "    weight_more = weight + weight_delta\n",
    "    weight_less = weight - weight_delta\n",
    "    \n",
    "    error_h = error_se(pred_h_c(input,weight_more),goal_pred)\n",
    "    error_c = error_se(pred_h_c(input,weight_less),goal_pred)\n",
    "\n",
    "    if (error_h <= error_c):\n",
    "        weight = weight_more\n",
    "    else:\n",
    "        weight = weight_less\n",
    "    \n",
    "    #print('Error: {}  Predicition: {}'.format(error_se(pred_h_c(input,weight),goal_pred),pred_h_c(input,weight)))"
   ]
  },
  {
   "cell_type": "markdown",
   "metadata": {},
   "source": [
    "### Gradient Descent"
   ]
  },
  {
   "cell_type": "code",
   "execution_count": 48,
   "metadata": {},
   "outputs": [],
   "source": [
    "input = 2\n",
    "goal_pred = 0.8\n",
    "weight = 0.5\n",
    "alpha = 0.1"
   ]
  },
  {
   "cell_type": "code",
   "execution_count": 70,
   "metadata": {},
   "outputs": [],
   "source": [
    "pred = pred_h_c(input,weight)\n",
    "error = error_se(pred,input)\n",
    "\n",
    "for i in range (50):\n",
    "    raw_error = pred - goal_pred\n",
    "    delta = (raw_error)*input ## accounts for Direction and Amount, Pure Error, Scaling Negative Reversal and Stopping\n",
    "    weight -= delta*alpha\n",
    "    pred = pred_h_c(input,weight)\n",
    "    error = error_se(pred,goal_pred)\n",
    "    #print('Error: {}  Predicition: {}'.format(error_se(pred_h_c(input,weight),goal_pred),pred_h_c(input,weight)))\n",
    "    \n",
    "\n"
   ]
  },
  {
   "cell_type": "markdown",
   "metadata": {},
   "source": [
    "## Generalized Gradient Descent"
   ]
  },
  {
   "cell_type": "code",
   "execution_count": 91,
   "metadata": {},
   "outputs": [],
   "source": [
    "#Input\n",
    "toes = [8.5, 9.5, 9.9, 9.0] \n",
    "wlrec = [0.65, 0.8, 0.8, 0.9] \n",
    "nfans = [1.2, 1.3, 0.5, 1.0]\n",
    "\n",
    "#Target\n",
    "win_or_lose_binary = [1, 1, 0, 1]\n"
   ]
  },
  {
   "cell_type": "code",
   "execution_count": 88,
   "metadata": {},
   "outputs": [],
   "source": [
    "def pred_grad_desc (input, weight):\n",
    "    return np.dot(input,weight)"
   ]
  },
  {
   "cell_type": "code",
   "execution_count": 67,
   "metadata": {},
   "outputs": [
    {
     "data": {
      "text/plain": [
       "array([10.5 ,  2.65,  3.2 ])"
      ]
     },
     "execution_count": 67,
     "metadata": {},
     "output_type": "execute_result"
    }
   ],
   "source": [
    "np.array(input) + 2"
   ]
  },
  {
   "cell_type": "markdown",
   "metadata": {},
   "source": [
    "### Learning with Multiple Input"
   ]
  },
  {
   "cell_type": "code",
   "execution_count": 139,
   "metadata": {},
   "outputs": [],
   "source": [
    "\n",
    "input = np.array([toes[0],wlrec[0],nfans[0]])\n",
    "weight = np.array([0.1, 0.2, -.1])\n",
    "alpha = 0.01\n",
    "\n",
    "output = win_or_lose_binary[1]\n",
    "\n",
    "\n",
    "for i in range(100):\n",
    "    pred = pred_grad_desc(input,weight)\n",
    "    delta = pred - output\n",
    "    error = delta**2\n",
    "\n",
    "    weight_delta = delta\n",
    "    weight = weight - weight_delta*alpha\n",
    "\n",
    "    #print('Error: {}  Predicition: {}'.format(error,pred))\n",
    "\n",
    "\n"
   ]
  },
  {
   "cell_type": "markdown",
   "metadata": {},
   "source": [
    "### Learning with Multiple Output"
   ]
  },
  {
   "cell_type": "code",
   "execution_count": 143,
   "metadata": {},
   "outputs": [],
   "source": [
    "wlrec = [0.65, 1.0, 1.0, 0.9] #win percentage for games\n",
    "\n",
    "hurt = [0.1, 0.0, 0.0, 0.1]\n",
    "win = [1,1,0,1]\n",
    "sad = [0.1, 0.0, 0.1, 0.2]\n",
    "\n",
    "weight = np.array([0.3, 0.2, 0.9])\n",
    "alpha = 0.1\n"
   ]
  },
  {
   "cell_type": "code",
   "execution_count": 144,
   "metadata": {},
   "outputs": [],
   "source": [
    "def scalar_ele_mult(number,vector):\n",
    "    output = [0,0,0]\n",
    "    assert(len(number)==len(vector))\n",
    "    for i in range(len(number)):\n",
    "        output[i] = number[i]*vector[i]\n",
    "    return output\n"
   ]
  },
  {
   "cell_type": "code",
   "execution_count": 145,
   "metadata": {},
   "outputs": [],
   "source": [
    "def scalar_ele_mult_num(number,vector):\n",
    "    output = [0,0,0]\n",
    "    assert(len(output)==len(vector))\n",
    "    for i in range(len(vector)):\n",
    "        output[i] = number*vector[i]\n",
    "    return output"
   ]
  },
  {
   "cell_type": "code",
   "execution_count": 147,
   "metadata": {},
   "outputs": [],
   "source": [
    "input = wlrec[0]\n",
    "true = [hurt[0], win[0], sad[0]]\n",
    "\n",
    "for epoch in range(100):\n",
    "    pred = weight*input\n",
    "\n",
    "    delta = [0,0,0]\n",
    "    error = [0,0,0]\n",
    "\n",
    "    for i in range(len(true)):\n",
    "        delta[i] = pred[i] - true[i]\n",
    "        error[i] = (delta[i])**2\n",
    "        \n",
    "    weight_delta = scalar_ele_mult_num(input,delta)\n",
    "    \n",
    "    weight -= scalar_ele_mult_num(alpha,weight_delta)\n",
    "    #print(\"Weights:\" + str(weight))\n",
    "    #print(\"Error:\" + str(error))\n",
    "\n"
   ]
  },
  {
   "cell_type": "markdown",
   "metadata": {},
   "source": [
    "### Learning with Multiple Inputs and Outputs"
   ]
  },
  {
   "cell_type": "code",
   "execution_count": 191,
   "metadata": {},
   "outputs": [],
   "source": [
    "weights = [\n",
    "    [0.1, 0.1, -0.3],\n",
    "    [0.1, 0.2, 0.0],\n",
    "    [0.0, 1.3, 0.1]\n",
    " ]\n",
    "\n",
    "## Inputs\n",
    "\n",
    "toes = [8.5, 9.5, 9.9, 9.0] \n",
    "lrec = [0.65,0.8, 0.8, 0.9] \n",
    "nfans = [1.2, 1.3, 0.5, 1.0]\n",
    "\n",
    "## Outputs\n",
    "\n",
    "hurt = [0.1, 0.0, 0.0, 0.1] \n",
    "win =[1,1,0,1] \n",
    "sad = [0.1, 0.0, 0.1, 0.2]\n",
    "\n",
    "\n"
   ]
  },
  {
   "cell_type": "code",
   "execution_count": 192,
   "metadata": {},
   "outputs": [],
   "source": [
    "def vec_mat_mult(vector, matrix):\n",
    "    output = [0,0,0]\n",
    "    assert(len(vector)==len(matrix))\n",
    "    for i in range(len(vector)):\n",
    "        output[i] = np.dot(vector,matrix[i])\n",
    "    return output\n",
    "\n",
    "def outer_prod(vec_a,vec_b):\n",
    "    assert(len(vec_a)==len(vec_b))\n",
    "    output = np.zeros([3,3])\n",
    "    for i in range(len(vec_a)):\n",
    "        for j in range(len(vec_b)):\n",
    "            output[i,j] = vec_a[i]*vec_b[j]\n",
    "    return output"
   ]
  },
  {
   "cell_type": "code",
   "execution_count": 193,
   "metadata": {},
   "outputs": [],
   "source": [
    "input = [toes[0], lrec[0],nfans[0]]\n",
    "true = [hurt[0],win[0],sad[0]]\n",
    "alpha = 0.01\n"
   ]
  },
  {
   "cell_type": "code",
   "execution_count": 196,
   "metadata": {},
   "outputs": [],
   "source": [
    "for i in range(100):\n",
    "    pred = vec_mat_mult(input,weights)\n",
    "    delta = [0,0,0]\n",
    "    error = [0,0,0]\n",
    "    for i in range(output):\n",
    "        delta[i] = pred[i] - true[i]\n",
    "        error[i] =delta[i]**2\n",
    "    \n",
    "    weight_delta = outer_prod(input,delta)\n",
    "    \n",
    "    for i in range(len(weights)):\n",
    "        for j in range(len(weights)):\n",
    "            weights[i][j] -= alpha*weight_delta[i][j]\n",
    "\n",
    "    #print(\"Weights:\" + str(weight))\n",
    "    #print(\"Error:\" + str(error))"
   ]
  },
  {
   "cell_type": "markdown",
   "metadata": {},
   "source": [
    "### Learning the whole dataset"
   ]
  },
  {
   "cell_type": "code",
   "execution_count": 199,
   "metadata": {},
   "outputs": [],
   "source": [
    "weights = np.array([0.5,0.48,-0.7]) \n",
    "alpha = 0.1\n",
    "\n",
    "streetlights = np.array([\n",
    "    [ 1, 0, 1 ], \n",
    "    [ 0, 1, 1 ],\n",
    "    [ 0, 0, 1 ], \n",
    "    [ 1, 1, 1 ], \n",
    "    [ 0, 1, 1 ],\n",
    "    [ 1, 0, 1 ]\n",
    "])\n",
    "\n",
    "walk_vs_stop = np.array([ 0, 1, 0, 1, 1, 0])"
   ]
  },
  {
   "cell_type": "code",
   "execution_count": 217,
   "metadata": {},
   "outputs": [],
   "source": [
    "input = streetlights\n",
    "output = walk_vs_stop\n",
    "\n",
    "weight = weights\n",
    "alpha = 0.1"
   ]
  },
  {
   "cell_type": "code",
   "execution_count": 218,
   "metadata": {},
   "outputs": [
    {
     "name": "stdout",
     "output_type": "stream",
     "text": [
      "Weight: [ 0.05494522  1.04631243 -0.05789101] Error: 0.007202095814055045\n",
      "Weight: [ 0.05051167  1.04363011 -0.05417413] Error: 0.006224126476845888\n",
      "Weight: [ 0.0465754   1.04109304 -0.050567  ] Error: 0.005389508664456829\n",
      "Weight: [ 0.04302665  1.03866264 -0.04715603] Error: 0.004671139710608963\n",
      "Weight: [ 0.03980244  1.03633227 -0.04396023] Error: 0.004051071162007332\n",
      "Weight: [ 0.03685969  1.03410377 -0.04097608] Error: 0.0035149421832451947\n",
      "Weight: [ 0.03416532  1.03197994 -0.03819298] Error: 0.003050817399446405\n",
      "Weight: [ 0.03169229  1.02996243 -0.03559852] Error: 0.002648655199249331\n",
      "Weight: [ 0.02941774  1.02805139 -0.03318029] Error: 0.0022999427768718\n",
      "Weight: [ 0.02732206  1.0262456  -0.03092641] Error: 0.0019974209900630708\n",
      "Weight: [ 0.02538823  1.02454276 -0.02882573] Error: 0.0017348713314794507\n",
      "Weight: [ 0.02360135  1.02293979 -0.02686784] Error: 0.0015069479292357992\n",
      "Weight: [ 0.02194833  1.02143303 -0.02504301] Error: 0.0013090427537863606\n",
      "Weight: [ 0.0204176   1.02001847 -0.02334218] Error: 0.0011371757494035297\n",
      "Weight: [ 0.01899884  1.01869185 -0.02175692] Error: 0.0009879040512877119\n",
      "Weight: [ 0.01768287  1.01744882 -0.02027936] Error: 0.0008582461186926403\n",
      "Weight: [ 0.01646141  1.01628499 -0.01890218] Error: 0.0007456177526661849\n",
      "Weight: [ 0.01532702  1.01519602 -0.01761856] Error: 0.0006477777478966587\n",
      "Weight: [ 0.01427297  1.01417765 -0.01642212] Error: 0.000562781470543627\n",
      "Weight: [ 0.01329315  1.01322575 -0.01530695] Error: 0.0004889410370148419\n",
      "Weight: [ 0.01238198  1.01233635 -0.01426752] Error: 0.00042479104463636084\n",
      "Weight: [ 0.01153438  1.01150562 -0.01329869] Error: 0.0003690590083799012\n",
      "Weight: [ 0.0107457   1.01072992 -0.01239565] Error: 0.00032063981087728194\n",
      "Weight: [ 0.01001166  1.0100058  -0.01155394] Error: 0.00027857359085450844\n",
      "Weight: [ 0.00932834  1.00932995 -0.01076939] Error: 0.00024202658787136915\n",
      "Weight: [ 0.00869212  1.0086993  -0.01003812] Error: 0.0002102745356248852\n",
      "Weight: [ 0.00809966  1.00811089 -0.00935651] Error: 0.00018268825670312392\n",
      "Weight: [ 0.00754788  1.00756199 -0.00872118] Error: 0.00015872116179240056\n",
      "Weight: [ 0.00703392  1.00704999 -0.008129  ] Error: 0.00013789839824082648\n",
      "Weight: [ 0.00655516  1.00657247 -0.00757702] Error: 0.0001198074282317416\n",
      "Weight: [ 0.00610913  1.00612714 -0.00706253] Error: 0.0001040898468571751\n",
      "Weight: [ 0.00569357  1.00571186 -0.00658298] Error: 9.043427604480691e-05\n",
      "Weight: [ 0.00530638  1.00532462 -0.00613599] Error: 7.857019231000856e-05\n",
      "Weight: [ 0.00494559  1.00496356 -0.00571935] Error: 6.826256525601447e-05\n",
      "Weight: [ 0.0046094   1.00462692 -0.005331  ] Error: 5.9307200095981884e-05\n",
      "Weight: [ 0.00429612  1.00431306 -0.00496902] Error: 5.1526691603101456e-05\n",
      "Weight: [ 0.00400416  1.00402045 -0.00463162] Error: 4.47669091261757e-05\n",
      "Weight: [ 0.00373208  1.00374766 -0.00431713] Error: 3.8893942904657864e-05\n",
      "Weight: [ 0.00347852  1.00349336 -0.004024  ] Error: 3.379145110419804e-05\n",
      "Weight: [ 0.0032422   1.00325628 -0.00375077] Error: 2.9358354963063014e-05\n",
      "Weight: [ 0.00302195  1.00303529 -0.00349609] Error: 2.5506836355882112e-05\n",
      "Weight: [ 0.00281668  1.00282927 -0.0032587 ] Error: 2.216059808461324e-05\n",
      "Weight: [ 0.00262536  1.00263723 -0.00303743] Error: 1.9253352419440673e-05\n",
      "Weight: [ 0.00244705  1.00245821 -0.00283119] Error: 1.672750793903776e-05\n",
      "Weight: [ 0.00228085  1.00229134 -0.00263895] Error: 1.4533028651178499e-05\n",
      "Weight: [ 0.00212595  1.00213579 -0.00245977] Error: 1.2626442789654512e-05\n",
      "Weight: [ 0.00198157  1.0019908  -0.00229275] Error: 1.0969981649799018e-05\n",
      "Weight: [ 0.001847    1.00185565 -0.00213707] Error: 9.530831401849386e-06\n",
      "Weight: [ 0.00172157  1.00172966 -0.00199196] Error: 8.280483059893344e-06\n",
      "Weight: [ 0.00160466  1.00161223 -0.00185671] Error: 7.194167728999914e-06\n",
      "Weight: [ 0.00149569  1.00150277 -0.00173064] Error: 6.2503659426096865e-06\n",
      "Weight: [ 0.00139413  1.00140074 -0.00161313] Error: 5.4303813701423385e-06\n",
      "Weight: [ 0.00129946  1.00130564 -0.0015036 ] Error: 4.717970450006843e-06\n",
      "Weight: [ 0.00121122  1.00121699 -0.0014015 ] Error: 4.09902061108354e-06\n",
      "Weight: [ 0.00112897  1.00113436 -0.00130634] Error: 3.5612707083460745e-06\n",
      "Weight: [ 0.00105231  1.00105734 -0.00121764] Error: 3.0940681345230043e-06\n",
      "Weight: [ 9.80855813e-04  1.00098555e+00 -1.13496021e-03] Error: 2.6881577962585095e-06\n",
      "Weight: [ 9.14253226e-04  1.00091864e+00 -1.05789623e-03] Error: 2.335498774471234e-06\n",
      "Weight: [ 8.52173429e-04  1.00085626e+00 -9.86064911e-04] Error: 2.0291050370165524e-06\n",
      "Weight: [ 7.94309232e-04  1.00079812e+00 -9.19110950e-04] Error: 1.762907048232789e-06\n",
      "Weight: [ 7.40374321e-04  1.00074393e+00 -8.56703175e-04] Error: 1.5316315339097244e-06\n",
      "Weight: [ 6.90101837e-04  1.00069342e+00 -7.98532899e-04] Error: 1.3306970198757358e-06\n",
      "Weight: [ 6.43243053e-04  1.00064634e+00 -7.44312395e-04] Error: 1.1561230748551908e-06\n",
      "Weight: [ 5.99566141e-04  1.00060245e+00 -6.93773473e-04] Error: 1.0044514597470505e-06\n",
      "Weight: [ 5.58855020e-04  1.00056155e+00 -6.46666151e-04] Error: 8.726776213141733e-07\n",
      "Weight: [ 5.20908288e-04  1.00052342e+00 -6.02757425e-04] Error: 7.581911732030206e-07\n",
      "Weight: [ 4.85538224e-04  1.00048788e+00 -5.61830107e-04] Error: 6.587241852540678e-07\n",
      "Weight: [ 4.52569856e-04  1.00045475e+00 -5.23681761e-04] Error: 5.723062567236074e-07\n",
      "Weight: [ 4.21840095e-04  1.00042387e+00 -4.88123694e-04] Error: 4.972254834464285e-07\n",
      "Weight: [ 3.93196930e-04  1.00039509e+00 -4.54980025e-04] Error: 4.3199454570750313e-07\n",
      "Weight: [ 3.66498672e-04  1.00036827e+00 -4.24086816e-04] Error: 3.753212450445587e-07\n",
      "Weight: [ 3.41613256e-04  1.00034326e+00 -3.95291260e-04] Error: 3.2608290631801426e-07\n",
      "Weight: [ 3.18417583e-04  1.00031995e+00 -3.68450927e-04] Error: 2.8330413797222466e-07\n",
      "Weight: [ 2.96796917e-04  1.00029823e+00 -3.43433057e-04] Error: 2.461375099262981e-07\n",
      "Weight: [ 2.76644311e-04  1.00027798e+00 -3.20113903e-04] Error: 2.1384676632378067e-07\n",
      "Weight: [ 2.57860080e-04  1.00025910e+00 -2.98378124e-04] Error: 1.8579224060644663e-07\n",
      "Weight: [ 2.40351310e-04  1.00024151e+00 -2.78118207e-04] Error: 1.6141818397570633e-07\n",
      "Weight: [ 2.24031394e-04  1.00022511e+00 -2.59233941e-04] Error: 1.4024175623605883e-07\n",
      "Weight: [ 2.08819609e-04  1.00020983e+00 -2.41631920e-04] Error: 1.2184346092615455e-07\n",
      "Weight: [ 1.94640710e-04  1.00019558e+00 -2.25225078e-04] Error: 1.0585883526272034e-07\n",
      "Weight: [ 1.81424564e-04  1.00018230e+00 -2.09932263e-04] Error: 9.197123028098891e-08\n",
      "Weight: [ 1.69105799e-04  1.00016992e+00 -1.95677833e-04] Error: 7.990553814762786e-08\n",
      "Weight: [ 1.57623483e-04  1.00015838e+00 -1.82391281e-04] Error: 6.942274238494269e-08\n",
      "Weight: [ 1.46920819e-04  1.00014763e+00 -1.70006887e-04] Error: 6.031518305177789e-08\n",
      "Weight: [ 1.36944868e-04  1.00013761e+00 -1.58463395e-04] Error: 5.240244308394896e-08\n",
      "Weight: [ 1.27646288e-04  1.00012826e+00 -1.47703708e-04] Error: 4.552777430511644e-08\n",
      "Weight: [ 1.18979083e-04  1.00011955e+00 -1.37674606e-04] Error: 3.9554992309256126e-08\n",
      "Weight: [ 1.10900384e-04  1.00011144e+00 -1.28326481e-04] Error: 3.436577870239724e-08\n",
      "Weight: [ 1.03370230e-04  1.00010387e+00 -1.19613094e-04] Error: 2.985733726311441e-08\n",
      "Weight: [ 9.63513745e-05  1.00009682e+00 -1.11491348e-04] Error: 2.594035759128237e-08\n",
      "Weight: [ 8.98091011e-05  1.00009024e+00 -1.03921070e-04] Error: 2.2537245904811428e-08\n",
      "Weight: [ 8.37110492e-05  1.00008412e+00 -9.68648149e-05] Error: 1.9580587938575136e-08\n",
      "Weight: [ 7.80270562e-05  1.00007840e+00 -9.02876803e-05] Error: 1.7011813494868064e-08\n",
      "Weight: [ 7.27290073e-05  1.00007308e+00 -8.41571341e-05] Error: 1.478003619151785e-08\n",
      "Weight: [ 6.77906968e-05  1.00006812e+00 -7.84428528e-05] Error: 1.2841045423411266e-08\n",
      "Weight: [ 6.31876984e-05  1.00006349e+00 -7.31165721e-05] Error: 1.1156430568153754e-08\n",
      "Weight: [ 5.88972444e-05  1.00005918e+00 -6.81519465e-05] Error: 9.692820087349939e-09\n",
      "Weight: [ 5.48981129e-05  1.00005516e+00 -6.35244198e-05] Error: 8.421220449637652e-09\n",
      "Weight: [ 5.11705230e-05  1.00005142e+00 -5.92111027e-05] Error: 7.3164417808566155e-09\n",
      "Weight: [ 4.76960371e-05  1.00004793e+00 -5.51906605e-05] Error: 6.356598862694762e-09\n"
     ]
    }
   ],
   "source": [
    "for i in range(100):\n",
    "    total_error = 0\n",
    "    for row in range(len(input)):\n",
    "        pred = np.dot(input[row],weight)\n",
    "        delta = pred - output[row]\n",
    "        error = delta**2\n",
    "        total_error += error\n",
    "\n",
    "        weight_delta = input[row]*delta\n",
    "        weight -= alpha*weight_delta\n",
    "    \n",
    "    print('Weight: {} Error: {}'.format(weight,total_error))"
   ]
  },
  {
   "cell_type": "markdown",
   "metadata": {},
   "source": [
    "### First Deep Neural Network"
   ]
  },
  {
   "cell_type": "code",
   "execution_count": null,
   "metadata": {},
   "outputs": [],
   "source": []
  },
  {
   "cell_type": "code",
   "execution_count": null,
   "metadata": {},
   "outputs": [],
   "source": []
  }
 ],
 "metadata": {
  "kernelspec": {
   "display_name": "mur_crypto",
   "language": "python",
   "name": "mur_crypto"
  },
  "language_info": {
   "codemirror_mode": {
    "name": "ipython",
    "version": 3
   },
   "file_extension": ".py",
   "mimetype": "text/x-python",
   "name": "python",
   "nbconvert_exporter": "python",
   "pygments_lexer": "ipython3",
   "version": "3.9.7"
  },
  "orig_nbformat": 4
 },
 "nbformat": 4,
 "nbformat_minor": 2
}
