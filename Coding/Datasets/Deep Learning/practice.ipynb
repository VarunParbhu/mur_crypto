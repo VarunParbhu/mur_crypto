{
 "cells": [
  {
   "cell_type": "code",
   "execution_count": 55,
   "metadata": {},
   "outputs": [],
   "source": [
    "import numpy as np\n",
    "import pandas as pd"
   ]
  },
  {
   "cell_type": "markdown",
   "metadata": {},
   "source": [
    "### Hot and Cold Learning"
   ]
  },
  {
   "cell_type": "code",
   "execution_count": 20,
   "metadata": {},
   "outputs": [],
   "source": [
    "input = 0.5\n",
    "goal_pred = 0.8\n",
    "weight = 0.5"
   ]
  },
  {
   "cell_type": "code",
   "execution_count": 21,
   "metadata": {},
   "outputs": [],
   "source": [
    "def pred_h_c(input,weight):\n",
    "    return input*weight\n",
    "\n",
    "def error_se(pred,goal_pred):\n",
    "    return (pred - goal_pred)**2"
   ]
  },
  {
   "cell_type": "code",
   "execution_count": 23,
   "metadata": {},
   "outputs": [],
   "source": [
    "pred = pred_h_c(input,weight)\n",
    "error = error_se(pred,goal_pred)\n",
    "\n",
    "for i in range(1101):\n",
    "    weight_delta = 0.001\n",
    "    weight_more = weight + weight_delta\n",
    "    weight_less = weight - weight_delta\n",
    "    \n",
    "    error_h = error_se(pred_h_c(input,weight_more),goal_pred)\n",
    "    error_c = error_se(pred_h_c(input,weight_less),goal_pred)\n",
    "\n",
    "    if (error_h <= error_c):\n",
    "        weight = weight_more\n",
    "    else:\n",
    "        weight = weight_less\n",
    "    \n",
    "    #print('Error: {}  Predicition: {}'.format(error_se(pred_h_c(input,weight),goal_pred),pred_h_c(input,weight)))"
   ]
  },
  {
   "cell_type": "markdown",
   "metadata": {},
   "source": [
    "### Gradient Descent"
   ]
  },
  {
   "cell_type": "code",
   "execution_count": 48,
   "metadata": {},
   "outputs": [],
   "source": [
    "input = 2\n",
    "goal_pred = 0.8\n",
    "weight = 0.5\n",
    "alpha = 0.1"
   ]
  },
  {
   "cell_type": "code",
   "execution_count": 70,
   "metadata": {},
   "outputs": [],
   "source": [
    "pred = pred_h_c(input,weight)\n",
    "error = error_se(pred,input)\n",
    "\n",
    "for i in range (50):\n",
    "    raw_error = pred - goal_pred\n",
    "    delta = (raw_error)*input ## accounts for Direction and Amount, Pure Error, Scaling Negative Reversal and Stopping\n",
    "    weight -= delta*alpha\n",
    "    pred = pred_h_c(input,weight)\n",
    "    error = error_se(pred,goal_pred)\n",
    "    #print('Error: {}  Predicition: {}'.format(error_se(pred_h_c(input,weight),goal_pred),pred_h_c(input,weight)))\n",
    "    \n",
    "\n"
   ]
  },
  {
   "cell_type": "markdown",
   "metadata": {},
   "source": [
    "## Generalized Gradient Descent"
   ]
  },
  {
   "cell_type": "code",
   "execution_count": 87,
   "metadata": {},
   "outputs": [],
   "source": [
    "#Input\n",
    "toes = [8.5, 9.5, 9.9, 9.0] \n",
    "wlrec = [0.65, 0.8, 0.8, 0.9] \n",
    "nfans = [1.2, 1.3, 0.5, 1.0]\n",
    "\n",
    "#Target\n",
    "win_or_lose_binary = [1, 1, 0, 1]\n"
   ]
  },
  {
   "cell_type": "code",
   "execution_count": 88,
   "metadata": {},
   "outputs": [],
   "source": [
    "def pred_grad_desc (input, weight):\n",
    "    return np.dot(input,weight)"
   ]
  },
  {
   "cell_type": "code",
   "execution_count": 67,
   "metadata": {},
   "outputs": [
    {
     "data": {
      "text/plain": [
       "array([10.5 ,  2.65,  3.2 ])"
      ]
     },
     "execution_count": 67,
     "metadata": {},
     "output_type": "execute_result"
    }
   ],
   "source": [
    "np.array(input) + 2"
   ]
  },
  {
   "cell_type": "markdown",
   "metadata": {},
   "source": [
    "### Learning with Multiple Input"
   ]
  },
  {
   "cell_type": "code",
   "execution_count": 90,
   "metadata": {},
   "outputs": [
    {
     "name": "stdout",
     "output_type": "stream",
     "text": [
      "Error: 0.01959999999999997  Predicition: 0.8600000000000001\n",
      "Error: 0.015752760100000002  Predicition: 0.87449\n",
      "Error: 0.012660686263681204  Predicition: 0.8874802850000001\n",
      "Error: 0.01017554864352735  Predicition: 0.8991260755024999\n",
      "Error: 0.008178213095273787  Predicition: 0.9095665266879913\n",
      "Error: 0.0065729300477819575  Predicition: 0.9189263911757842\n",
      "Error: 0.0052827443977954466  Predicition: 0.9273175096890905\n",
      "Error: 0.0042458063861270925  Predicition: 0.9348401474362695\n",
      "Error: 0.003412406603658578  Predicition: 0.9415841921766156\n",
      "Error: 0.0027425929893413023  Predicition: 0.9476302282863358\n",
      "Error: 0.002204255582297705  Predicition: 0.9530504996587003\n",
      "Error: 0.0017715872136235564  Predicition: 0.9579097729440247\n",
      "Error: 0.0014238463455326243  Predicition: 0.9622661114443181\n",
      "Error: 0.0011443627500223035  Predicition: 0.9661715689098311\n",
      "Error: 0.0009197383606366137  Predicition: 0.9696728115276636\n",
      "Error: 0.0007392049872385778  Predicition: 0.9728116755345502\n",
      "Error: 0.0005941081035047311  Predicition: 0.9756256671167244\n",
      "Error: 0.0004774919606110231  Predicition: 0.9781484105701433\n",
      "Error: 0.0003837661380195984  Predicition: 0.9804100500761335\n",
      "Error: 0.00030843754626153704  Predicition: 0.9824376098932538\n",
      "Error: 0.000247895034290342  Predicition: 0.9842553172693019\n",
      "Error: 0.0001992362757733178  Predicition: 0.9858848919319292\n",
      "Error: 0.00016012863548339713  Predicition: 0.9873458056169744\n",
      "Error: 0.0001286973459137886  Predicition: 0.9886555147356176\n",
      "Error: 0.00010343563345340201  Predicition: 0.9898296689604811\n",
      "Error: 8.313248569300714e-05  Predicition: 0.9908822982230714\n",
      "Error: 6.681459712442059e-05  Predicition: 0.9918259803569834\n",
      "Error: 5.3699710187712514e-05  Predicition: 0.9926719913900356\n",
      "Error: 4.315911489931453e-05  Predicition: 0.9934304402811669\n",
      "Error: 3.468750934373409e-05  Predicition: 0.9941103897120663\n",
      "Error: 2.787877618155062e-05  Predicition: 0.9947199643768673\n",
      "Error: 2.240651393212004e-05  Predicition: 0.9952664480638616\n",
      "Error: 1.800838972704198e-05  Predicition: 0.9957563706892517\n",
      "Error: 1.4473563426396945e-05  Predicition: 0.9961955863229143\n",
      "Error: 1.1632580226946218e-05  Predicition: 0.9965893431384928\n",
      "Error: 9.349247227503441e-06  Predicition: 0.996942346123659\n",
      "Error: 7.514104525023858e-06  Predicition: 0.9972588132998601\n",
      "Error: 6.039177854542499e-06  Predicition: 0.9975425261233245\n",
      "Error: 4.85376122162383e-06  Predicition: 0.9977968746695606\n",
      "Error: 3.901027352394486e-06  Predicition: 0.9980248981412609\n",
      "Error: 3.1353034707042994e-06  Predicition: 0.9982293211836405\n",
      "Error: 2.5198818068721196e-06  Predicition: 0.9984125864411338\n",
      "Error: 2.025259876735841e-06  Predicition: 0.9985768837444763\n",
      "Error: 1.627726172365765e-06  Predicition: 0.9987241762769231\n",
      "Error: 1.3082234643761741e-06  Predicition: 0.9988562240322615\n",
      "Error: 1.0514352240566194e-06  Predicition: 0.9989746048449224\n",
      "Error: 8.450513696558415e-07  Predicition: 0.9990807332434729\n",
      "Error: 6.791781376718513e-07  Predicition: 0.9991758773527734\n",
      "Error: 5.458637891789226e-07  Predicition: 0.9992611740467614\n",
      "Error: 4.387174141947056e-07  Predicition: 0.9993376425329215\n",
      "Error: 3.5260256007643037e-07  Predicition: 0.9994061965307642\n",
      "Error: 2.8339099691476087e-07  Predicition: 0.9994676551898302\n",
      "Error: 2.2776481576017913e-07  Predicition: 0.9995227528776827\n",
      "Error: 1.830573725454513e-07  Predicition: 0.9995721479548425\n",
      "Error: 1.47125452767694e-07  Predicition: 0.9996164306415162\n",
      "Error: 1.1824652867605994e-07  Predicition: 0.9996561300701194\n",
      "Error: 9.503618361687897e-08  Predicition: 0.9996917206078622\n",
      "Error: 7.638174496622736e-08  Predicition: 0.9997236275249483\n",
      "Error: 6.138894410569477e-08  Predicition: 0.9997522320761162\n",
      "Error: 4.9339046392373465e-08  Predicition: 0.999777876056238\n",
      "Error: 3.9654395988815604e-08  Predicition: 0.9998008658844175\n",
      "Error: 3.1870723822599146e-08  Predicition: 0.9998214762653802\n",
      "Error: 2.561489115259237e-08  Predicition: 0.9998399534719133\n",
      "Error: 2.0587001801830645e-08  Predicition: 0.99985651828757\n",
      "Error: 1.654602553891016e-08  Predicition: 0.9998713686448065\n",
      "Error: 1.3298243414402236e-08  Predicition: 0.9998846819900692\n",
      "Error: 1.0687961135627136e-08  Predicition: 0.9998966174040971\n",
      "Error: 8.590045292221164e-09  Predicition: 0.9999073175027731\n",
      "Error: 6.903924629409751e-09  Predicition: 0.9999169101412361\n",
      "Error: 5.548768797721294e-09  Predicition: 0.9999255099416182\n",
      "Error: 4.459613455152263e-09  Predicition: 0.9999332196626607\n",
      "Error: 3.58424596418265e-09  Predicition: 0.9999401314275752\n",
      "Error: 2.880702388414078e-09  Predicition: 0.9999463278248213\n",
      "Error: 2.315255798182749e-09  Predicition: 0.9999518828949522\n",
      "Error: 1.8607994468661885e-09  Predicition: 0.9999568630153248\n",
      "Error: 1.4955473102530011e-09  Predicition: 0.9999613276932385\n",
      "Error: 1.2019896937152302e-09  Predicition: 0.9999653302769882\n",
      "Error: 9.66053841204804e-10  Predicition: 0.99996891859332\n",
      "Error: 7.764293063370561e-10  Predicition: 0.9999721355189114\n",
      "Error: 6.240257447567281e-10  Predicition: 0.9999750194927042\n",
      "Error: 5.015371353676186e-10  Predicition: 0.9999776049752095\n",
      "Error: 4.0309153953560936e-10  Predicition: 0.999979922860275\n",
      "Error: 3.239696081988782e-10  Predicition: 0.9999820008442365\n",
      "Error: 2.6037834274153337e-10  Predicition: 0.9999838637568579\n",
      "Error: 2.0926926369804121e-10  Predicition: 0.999985533858023\n",
      "Error: 1.6819227077602747e-10  Predicition: 0.9999870311037179\n",
      "Error: 1.3517818838044865e-10  Predicition: 0.999988373384483\n",
      "Error: 1.0864436593225326e-10  Predicition: 0.9999895767391891\n",
      "Error: 8.73188077918403e-11  Predicition: 0.9999906555466831\n",
      "Error: 7.017919548054722e-11  Predicition: 0.9999916226976012\n",
      "Error: 5.6403879101243686e-11  Predicition: 0.9999924897483996\n",
      "Error: 4.533248858113323e-11  Predicition: 0.9999932670594402\n",
      "Error: 3.64342763948002e-11  Predicition: 0.9999939639187883\n",
      "Error: 2.928267425943452e-11  Predicition: 0.9999945886531936\n",
      "Error: 2.353484401660436e-11  Predicition: 0.9999951487275879\n",
      "Error: 1.8915242436914606e-11  Predicition: 0.9999956508342827\n",
      "Error: 1.5202412057859484e-11  Predicition: 0.9999961009729345\n",
      "Error: 1.2218364801828208e-11  Predicition: 0.9999965045222355\n",
      "Error: 9.820049465504073e-12  Predicition: 0.9999968663041843\n",
      "Error: 7.892494050879369e-12  Predicition: 0.9999971906417012\n"
     ]
    }
   ],
   "source": [
    "\n",
    "input = np.array([toes[0],wlrec[0],nfans[0]])\n",
    "weight = np.array([0.1, 0.2, -.1])\n",
    "alpha = 0.01\n",
    "\n",
    "output = win_or_lose_binary[1]\n",
    "\n",
    "\n",
    "for i in range(100):\n",
    "    pred = pred_grad_desc(input,weight)\n",
    "    delta = pred - output\n",
    "    error = delta**2\n",
    "\n",
    "    weight_delta = delta\n",
    "    weight = weight - weight_delta*alpha\n",
    "\n",
    "    print('Error: {}  Predicition: {}'.format(error,pred))\n",
    "\n",
    "\n"
   ]
  },
  {
   "cell_type": "markdown",
   "metadata": {},
   "source": [
    "### Learning with Multiple Output"
   ]
  },
  {
   "cell_type": "code",
   "execution_count": null,
   "metadata": {},
   "outputs": [],
   "source": [
    "\n",
    "\n",
    "\n"
   ]
  },
  {
   "cell_type": "markdown",
   "metadata": {},
   "source": [
    "### Learning with Multiple Input and Output"
   ]
  },
  {
   "cell_type": "code",
   "execution_count": null,
   "metadata": {},
   "outputs": [],
   "source": [
    "\n"
   ]
  },
  {
   "cell_type": "markdown",
   "metadata": {},
   "source": [
    "### Learning the whole dataset"
   ]
  },
  {
   "cell_type": "code",
   "execution_count": null,
   "metadata": {},
   "outputs": [],
   "source": []
  }
 ],
 "metadata": {
  "kernelspec": {
   "display_name": "mur_crypto",
   "language": "python",
   "name": "mur_crypto"
  },
  "language_info": {
   "codemirror_mode": {
    "name": "ipython",
    "version": 3
   },
   "file_extension": ".py",
   "mimetype": "text/x-python",
   "name": "python",
   "nbconvert_exporter": "python",
   "pygments_lexer": "ipython3",
   "version": "3.9.7"
  },
  "orig_nbformat": 4
 },
 "nbformat": 4,
 "nbformat_minor": 2
}
