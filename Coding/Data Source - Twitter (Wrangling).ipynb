{
 "cells": [
  {
   "cell_type": "code",
   "execution_count": 291,
   "metadata": {},
   "outputs": [],
   "source": [
    "import os\n",
    "import pandas as pd\n",
    "import numpy as np\n",
    "import re\n",
    "import string\n"
   ]
  },
  {
   "cell_type": "code",
   "execution_count": 278,
   "metadata": {},
   "outputs": [],
   "source": [
    "data_path = os.listdir('Datasets/Tweet Data')\n",
    "data_path.sort()\n",
    "data_path = ['Datasets/Tweet Data/{}'.format(file) for file in data_path]\n",
    "data_path = pd.DataFrame(data_path,columns=['File Path'])\n",
    "\n",
    "try:\n",
    "    data_path = pd.concat([data_path,pd.DataFrame(data_path['File Path'].str.split(r'_',expand=True)[2])],axis=1)\n",
    "    data_path = pd.concat([data_path,data_path[2].str.split(r'\\.',expand=True)],axis=1,)\n",
    "    data_path = data_path[['File Path',0]]\n",
    "    data_path.columns = ['File Path', 'Counter']\n",
    "    data_path['Counter'] = data_path['Counter'].apply(lambda x: int(x))\n",
    "    \n",
    "except:\n",
    "    print('error')\n",
    "\n"
   ]
  },
  {
   "cell_type": "code",
   "execution_count": 293,
   "metadata": {},
   "outputs": [
    {
     "name": "stdout",
     "output_type": "stream",
     "text": [
      "22 1440 (19357, 11)\n",
      "47 2880 (20904, 11)\n",
      "71 4320 (20553, 11)\n",
      "96 5760 (20568, 11)\n",
      "121 7200 (20319, 11)\n",
      "145 8640 (20308, 11)\n",
      "169 10080 (20598, 11)\n",
      "193 11520 (20454, 11)\n",
      "217 12960 (20477, 11)\n",
      "240 14400 (20265, 11)\n",
      "264 15840 (20371, 11)\n",
      "289 17280 (20204, 11)\n",
      "313 18720 (20368, 11)\n",
      "337 20160 (20563, 11)\n",
      "361 21600 (20744, 11)\n",
      "384 23040 (20156, 11)\n",
      "408 24480 (20535, 11)\n",
      "432 25920 (20602, 11)\n",
      "456 27360 (20306, 11)\n"
     ]
    }
   ],
   "source": [
    "for i,file in enumerate(data_path.values):\n",
    "    if np.mod(file[1],1440)==0:\n",
    "        print(i,file[1],pd.read_csv(file[0],index_col=0).shape)"
   ]
  },
  {
   "cell_type": "markdown",
   "metadata": {},
   "source": [
    "- Remove @[someone] to @USER\n",
    "- Remove punctuation\n",
    "- Remove New Lines\n",
    "- Remove links to http"
   ]
  },
  {
   "cell_type": "code",
   "execution_count": 289,
   "metadata": {},
   "outputs": [],
   "source": [
    "def pre_process_tweet (text):\n",
    "    #Remove Punctuation first\n",
    "    pre_process_text = \n",
    "    #Convert text to lower case\n",
    "    text = text.lower()\n",
    "    return text"
   ]
  },
  {
   "cell_type": "code",
   "execution_count": 285,
   "metadata": {},
   "outputs": [
    {
     "data": {
      "text/plain": [
       "'📈Analysis June 01th📈\\n\\nThe current price of $BTC is 31817.14$ (⬆0.35%), and its dominance is 41.73%. \\n\\nThe market sentiment is at 17 points [💀Extreme Fear]. \\n\\nTotal #crypto market cap is 💰1.45 trillion $💰 approx.\\n\\n#bitcoin https://t.co/EihSOAU9jp'"
      ]
     },
     "execution_count": 285,
     "metadata": {},
     "output_type": "execute_result"
    }
   ],
   "source": [
    "unproc_data = pd.read_csv(data_path['File Path'][0],index_col=0)\n",
    "unproce_data['proc_tweet'] = unproc_data['text'].apply(lambda x:re.)"
   ]
  }
 ],
 "metadata": {
  "kernelspec": {
   "display_name": "Python 3.9.7 ('base')",
   "language": "python",
   "name": "python3"
  },
  "language_info": {
   "codemirror_mode": {
    "name": "ipython",
    "version": 3
   },
   "file_extension": ".py",
   "mimetype": "text/x-python",
   "name": "python",
   "nbconvert_exporter": "python",
   "pygments_lexer": "ipython3",
   "version": "3.9.7"
  },
  "orig_nbformat": 4,
  "vscode": {
   "interpreter": {
    "hash": "40d3a090f54c6569ab1632332b64b2c03c39dcf918b08424e98f38b5ae0af88f"
   }
  }
 },
 "nbformat": 4,
 "nbformat_minor": 2
}
