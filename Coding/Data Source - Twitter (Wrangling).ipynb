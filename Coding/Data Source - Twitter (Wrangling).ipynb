{
 "cells": [
  {
   "cell_type": "code",
   "execution_count": 57,
   "metadata": {},
   "outputs": [],
   "source": [
    "import os\n",
    "import pandas as pd\n",
    "import numpy as np\n",
    "import re\n",
    "import string\n",
    "import demoji\n",
    "import spacy\n",
    "import pycld2 as cld2\n",
    "from textblob import TextBlob\n",
    "\n"
   ]
  },
  {
   "cell_type": "code",
   "execution_count": 34,
   "metadata": {},
   "outputs": [],
   "source": [
    "data_path = os.listdir('Datasets/Tweet Data')\n",
    "data_path.sort()\n",
    "data_path = ['Datasets/Tweet Data/{}'.format(file) for file in data_path]\n",
    "data_path = pd.DataFrame(data_path,columns=['File Path'])\n",
    "\n",
    "try:\n",
    "    data_path = pd.concat([data_path,pd.DataFrame(data_path['File Path'].str.split(r'_',expand=True)[2])],axis=1)\n",
    "    data_path = pd.concat([data_path,data_path[2].str.split(r'\\.',expand=True)],axis=1,)\n",
    "    data_path = data_path[['File Path',0]]\n",
    "    data_path.columns = ['File Path', 'Counter']\n",
    "    data_path['Counter'] = data_path['Counter'].apply(lambda x: int(x))\n",
    "    \n",
    "except:\n",
    "    print('error')"
   ]
  },
  {
   "cell_type": "code",
   "execution_count": 11,
   "metadata": {},
   "outputs": [
    {
     "name": "stdout",
     "output_type": "stream",
     "text": [
      "1 22 1440 (19357, 11)\n",
      "2 47 2880 (20904, 11)\n",
      "3 71 4320 (20553, 11)\n",
      "4 96 5760 (20568, 11)\n",
      "5 121 7200 (20319, 11)\n",
      "6 145 8640 (20308, 11)\n",
      "7 169 10080 (20598, 11)\n",
      "8 193 11520 (20454, 11)\n",
      "9 217 12960 (20477, 11)\n",
      "10 240 14400 (20265, 11)\n",
      "11 264 15840 (20371, 11)\n",
      "12 289 17280 (20204, 11)\n",
      "13 313 18720 (20368, 11)\n",
      "14 337 20160 (20563, 11)\n",
      "15 361 21600 (20744, 11)\n",
      "16 384 23040 (20156, 11)\n",
      "17 408 24480 (20535, 11)\n",
      "18 432 25920 (20602, 11)\n",
      "19 456 27360 (20306, 11)\n",
      "20 481 28800 (20125, 11)\n",
      "21 505 30240 (20490, 11)\n",
      "22 529 31680 (20497, 11)\n",
      "23 552 33120 (20452, 11)\n",
      "24 577 34560 (20588, 11)\n",
      "25 601 36000 (20356, 11)\n",
      "26 625 37440 (20595, 11)\n",
      "27 649 38880 (20556, 11)\n",
      "28 673 40320 (20648, 11)\n",
      "29 697 41760 (20663, 11)\n",
      "30 721 43200 (20452, 11)\n",
      "31 743 44640 (20173, 11)\n",
      "32 744 44640 (20187, 11)\n",
      "33 766 46080 (20411, 11)\n",
      "34 790 47520 (20572, 11)\n",
      "35 813 48960 (20270, 11)\n",
      "36 837 50400 (20156, 11)\n",
      "37 861 51840 (20398, 11)\n",
      "38 885 53280 (20335, 11)\n",
      "39 908 54720 (19922, 11)\n",
      "40 931 56160 (19966, 11)\n",
      "41 956 57600 (20128, 11)\n",
      "42 980 59040 (20582, 11)\n",
      "43 1004 60480 (20409, 11)\n",
      "44 1028 61920 (20406, 11)\n"
     ]
    }
   ],
   "source": [
    "from distutils.log import error\n",
    "day = 0\n",
    "\n",
    "for i,file in enumerate(data_path.values):\n",
    "    if np.mod(file[1],1440)==0:\n",
    "        try:\n",
    "            day +=1\n",
    "            print(day,i,file[1],pd.read_csv(file[0],engine='python',index_col=0).shape)\n",
    "            \n",
    "        except error as e:\n",
    "            print(e)"
   ]
  },
  {
   "cell_type": "markdown",
   "metadata": {},
   "source": [
    "- Remove @[someone] - Done\n",
    "- Remove string 'RT'- Done\n",
    "- Remove new line - Done\n",
    "- Remove punctuation (Remove # only; keep the string) - Done\n",
    "- Remove links to http - Done\n",
    "- Replace emojis by description - Done\n",
    "- Remove text with numbers in them"
   ]
  },
  {
   "cell_type": "code",
   "execution_count": 35,
   "metadata": {},
   "outputs": [],
   "source": [
    "def pre_process_tweet (text):\n",
    "    #Remove all links starting with http...\n",
    "    text = re.sub('https?:\\/\\/.*[\\r\\n]*','',text)\n",
    "    #Remove RT\n",
    "    text = re.sub('^RT[\\s]+','',text)\n",
    "    #Remove @[User]\n",
    "    text = re.sub('@[^ ]+', '', text)\n",
    "    #Remove Punctuation first\n",
    "    text = text.translate(str.maketrans('','', string.punctuation))\n",
    "    #Convert text to lower case\n",
    "    text = text.lower()\n",
    "    #Removing any text with numbers\n",
    "    text = re.sub('[0-9]+.+ ','',text)\n",
    "    #Remove new line\n",
    "    text = re.sub('\\n',' ',text)\n",
    "    #Reducing whitespaces to one everywhere\n",
    "    text = re.sub('\\s+',' ',text)\n",
    "    \n",
    "    return text"
   ]
  },
  {
   "cell_type": "code",
   "execution_count": 36,
   "metadata": {},
   "outputs": [],
   "source": [
    "unproc_data = pd.read_csv(data_path['File Path'][0],index_col=0)"
   ]
  },
  {
   "cell_type": "code",
   "execution_count": 37,
   "metadata": {},
   "outputs": [
    {
     "name": "stdout",
     "output_type": "stream",
     "text": [
      "Iae galera, estão acompanhando essa alta no mercado? \n",
      "#Bitcoin só está fazendo a gente criar mais expectativa em haha\n",
      "\n",
      "#32K 🚀 #criptomoedas\n"
     ]
    }
   ],
   "source": [
    "print(unproc_data['text'][2])"
   ]
  },
  {
   "cell_type": "code",
   "execution_count": 38,
   "metadata": {},
   "outputs": [
    {
     "data": {
      "text/plain": [
       "'iae galera estão acompanhando essa alta no mercado bitcoin só está fazendo a gente criar mais expectativa em haha criptomoedas'"
      ]
     },
     "execution_count": 38,
     "metadata": {},
     "output_type": "execute_result"
    }
   ],
   "source": [
    "pre_process_tweet(unproc_data['text'][2])"
   ]
  },
  {
   "cell_type": "code",
   "execution_count": 39,
   "metadata": {},
   "outputs": [
    {
     "name": "stdout",
     "output_type": "stream",
     "text": [
      "iae galera estão acompanhando essa alta no mercado bitcoin só está fazendo a gente criar mais expectativa em haha criptomoedas\n"
     ]
    }
   ],
   "source": [
    "text2 = demoji.replace_with_desc((pre_process_tweet(unproc_data['text'][2])),sep=' ')\n",
    "print(text2)"
   ]
  }
 ],
 "metadata": {
  "kernelspec": {
   "display_name": "Python 3.9.7 ('mur_crypto')",
   "language": "python",
   "name": "python3"
  },
  "language_info": {
   "codemirror_mode": {
    "name": "ipython",
    "version": 3
   },
   "file_extension": ".py",
   "mimetype": "text/x-python",
   "name": "python",
   "nbconvert_exporter": "python",
   "pygments_lexer": "ipython3",
   "version": "3.9.7"
  },
  "orig_nbformat": 4,
  "vscode": {
   "interpreter": {
    "hash": "b53b091cc85369d249142c2ecf8fb385e0b27344d38639b33ddc7a65e46c558b"
   }
  }
 },
 "nbformat": 4,
 "nbformat_minor": 2
}
