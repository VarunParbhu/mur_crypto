{
 "cells": [
  {
   "cell_type": "code",
   "execution_count": 41,
   "metadata": {},
   "outputs": [],
   "source": [
    "import os\n",
    "import pandas as pd\n",
    "import numpy as np\n",
    "import re\n",
    "import string"
   ]
  },
  {
   "cell_type": "code",
   "execution_count": 5,
   "metadata": {},
   "outputs": [],
   "source": [
    "data_path = os.listdir('Datasets/Tweet Data')\n",
    "data_path.sort()\n",
    "data_path = ['Datasets/Tweet Data/{}'.format(file) for file in data_path]\n",
    "data_path = pd.DataFrame(data_path,columns=['File Path'])\n",
    "\n",
    "try:\n",
    "    data_path = pd.concat([data_path,pd.DataFrame(data_path['File Path'].str.split(r'_',expand=True)[2])],axis=1)\n",
    "    data_path = pd.concat([data_path,data_path[2].str.split(r'\\.',expand=True)],axis=1,)\n",
    "    data_path = data_path[['File Path',0]]\n",
    "    data_path.columns = ['File Path', 'Counter']\n",
    "    data_path['Counter'] = data_path['Counter'].apply(lambda x: int(x))\n",
    "    \n",
    "except:\n",
    "    print('error')\n",
    "\n"
   ]
  },
  {
   "cell_type": "code",
   "execution_count": 6,
   "metadata": {},
   "outputs": [
    {
     "name": "stdout",
     "output_type": "stream",
     "text": [
      "0 1440 (19357, 11)\n"
     ]
    }
   ],
   "source": [
    "for i,file in enumerate(data_path.values):\n",
    "    if np.mod(file[1],1440)==0:\n",
    "        print(i,file[1],pd.read_csv(file[0],index_col=0).shape)"
   ]
  },
  {
   "cell_type": "markdown",
   "metadata": {},
   "source": [
    "- Remove @[someone]\n",
    "- Remove string 'RT'\n",
    "- Remove punctuation (Remove # only; keep the string)\n",
    "- Remove New Lines\n",
    "- Remove links to http"
   ]
  },
  {
   "cell_type": "code",
   "execution_count": 76,
   "metadata": {},
   "outputs": [],
   "source": [
    "def pre_process_tweet (text):\n",
    "    #Remove all links starting with http...\n",
    "    text = re.sub('https?:\\/\\/.*[\\r\\n]*','',text)\n",
    "    #Remove RT\n",
    "    text = re.sub('^RT[\\s]+','',text)\n",
    "    #Remove @[User]\n",
    "    text = re.sub('@[^ ]+', '', text)\n",
    "    #Remove Punctuation first\n",
    "    text = text.translate(str.maketrans('','', string.punctuation))\n",
    "    #Convert text to lower case\n",
    "    text = text.lower()\n",
    "    return text"
   ]
  },
  {
   "cell_type": "code",
   "execution_count": 77,
   "metadata": {},
   "outputs": [],
   "source": [
    "unproc_data = pd.read_csv(data_path['File Path'][0],index_col=0)"
   ]
  },
  {
   "cell_type": "code",
   "execution_count": 78,
   "metadata": {},
   "outputs": [
    {
     "name": "stdout",
     "output_type": "stream",
     "text": [
      "RT @saylor: With USD prices increasing at the most rapid rate in 40 years, the @POTUS and @FederalReserve have both declared a \"laser focus…\n"
     ]
    },
    {
     "data": {
      "text/plain": [
       "' with usd prices increasing at the most rapid rate in 40 years the  and  have both declared a laser focus…'"
      ]
     },
     "execution_count": 78,
     "metadata": {},
     "output_type": "execute_result"
    }
   ],
   "source": [
    "print(unproc_data['text'][0])\n",
    "pre_process_tweet(unproc_data['text'][0])  "
   ]
  },
  {
   "cell_type": "code",
   "execution_count": null,
   "metadata": {},
   "outputs": [],
   "source": []
  }
 ],
 "metadata": {
  "kernelspec": {
   "display_name": "Python 3.10.5 ('deeplearning')",
   "language": "python",
   "name": "python3"
  },
  "language_info": {
   "codemirror_mode": {
    "name": "ipython",
    "version": 3
   },
   "file_extension": ".py",
   "mimetype": "text/x-python",
   "name": "python",
   "nbconvert_exporter": "python",
   "pygments_lexer": "ipython3",
   "version": "3.10.5"
  },
  "orig_nbformat": 4,
  "vscode": {
   "interpreter": {
    "hash": "6f5358f8af57545377d49830aee26a476233d785392da0c793d7e8a01afca8cd"
   }
  }
 },
 "nbformat": 4,
 "nbformat_minor": 2
}
