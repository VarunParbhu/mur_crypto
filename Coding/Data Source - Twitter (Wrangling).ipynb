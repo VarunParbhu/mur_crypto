{
 "cells": [
  {
   "cell_type": "code",
   "execution_count": 43,
   "metadata": {},
   "outputs": [],
   "source": [
    "import os\n",
    "import pandas as pd\n",
    "import numpy as np\n",
    "import re\n",
    "import string"
   ]
  },
  {
   "cell_type": "code",
   "execution_count": 44,
   "metadata": {},
   "outputs": [],
   "source": [
    "data_path = os.listdir('Datasets/Tweet Data')\n",
    "data_path.sort()\n",
    "data_path = ['Datasets/Tweet Data/{}'.format(file) for file in data_path]\n",
    "data_path = pd.DataFrame(data_path,columns=['File Path'])\n",
    "\n",
    "try:\n",
    "    data_path = pd.concat([data_path,pd.DataFrame(data_path['File Path'].str.split(r'_',expand=True)[2])],axis=1)\n",
    "    data_path = pd.concat([data_path,data_path[2].str.split(r'\\.',expand=True)],axis=1,)\n",
    "    data_path = data_path[['File Path',0]]\n",
    "    data_path.columns = ['File Path', 'Counter']\n",
    "    data_path['Counter'] = data_path['Counter'].apply(lambda x: int(x))\n",
    "    \n",
    "except:\n",
    "    print('error')"
   ]
  },
  {
   "cell_type": "code",
   "execution_count": 45,
   "metadata": {},
   "outputs": [
    {
     "name": "stdout",
     "output_type": "stream",
     "text": [
      "22 1440 (19357, 11)\n",
      "47 2880 (20904, 11)\n",
      "71 4320 (20553, 11)\n",
      "96 5760 (20568, 11)\n",
      "121 7200 (20319, 11)\n",
      "145 8640 (20308, 11)\n",
      "169 10080 (20598, 11)\n",
      "193 11520 (20454, 11)\n",
      "217 12960 (20477, 11)\n",
      "240 14400 (20265, 11)\n",
      "264 15840 (20371, 11)\n",
      "289 17280 (20204, 11)\n",
      "313 18720 (20368, 11)\n",
      "337 20160 (20563, 11)\n",
      "361 21600 (20744, 11)\n",
      "384 23040 (20156, 11)\n",
      "408 24480 (20535, 11)\n",
      "432 25920 (20602, 11)\n",
      "456 27360 (20306, 11)\n",
      "481 28800 (20125, 11)\n",
      "505 30240 (20490, 11)\n",
      "529 31680 (20497, 11)\n",
      "552 33120 (20452, 11)\n",
      "577 34560 (20588, 11)\n",
      "601 36000 (20356, 11)\n",
      "625 37440 (20595, 11)\n",
      "649 38880 (20556, 11)\n",
      "673 40320 (20648, 11)\n",
      "697 41760 (20663, 11)\n",
      "721 43200 (20452, 11)\n",
      "743 44640 (20173, 11)\n",
      "744 44640 (20187, 11)\n",
      "766 46080 (20411, 11)\n",
      "790 47520 (20572, 11)\n",
      "813 48960 (20270, 11)\n",
      "837 50400 (20156, 11)\n",
      "861 51840 (20398, 11)\n",
      "885 53280 (20335, 11)\n",
      "908 54720 (19922, 11)\n",
      "931 56160 (19966, 11)\n"
     ]
    }
   ],
   "source": [
    "from distutils.log import error\n",
    "\n",
    "\n",
    "for i,file in enumerate(data_path.values):\n",
    "    if np.mod(file[1],1440)==0:\n",
    "        try:\n",
    "            print(i,file[1],pd.read_csv(file[0],engine='python',index_col=0).shape)\n",
    "        except error as e:\n",
    "            print(e)"
   ]
  },
  {
   "cell_type": "markdown",
   "metadata": {},
   "source": [
    "- Remove @[someone]\n",
    "- Remove string 'RT'\n",
    "- Remove punctuation (Remove # only; keep the string)\n",
    "- Remove New Lines\n",
    "- Remove links to http"
   ]
  },
  {
   "cell_type": "code",
   "execution_count": 46,
   "metadata": {},
   "outputs": [],
   "source": [
    "def pre_process_tweet (text):\n",
    "    #Remove all links starting with http...\n",
    "    text = re.sub('https?:\\/\\/.*[\\r\\n]*','',text)\n",
    "    #Remove RT\n",
    "    text = re.sub('^RT[\\s]+','',text)\n",
    "    #Remove @[User]\n",
    "    text = re.sub('@[^ ]+', '', text)\n",
    "    #Remove Punctuation first\n",
    "    text = text.translate(str.maketrans('','', string.punctuation))\n",
    "    #Convert text to lower case\n",
    "    text = text.lower()\n",
    "    return text"
   ]
  },
  {
   "cell_type": "code",
   "execution_count": 47,
   "metadata": {},
   "outputs": [],
   "source": [
    "unproc_data = pd.read_csv(data_path['File Path'][0],index_col=0)"
   ]
  },
  {
   "cell_type": "code",
   "execution_count": 48,
   "metadata": {},
   "outputs": [
    {
     "name": "stdout",
     "output_type": "stream",
     "text": [
      "📈Analysis June 01th📈\n",
      "\n",
      "The current price of $BTC is 31817.14$ (⬆0.35%), and its dominance is 41.73%. \n",
      "\n",
      "The market sentiment is at 17 points [💀Extreme Fear]. \n",
      "\n",
      "Total #crypto market cap is 💰1.45 trillion $💰 approx.\n",
      "\n",
      "#bitcoin https://t.co/EihSOAU9jp\n"
     ]
    }
   ],
   "source": [
    "print(unproc_data['text'][0])"
   ]
  },
  {
   "cell_type": "code",
   "execution_count": 51,
   "metadata": {},
   "outputs": [
    {
     "data": {
      "text/plain": [
       "'📈analysis june 01th📈\\n\\nthe current price of btc is 3181714 ⬆035 and its dominance is 4173 \\n\\nthe market sentiment is at 17 points 💀extreme fear \\n\\ntotal crypto market cap is 💰145 trillion 💰 approx\\n\\nbitcoin '"
      ]
     },
     "execution_count": 51,
     "metadata": {},
     "output_type": "execute_result"
    }
   ],
   "source": [
    "pre_process_tweet(unproc_data['text'][0])"
   ]
  },
  {
   "cell_type": "code",
   "execution_count": null,
   "metadata": {},
   "outputs": [],
   "source": []
  }
 ],
 "metadata": {
  "kernelspec": {
   "display_name": "Python 3.9.7 ('base')",
   "language": "python",
   "name": "python3"
  },
  "language_info": {
   "codemirror_mode": {
    "name": "ipython",
    "version": 3
   },
   "file_extension": ".py",
   "mimetype": "text/x-python",
   "name": "python",
   "nbconvert_exporter": "python",
   "pygments_lexer": "ipython3",
   "version": "3.9.7"
  },
  "orig_nbformat": 4,
  "vscode": {
   "interpreter": {
    "hash": "40d3a090f54c6569ab1632332b64b2c03c39dcf918b08424e98f38b5ae0af88f"
   }
  }
 },
 "nbformat": 4,
 "nbformat_minor": 2
}
