{
 "cells": [
  {
   "cell_type": "markdown",
   "metadata": {},
   "source": [
    "- Create function to apply "
   ]
  },
  {
   "cell_type": "code",
   "execution_count": 26,
   "metadata": {},
   "outputs": [],
   "source": [
    "import os\n",
    "import re\n",
    "import shutil\n",
    "import string\n",
    "\n",
    "import demoji\n",
    "import numpy as np\n",
    "import pandas as pd\n",
    "import spacy\n",
    "import en_core_web_sm\n",
    "from matplotlib import pyplot as plt\n",
    "from spacy.language import Language\n",
    "from spacy_langdetect import LanguageDetector"
   ]
  },
  {
   "cell_type": "code",
   "execution_count": 2,
   "metadata": {},
   "outputs": [],
   "source": [
    "# Listing all file paths in the Tweet Data folder \n",
    "data_path = os.listdir('Datasets/Tweet Data')\n",
    "data_path.sort()\n",
    "data_path = ['Datasets/Tweet Data/{}'.format(file) for file in data_path]\n",
    "data_path = pd.DataFrame(data_path,columns=['File Path'])\n",
    "\n",
    "# Getting the counter from the file name in to the dataframe\n",
    "try:\n",
    "    data_path = pd.concat([data_path,pd.DataFrame(data_path['File Path'].str.split(r'_',expand=True)[2])],axis=1)\n",
    "    data_path = pd.concat([data_path,data_path[2].str.split(r'\\.',expand=True)],axis=1,)\n",
    "    data_path = data_path[['File Path',0]]\n",
    "    data_path.columns = ['File Path', 'Counter']\n",
    "    data_path['Counter'] = data_path['Counter'].apply(lambda x: int(x))\n",
    "    \n",
    "except:\n",
    "    print('error')"
   ]
  },
  {
   "cell_type": "code",
   "execution_count": 10,
   "metadata": {},
   "outputs": [
    {
     "name": "stdout",
     "output_type": "stream",
     "text": [
      "1 22 1440 (19357, 11)\n",
      "2 47 2880 (20904, 11)\n",
      "3 71 4320 (20553, 11)\n",
      "4 96 5760 (20568, 11)\n",
      "5 121 7200 (20319, 11)\n",
      "6 145 8640 (20308, 11)\n",
      "7 169 10080 (20598, 11)\n",
      "8 193 11520 (20454, 11)\n",
      "9 217 12960 (20477, 11)\n",
      "10 240 14400 (20265, 11)\n",
      "11 264 15840 (20371, 11)\n",
      "12 289 17280 (20204, 11)\n",
      "13 313 18720 (20368, 11)\n",
      "14 337 20160 (20563, 11)\n",
      "15 361 21600 (20744, 11)\n",
      "16 384 23040 (20156, 11)\n",
      "17 408 24480 (20535, 11)\n",
      "18 432 25920 (20602, 11)\n",
      "19 456 27360 (20306, 11)\n",
      "20 481 28800 (20125, 11)\n",
      "21 505 30240 (20490, 11)\n",
      "22 529 31680 (20497, 11)\n",
      "23 552 33120 (20452, 11)\n",
      "24 577 34560 (20588, 11)\n",
      "25 601 36000 (20356, 11)\n",
      "26 625 37440 (20595, 11)\n",
      "27 649 38880 (20556, 11)\n",
      "28 673 40320 (20648, 11)\n",
      "29 697 41760 (20663, 11)\n",
      "30 721 43200 (20452, 11)\n",
      "31 743 44640 (20173, 11)\n",
      "32 744 44640 (20187, 11)\n",
      "33 766 46080 (20411, 11)\n",
      "34 790 47520 (20572, 11)\n",
      "35 813 48960 (20270, 11)\n",
      "36 837 50400 (20156, 11)\n",
      "37 861 51840 (20398, 11)\n",
      "38 885 53280 (20335, 11)\n",
      "39 908 54720 (19922, 11)\n",
      "40 931 56160 (19966, 11)\n",
      "41 956 57600 (20128, 11)\n",
      "42 980 59040 (20582, 11)\n",
      "43 1004 60480 (20409, 11)\n",
      "44 1028 61920 (20406, 11)\n"
     ]
    }
   ],
   "source": [
    "# Reading the shape of the relevant excel sheet\n",
    "\n",
    "from distutils.log import error\n",
    "day = 0\n",
    "\n",
    "for i,file in enumerate(data_path.values):\n",
    "    if np.mod(file[1],1440)==0:\n",
    "        try:\n",
    "            day +=1\n",
    "            print(day,i,file[1],pd.read_csv(file[0],engine='python',index_col=0).shape)\n",
    "            shutil.copy(file[0],'Datasets/Daily Tweet Data/{}.csv'.format(day))\n",
    "        except error as e:\n",
    "            print(e)"
   ]
  },
  {
   "cell_type": "code",
   "execution_count": 37,
   "metadata": {},
   "outputs": [],
   "source": [
    "pritspacy.util.get_data_path()"
   ]
  },
  {
   "cell_type": "code",
   "execution_count": 29,
   "metadata": {},
   "outputs": [
    {
     "ename": "OSError",
     "evalue": "[E049] Can't find spaCy data directory: 'None'. Check your installation and permissions, or use spacy.util.set_data_path to customise the location if necessary.",
     "output_type": "error",
     "traceback": [
      "\u001b[0;31m---------------------------------------------------------------------------\u001b[0m",
      "\u001b[0;31mOSError\u001b[0m                                   Traceback (most recent call last)",
      "\u001b[1;32m/Users/varunparbhu/Documents/Notes/MSc/University of Mauritius/Dissertation/Git-Repo/mur-crypto/Coding/Data Source - Twitter (Wrangling).ipynb Cell 6\u001b[0m in \u001b[0;36m<cell line: 5>\u001b[0;34m()\u001b[0m\n\u001b[1;32m      <a href='vscode-notebook-cell:/Users/varunparbhu/Documents/Notes/MSc/University%20of%20Mauritius/Dissertation/Git-Repo/mur-crypto/Coding/Data%20Source%20-%20Twitter%20%28Wrangling%29.ipynb#W6sZmlsZQ%3D%3D?line=1'>2</a>\u001b[0m    \u001b[39mreturn\u001b[39;00m LanguageDetector()\n\u001b[1;32m      <a href='vscode-notebook-cell:/Users/varunparbhu/Documents/Notes/MSc/University%20of%20Mauritius/Dissertation/Git-Repo/mur-crypto/Coding/Data%20Source%20-%20Twitter%20%28Wrangling%29.ipynb#W6sZmlsZQ%3D%3D?line=3'>4</a>\u001b[0m spacy\u001b[39m.\u001b[39mutil\u001b[39m.\u001b[39mset_data_path \u001b[39m=\u001b[39m \u001b[39mr\u001b[39m\u001b[39m'\u001b[39m\u001b[39m/Users/varunparbhu/python_virtual_env/mur_crypto/lib/python3.9/en_core_web_sm\u001b[39m\u001b[39m'\u001b[39m\n\u001b[0;32m----> <a href='vscode-notebook-cell:/Users/varunparbhu/Documents/Notes/MSc/University%20of%20Mauritius/Dissertation/Git-Repo/mur-crypto/Coding/Data%20Source%20-%20Twitter%20%28Wrangling%29.ipynb#W6sZmlsZQ%3D%3D?line=4'>5</a>\u001b[0m nlp \u001b[39m=\u001b[39m spacy\u001b[39m.\u001b[39;49mload(\u001b[39m\"\u001b[39;49m\u001b[39men_core_web_sm\u001b[39;49m\u001b[39m\"\u001b[39;49m)\n\u001b[1;32m      <a href='vscode-notebook-cell:/Users/varunparbhu/Documents/Notes/MSc/University%20of%20Mauritius/Dissertation/Git-Repo/mur-crypto/Coding/Data%20Source%20-%20Twitter%20%28Wrangling%29.ipynb#W6sZmlsZQ%3D%3D?line=5'>6</a>\u001b[0m Language\u001b[39m.\u001b[39mfactory(\u001b[39m\"\u001b[39m\u001b[39mlanguage_detector\u001b[39m\u001b[39m\"\u001b[39m, func \u001b[39m=\u001b[39m get_lang_detector)\n\u001b[1;32m      <a href='vscode-notebook-cell:/Users/varunparbhu/Documents/Notes/MSc/University%20of%20Mauritius/Dissertation/Git-Repo/mur-crypto/Coding/Data%20Source%20-%20Twitter%20%28Wrangling%29.ipynb#W6sZmlsZQ%3D%3D?line=6'>7</a>\u001b[0m nlp\u001b[39m.\u001b[39madd_pipe(\u001b[39m'\u001b[39m\u001b[39mlanguage_detector\u001b[39m\u001b[39m'\u001b[39m, last \u001b[39m=\u001b[39m \u001b[39mTrue\u001b[39;00m)\n",
      "File \u001b[0;32m~/python_virtual_env/mur_crypto/lib/python3.9/site-packages/spacy/__init__.py:30\u001b[0m, in \u001b[0;36mload\u001b[0;34m(name, **overrides)\u001b[0m\n\u001b[1;32m     28\u001b[0m \u001b[39mif\u001b[39;00m depr_path \u001b[39mnot\u001b[39;00m \u001b[39min\u001b[39;00m (\u001b[39mTrue\u001b[39;00m, \u001b[39mFalse\u001b[39;00m, \u001b[39mNone\u001b[39;00m):\n\u001b[1;32m     29\u001b[0m     warnings\u001b[39m.\u001b[39mwarn(Warnings\u001b[39m.\u001b[39mW001\u001b[39m.\u001b[39mformat(path\u001b[39m=\u001b[39mdepr_path), \u001b[39mDeprecationWarning\u001b[39;00m)\n\u001b[0;32m---> 30\u001b[0m \u001b[39mreturn\u001b[39;00m util\u001b[39m.\u001b[39;49mload_model(name, \u001b[39m*\u001b[39;49m\u001b[39m*\u001b[39;49moverrides)\n",
      "File \u001b[0;32m~/python_virtual_env/mur_crypto/lib/python3.9/site-packages/spacy/util.py:163\u001b[0m, in \u001b[0;36mload_model\u001b[0;34m(name, **overrides)\u001b[0m\n\u001b[1;32m    161\u001b[0m data_path \u001b[39m=\u001b[39m get_data_path()\n\u001b[1;32m    162\u001b[0m \u001b[39mif\u001b[39;00m \u001b[39mnot\u001b[39;00m data_path \u001b[39mor\u001b[39;00m \u001b[39mnot\u001b[39;00m data_path\u001b[39m.\u001b[39mexists():\n\u001b[0;32m--> 163\u001b[0m     \u001b[39mraise\u001b[39;00m \u001b[39mIOError\u001b[39;00m(Errors\u001b[39m.\u001b[39mE049\u001b[39m.\u001b[39mformat(path\u001b[39m=\u001b[39mpath2str(data_path)))\n\u001b[1;32m    164\u001b[0m \u001b[39mif\u001b[39;00m \u001b[39misinstance\u001b[39m(name, basestring_):  \u001b[39m# in data dir / shortcut\u001b[39;00m\n\u001b[1;32m    165\u001b[0m     \u001b[39mif\u001b[39;00m name\u001b[39m.\u001b[39mstartswith(\u001b[39m\"\u001b[39m\u001b[39mblank:\u001b[39m\u001b[39m\"\u001b[39m):  \u001b[39m# shortcut for blank model\u001b[39;00m\n",
      "\u001b[0;31mOSError\u001b[0m: [E049] Can't find spaCy data directory: 'None'. Check your installation and permissions, or use spacy.util.set_data_path to customise the location if necessary."
     ]
    }
   ],
   "source": [
    "def get_lang_detector(nlp, name):\n",
    "   return LanguageDetector()\n",
    "\n",
    "spacy.util.set_data_path = r'/Users/varunparbhu/python_virtual_env/mur_crypto/lib/python3.9/en_core_web_sm'\n",
    "nlp = spacy.load(\"en_core_web_sm\")\n",
    "Language.factory(\"language_detector\", func = get_lang_detector)\n",
    "nlp.add_pipe('language_detector', last = True)"
   ]
  },
  {
   "cell_type": "code",
   "execution_count": 12,
   "metadata": {},
   "outputs": [],
   "source": [
    "def tweet_language(tweet):\n",
    "    document = nlp(tweet)\n",
    "    return document._.language['language']"
   ]
  },
  {
   "cell_type": "code",
   "execution_count": 13,
   "metadata": {},
   "outputs": [],
   "source": [
    "data = pd.read_csv(data_path['File Path'][22],engine='python',index_col=0)"
   ]
  },
  {
   "cell_type": "code",
   "execution_count": 14,
   "metadata": {},
   "outputs": [
    {
     "ename": "KeyError",
     "evalue": "'clean_tweet'",
     "output_type": "error",
     "traceback": [
      "\u001b[0;31m---------------------------------------------------------------------------\u001b[0m",
      "\u001b[0;31mKeyError\u001b[0m                                  Traceback (most recent call last)",
      "File \u001b[0;32m~/python_virtual_env/mur_crypto/lib/python3.9/site-packages/pandas/core/indexes/base.py:3621\u001b[0m, in \u001b[0;36mIndex.get_loc\u001b[0;34m(self, key, method, tolerance)\u001b[0m\n\u001b[1;32m   3620\u001b[0m \u001b[39mtry\u001b[39;00m:\n\u001b[0;32m-> 3621\u001b[0m     \u001b[39mreturn\u001b[39;00m \u001b[39mself\u001b[39;49m\u001b[39m.\u001b[39;49m_engine\u001b[39m.\u001b[39;49mget_loc(casted_key)\n\u001b[1;32m   3622\u001b[0m \u001b[39mexcept\u001b[39;00m \u001b[39mKeyError\u001b[39;00m \u001b[39mas\u001b[39;00m err:\n",
      "File \u001b[0;32mpandas/_libs/index.pyx:136\u001b[0m, in \u001b[0;36mpandas._libs.index.IndexEngine.get_loc\u001b[0;34m()\u001b[0m\n",
      "File \u001b[0;32mpandas/_libs/index.pyx:163\u001b[0m, in \u001b[0;36mpandas._libs.index.IndexEngine.get_loc\u001b[0;34m()\u001b[0m\n",
      "File \u001b[0;32mpandas/_libs/hashtable_class_helper.pxi:5198\u001b[0m, in \u001b[0;36mpandas._libs.hashtable.PyObjectHashTable.get_item\u001b[0;34m()\u001b[0m\n",
      "File \u001b[0;32mpandas/_libs/hashtable_class_helper.pxi:5206\u001b[0m, in \u001b[0;36mpandas._libs.hashtable.PyObjectHashTable.get_item\u001b[0;34m()\u001b[0m\n",
      "\u001b[0;31mKeyError\u001b[0m: 'clean_tweet'",
      "\nThe above exception was the direct cause of the following exception:\n",
      "\u001b[0;31mKeyError\u001b[0m                                  Traceback (most recent call last)",
      "\u001b[1;32m/Users/varunparbhu/Documents/Notes/MSc/University of Mauritius/Dissertation/Git-Repo/mur-crypto/Coding/Data Source - Twitter (Wrangling).ipynb Cell 8\u001b[0m in \u001b[0;36m<cell line: 1>\u001b[0;34m()\u001b[0m\n\u001b[0;32m----> <a href='vscode-notebook-cell:/Users/varunparbhu/Documents/Notes/MSc/University%20of%20Mauritius/Dissertation/Git-Repo/mur-crypto/Coding/Data%20Source%20-%20Twitter%20%28Wrangling%29.ipynb#X14sZmlsZQ%3D%3D?line=0'>1</a>\u001b[0m data[\u001b[39m'\u001b[39m\u001b[39mlang\u001b[39m\u001b[39m'\u001b[39m] \u001b[39m=\u001b[39m data[\u001b[39m'\u001b[39;49m\u001b[39mclean_tweet\u001b[39;49m\u001b[39m'\u001b[39;49m]\u001b[39m.\u001b[39mapply(tweet_language)\n",
      "File \u001b[0;32m~/python_virtual_env/mur_crypto/lib/python3.9/site-packages/pandas/core/frame.py:3505\u001b[0m, in \u001b[0;36mDataFrame.__getitem__\u001b[0;34m(self, key)\u001b[0m\n\u001b[1;32m   3503\u001b[0m \u001b[39mif\u001b[39;00m \u001b[39mself\u001b[39m\u001b[39m.\u001b[39mcolumns\u001b[39m.\u001b[39mnlevels \u001b[39m>\u001b[39m \u001b[39m1\u001b[39m:\n\u001b[1;32m   3504\u001b[0m     \u001b[39mreturn\u001b[39;00m \u001b[39mself\u001b[39m\u001b[39m.\u001b[39m_getitem_multilevel(key)\n\u001b[0;32m-> 3505\u001b[0m indexer \u001b[39m=\u001b[39m \u001b[39mself\u001b[39;49m\u001b[39m.\u001b[39;49mcolumns\u001b[39m.\u001b[39;49mget_loc(key)\n\u001b[1;32m   3506\u001b[0m \u001b[39mif\u001b[39;00m is_integer(indexer):\n\u001b[1;32m   3507\u001b[0m     indexer \u001b[39m=\u001b[39m [indexer]\n",
      "File \u001b[0;32m~/python_virtual_env/mur_crypto/lib/python3.9/site-packages/pandas/core/indexes/base.py:3623\u001b[0m, in \u001b[0;36mIndex.get_loc\u001b[0;34m(self, key, method, tolerance)\u001b[0m\n\u001b[1;32m   3621\u001b[0m     \u001b[39mreturn\u001b[39;00m \u001b[39mself\u001b[39m\u001b[39m.\u001b[39m_engine\u001b[39m.\u001b[39mget_loc(casted_key)\n\u001b[1;32m   3622\u001b[0m \u001b[39mexcept\u001b[39;00m \u001b[39mKeyError\u001b[39;00m \u001b[39mas\u001b[39;00m err:\n\u001b[0;32m-> 3623\u001b[0m     \u001b[39mraise\u001b[39;00m \u001b[39mKeyError\u001b[39;00m(key) \u001b[39mfrom\u001b[39;00m \u001b[39merr\u001b[39;00m\n\u001b[1;32m   3624\u001b[0m \u001b[39mexcept\u001b[39;00m \u001b[39mTypeError\u001b[39;00m:\n\u001b[1;32m   3625\u001b[0m     \u001b[39m# If we have a listlike key, _check_indexing_error will raise\u001b[39;00m\n\u001b[1;32m   3626\u001b[0m     \u001b[39m#  InvalidIndexError. Otherwise we fall through and re-raise\u001b[39;00m\n\u001b[1;32m   3627\u001b[0m     \u001b[39m#  the TypeError.\u001b[39;00m\n\u001b[1;32m   3628\u001b[0m     \u001b[39mself\u001b[39m\u001b[39m.\u001b[39m_check_indexing_error(key)\n",
      "\u001b[0;31mKeyError\u001b[0m: 'clean_tweet'"
     ]
    }
   ],
   "source": [
    "data['lang'] = data['clean_tweet'].apply(tweet_language)"
   ]
  },
  {
   "cell_type": "code",
   "execution_count": 249,
   "metadata": {},
   "outputs": [
    {
     "data": {
      "text/plain": [
       "<BarContainer object of 10 artists>"
      ]
     },
     "execution_count": 249,
     "metadata": {},
     "output_type": "execute_result"
    },
    {
     "data": {
      "image/png": "[encoded data removed]",
      "text/plain": [
       "<Figure size 432x288 with 1 Axes>"
      ]
     },
     "metadata": {
      "needs_background": "light"
     },
     "output_type": "display_data"
    }
   ],
   "source": [
    "plt.bar(height = data['lang'].value_counts().values[:10],x=data['lang'].value_counts().index[:10])"
   ]
  },
  {
   "cell_type": "code",
   "execution_count": 15,
   "metadata": {},
   "outputs": [
    {
     "ename": "KeyError",
     "evalue": "'lang'",
     "output_type": "error",
     "traceback": [
      "\u001b[0;31m---------------------------------------------------------------------------\u001b[0m",
      "\u001b[0;31mKeyError\u001b[0m                                  Traceback (most recent call last)",
      "File \u001b[0;32m~/python_virtual_env/mur_crypto/lib/python3.9/site-packages/pandas/core/indexes/base.py:3621\u001b[0m, in \u001b[0;36mIndex.get_loc\u001b[0;34m(self, key, method, tolerance)\u001b[0m\n\u001b[1;32m   3620\u001b[0m \u001b[39mtry\u001b[39;00m:\n\u001b[0;32m-> 3621\u001b[0m     \u001b[39mreturn\u001b[39;00m \u001b[39mself\u001b[39;49m\u001b[39m.\u001b[39;49m_engine\u001b[39m.\u001b[39;49mget_loc(casted_key)\n\u001b[1;32m   3622\u001b[0m \u001b[39mexcept\u001b[39;00m \u001b[39mKeyError\u001b[39;00m \u001b[39mas\u001b[39;00m err:\n",
      "File \u001b[0;32mpandas/_libs/index.pyx:136\u001b[0m, in \u001b[0;36mpandas._libs.index.IndexEngine.get_loc\u001b[0;34m()\u001b[0m\n",
      "File \u001b[0;32mpandas/_libs/index.pyx:163\u001b[0m, in \u001b[0;36mpandas._libs.index.IndexEngine.get_loc\u001b[0;34m()\u001b[0m\n",
      "File \u001b[0;32mpandas/_libs/hashtable_class_helper.pxi:5198\u001b[0m, in \u001b[0;36mpandas._libs.hashtable.PyObjectHashTable.get_item\u001b[0;34m()\u001b[0m\n",
      "File \u001b[0;32mpandas/_libs/hashtable_class_helper.pxi:5206\u001b[0m, in \u001b[0;36mpandas._libs.hashtable.PyObjectHashTable.get_item\u001b[0;34m()\u001b[0m\n",
      "\u001b[0;31mKeyError\u001b[0m: 'lang'",
      "\nThe above exception was the direct cause of the following exception:\n",
      "\u001b[0;31mKeyError\u001b[0m                                  Traceback (most recent call last)",
      "\u001b[1;32m/Users/varunparbhu/Documents/Notes/MSc/University of Mauritius/Dissertation/Git-Repo/mur-crypto/Coding/Data Source - Twitter (Wrangling).ipynb Cell 10\u001b[0m in \u001b[0;36m<cell line: 1>\u001b[0;34m()\u001b[0m\n\u001b[0;32m----> <a href='vscode-notebook-cell:/Users/varunparbhu/Documents/Notes/MSc/University%20of%20Mauritius/Dissertation/Git-Repo/mur-crypto/Coding/Data%20Source%20-%20Twitter%20%28Wrangling%29.ipynb#X16sZmlsZQ%3D%3D?line=0'>1</a>\u001b[0m data[\u001b[39m'\u001b[39;49m\u001b[39mlang\u001b[39;49m\u001b[39m'\u001b[39;49m]\u001b[39m.\u001b[39mvalue_counts()\u001b[39m.\u001b[39mindex\n",
      "File \u001b[0;32m~/python_virtual_env/mur_crypto/lib/python3.9/site-packages/pandas/core/frame.py:3505\u001b[0m, in \u001b[0;36mDataFrame.__getitem__\u001b[0;34m(self, key)\u001b[0m\n\u001b[1;32m   3503\u001b[0m \u001b[39mif\u001b[39;00m \u001b[39mself\u001b[39m\u001b[39m.\u001b[39mcolumns\u001b[39m.\u001b[39mnlevels \u001b[39m>\u001b[39m \u001b[39m1\u001b[39m:\n\u001b[1;32m   3504\u001b[0m     \u001b[39mreturn\u001b[39;00m \u001b[39mself\u001b[39m\u001b[39m.\u001b[39m_getitem_multilevel(key)\n\u001b[0;32m-> 3505\u001b[0m indexer \u001b[39m=\u001b[39m \u001b[39mself\u001b[39;49m\u001b[39m.\u001b[39;49mcolumns\u001b[39m.\u001b[39;49mget_loc(key)\n\u001b[1;32m   3506\u001b[0m \u001b[39mif\u001b[39;00m is_integer(indexer):\n\u001b[1;32m   3507\u001b[0m     indexer \u001b[39m=\u001b[39m [indexer]\n",
      "File \u001b[0;32m~/python_virtual_env/mur_crypto/lib/python3.9/site-packages/pandas/core/indexes/base.py:3623\u001b[0m, in \u001b[0;36mIndex.get_loc\u001b[0;34m(self, key, method, tolerance)\u001b[0m\n\u001b[1;32m   3621\u001b[0m     \u001b[39mreturn\u001b[39;00m \u001b[39mself\u001b[39m\u001b[39m.\u001b[39m_engine\u001b[39m.\u001b[39mget_loc(casted_key)\n\u001b[1;32m   3622\u001b[0m \u001b[39mexcept\u001b[39;00m \u001b[39mKeyError\u001b[39;00m \u001b[39mas\u001b[39;00m err:\n\u001b[0;32m-> 3623\u001b[0m     \u001b[39mraise\u001b[39;00m \u001b[39mKeyError\u001b[39;00m(key) \u001b[39mfrom\u001b[39;00m \u001b[39merr\u001b[39;00m\n\u001b[1;32m   3624\u001b[0m \u001b[39mexcept\u001b[39;00m \u001b[39mTypeError\u001b[39;00m:\n\u001b[1;32m   3625\u001b[0m     \u001b[39m# If we have a listlike key, _check_indexing_error will raise\u001b[39;00m\n\u001b[1;32m   3626\u001b[0m     \u001b[39m#  InvalidIndexError. Otherwise we fall through and re-raise\u001b[39;00m\n\u001b[1;32m   3627\u001b[0m     \u001b[39m#  the TypeError.\u001b[39;00m\n\u001b[1;32m   3628\u001b[0m     \u001b[39mself\u001b[39m\u001b[39m.\u001b[39m_check_indexing_error(key)\n",
      "\u001b[0;31mKeyError\u001b[0m: 'lang'"
     ]
    }
   ],
   "source": [
    "data['lang'].value_counts().index"
   ]
  },
  {
   "cell_type": "markdown",
   "metadata": {},
   "source": [
    "- Remove @[someone] - Done\n",
    "- Remove string 'RT'- Done\n",
    "- Remove new line - Done\n",
    "- Remove punctuation (Remove # only; keep the string) - Done\n",
    "- Remove links to http - Done\n",
    "- Replace emojis by description - Done"
   ]
  },
  {
   "cell_type": "code",
   "execution_count": 242,
   "metadata": {},
   "outputs": [],
   "source": [
    "def pre_process_tweet (text):\n",
    "    #Remove all links starting with http...\n",
    "    text = re.sub('https?:\\/\\/.*[\\r\\n]*','',text)\n",
    "    #Remove RT\n",
    "    text = re.sub('^RT[\\s]+','',text)\n",
    "    #Remove @[User]\n",
    "    text = re.sub('@[^ ]+', '', text)\n",
    "    #Remove Punctuation first\n",
    "    text = text.translate(str.maketrans('','', string.punctuation))\n",
    "    #Convert text to lower case\n",
    "    text = text.lower()\n",
    "    #Removing any number\n",
    "    #text = re.sub('[0-9]+ ','',text)\n",
    "    #Removing any number with text\n",
    "    #text = re.sub('[0-9]+.+\\s*','',text)\n",
    "    text = re.sub(r'\\w*\\d\\w*', '', text).strip()\n",
    "    #Remove new line\n",
    "    text = re.sub('\\n',' ',text)\n",
    "    #Replace emojis with description\n",
    "    text = demoji.replace_with_desc(text,sep=' ')\n",
    "    #Reducing whitespaces to one everywhere\n",
    "    text = re.sub('\\s+',' ',text)\n",
    "    \n",
    "    return text"
   ]
  },
  {
   "cell_type": "code",
   "execution_count": 246,
   "metadata": {},
   "outputs": [],
   "source": [
    "data['clean_tweet'] = data['tweed_id'].apply(pre_process_tweet)"
   ]
  },
  {
   "cell_type": "code",
   "execution_count": 247,
   "metadata": {},
   "outputs": [
    {
     "name": "stdout",
     "output_type": "stream",
     "text": [
      "ORIGINAL: RT @saylor: With USD prices increasing at the most rapid rate in 40 years, the @POTUS and @FederalReserve have both declared a \"laser focus… \n",
      " PROCESSED: with usd prices increasing at the most rapid rate in years the and have both declared a laser focus… \n",
      " \n",
      "\n",
      "ORIGINAL: RT @KayonTai: 六一兒童節快樂🥳！！今天抽出三位大朋友送出各50USDT兒童節禮物💝，明日12點左右公佈。\n",
      "\n",
      "抽獎方式\n",
      "1⃣關注@KayonTai\n",
      "2⃣點讚轉發\n",
      "3⃣留下TRC20地址並@一位小朋友\n",
      "#BTC #Bitcoin #ETH #Ethereum http… \n",
      " PROCESSED: 六一兒童節快樂 partying face ！！ heart with ribbon ，。 抽獎方式 ⃣關注 bitcoin eth ethereum http… \n",
      " \n",
      "\n",
      "ORIGINAL: RT @AirdropStario: 💧 Binance Classic Airdrop 💧\n",
      "\n",
      "🏆 Task:          ➕  Up to 50 Million BNBC (~$100)\n",
      "\n",
      "👨‍👩‍👧 Referral:   ➕  15 Million BNBC(~$3… \n",
      " PROCESSED:  droplet binance classic airdrop droplet trophy task plus up to million bnbc family: man, woman, girl referral plus million … \n",
      " \n",
      "\n",
      "ORIGINAL: RT @Crypto12bill: Very high yield in a stable dollar, low risk. Legitimizing crypto spaces.#EverEarn is all Professionalism and integrity.… \n",
      " PROCESSED: very high yield in a stable dollar low risk legitimizing crypto spaceseverearn is all professionalism and integrity… \n",
      " \n",
      "\n",
      "ORIGINAL: RT @Itaicrypto: Guys in celebration of this amazing milestone I will do a #Giveaway to one peron that likes, follows and retweets the below… \n",
      " PROCESSED: guys in celebration of this amazing milestone i will do a giveaway to one peron that likes follows and retweets the below… \n",
      " \n",
      "\n",
      "ORIGINAL: RT @eisenreich: VeChain x PwC\n",
      "\n",
      "\"We integrated supply chain #controltower with #blockchain-based traceability applications gathering informa… \n",
      " PROCESSED: vechain x pwc we integrated supply chain controltower with blockchainbased traceability applications gathering informa… \n",
      " \n",
      "\n",
      "ORIGINAL: RT @pete_rizzo_: ✨ Nick Szabo explaining why it took decades to create #Bitcoin a decade ago https://t.co/w3RU1D5LH7 \n",
      " PROCESSED:  sparkles nick szabo explaining why it took decades to create bitcoin a decade ago \n",
      " \n",
      "\n",
      "ORIGINAL: RT @TiFiToken: Burn is coming❗❗⏲️\n",
      "\n",
      "#TiFiToken #TiFi #Binance #Bitcoin #DeFi #Crypto \n",
      " PROCESSED: burn is coming red exclamation mark red exclamation mark timer clock tifitoken tifi binance bitcoin defi crypto \n",
      " \n",
      "\n",
      "ORIGINAL: GM. A few comments on #bitcoin https://t.co/VoYIChVxgl \n",
      " PROCESSED: gm a few comments on bitcoin \n",
      " \n",
      "\n",
      "ORIGINAL: $PDEX project is stronger than $UNI $CAKE and $INCH all together 💎🚀\n",
      "\n",
      "#BITCOIN $BTC $ETH $MATIC $ADA $SOL $CEL $MKR $YFI $THETA $BNB $BCH $ETC $TRX $VRA $TRIAS $HOT $RUNE $HB https://t.co/JI6jRKPjJR \n",
      " PROCESSED: pdex project is stronger than uni cake and inch all together gem stone rocket bitcoin btc eth matic ada sol cel mkr yfi theta bnb bch etc trx vra trias hot rune hb \n",
      " \n",
      "\n"
     ]
    }
   ],
   "source": [
    "for i in range(10):\n",
    "    print(\"ORIGINAL: {} \\n PROCESSED: {} \\n \\n\".format(data['tweed_id'][i], data['clean_tweet'][i]))"
   ]
  }
 ],
 "metadata": {
  "kernelspec": {
   "display_name": "Python 3.9.7 ('mur_crypto')",
   "language": "python",
   "name": "python3"
  },
  "language_info": {
   "codemirror_mode": {
    "name": "ipython",
    "version": 3
   },
   "file_extension": ".py",
   "mimetype": "text/x-python",
   "name": "python",
   "nbconvert_exporter": "python",
   "pygments_lexer": "ipython3",
   "version": "3.9.7"
  },
  "orig_nbformat": 4,
  "vscode": {
   "interpreter": {
    "hash": "b53b091cc85369d249142c2ecf8fb385e0b27344d38639b33ddc7a65e46c558b"
   }
  }
 },
 "nbformat": 4,
 "nbformat_minor": 2
}
